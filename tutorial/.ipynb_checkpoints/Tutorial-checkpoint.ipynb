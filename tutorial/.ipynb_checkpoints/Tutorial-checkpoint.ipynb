{
 "metadata": {
  "name": ""
 },
 "nbformat": 3,
 "nbformat_minor": 0,
 "worksheets": [
  {
   "cells": [
    {
     "cell_type": "code",
     "collapsed": false,
     "input": [
      "from datetime import datetime,timedelta\n",
      "def parse(yr, doy, hr, min, sec):\n",
      "    dt = datetime(yr - 1, 12, 31)\n",
      "    delta = timedelta(days=doy, hours=hr,\n",
      "                      minutes=min, seconds=sec)\n",
      "    return dt + delta"
     ],
     "language": "python",
     "metadata": {},
     "outputs": [],
     "prompt_number": 6
    },
    {
     "cell_type": "code",
     "collapsed": false,
     "input": [
      "def importdict(Dict):\n",
      "    Dict.pop('__globals__')\n",
      "    Dict.pop('__header__')\n",
      "    Dict.pop('__version__')\n",
      "    DF=pd.DataFrame(Dict[Dict.keys()[1]])\n",
      "    for item in Dict:\n",
      "        DF[item]=Dict[item]\n",
      "    return DF\n",
      "\n",
      "\n"
     ],
     "language": "python",
     "metadata": {},
     "outputs": [],
     "prompt_number": 7
    },
    {
     "cell_type": "heading",
     "level": 1,
     "metadata": {},
     "source": [
      "Import data"
     ]
    },
    {
     "cell_type": "code",
     "collapsed": false,
     "input": [
      "import pandas as pd\n",
      "from scipy.io import loadmat\n",
      "SystemInfo=loadmat('SystemInformation.mat')\n",
      "SystemPerformance=loadmat('SystemPerformance.mat')\n",
      "WeatherData=loadmat('WeatherData.mat')\n",
      "                \n",
      "                        "
     ],
     "language": "python",
     "metadata": {},
     "outputs": [],
     "prompt_number": 8
    },
    {
     "cell_type": "code",
     "collapsed": false,
     "input": [
      "Weather=importdict(WeatherData)\n",
      "System=importdict(SystemPerformance)\n"
     ],
     "language": "python",
     "metadata": {},
     "outputs": [],
     "prompt_number": 9
    },
    {
     "cell_type": "code",
     "collapsed": false,
     "input": [
      "date=[]\n",
      "for pos in range(Weather.shape[0]):\n",
      "    date.append(parse(Weather.Year.astype(int).values[pos],\n",
      "          Weather.Days.astype(int).values[pos],\n",
      "          Weather.Hours.astype(int).values[pos],\n",
      "          Weather.Minutes.astype(int).values[pos],\n",
      "          Weather.Seconds.astype(int).values[pos]))\n",
      "\n",
      "Weather.index=pd.to_datetime(date)\n",
      "System.index=pd.to_datetime(date)\n",
      "Data=Weather.join(System,rsuffix='_sys')"
     ],
     "language": "python",
     "metadata": {},
     "outputs": [],
     "prompt_number": 10
    },
    {
     "cell_type": "code",
     "collapsed": false,
     "input": [
      "meta={'aziumth':0,\n",
      "      'tilt':35,\n",
      "      'parallelStrings':1,\n",
      "      'seriesModules':5,\n",
      "      'latitude':20,\n",
      "      'longitude':-160,\n",
      "      'TZ':-7}\n",
      "meta=pvlib.pvl_tools.repack(meta)\n",
      "      \n",
      "      \n"
     ],
     "language": "python",
     "metadata": {},
     "outputs": [],
     "prompt_number": 31
    },
    {
     "cell_type": "heading",
     "level": 1,
     "metadata": {},
     "source": [
      "Processing"
     ]
    },
    {
     "cell_type": "code",
     "collapsed": false,
     "input": [
      "import sys\n",
      "import os\n",
      "sys.path.append(os.path.abspath('../')) #append the parent directory to the system path\n",
      "import pvlib"
     ],
     "language": "python",
     "metadata": {},
     "outputs": [],
     "prompt_number": 32
    },
    {
     "cell_type": "code",
     "collapsed": false,
     "input": [
      "Data['SunAz'],Data['SunEl'],Data['ApparentSunEl'],Data['SolarTime'], Data['SunZen']=pvlib.pvl_ephemeris(Time=Data.index,Location=meta)\n",
      "Data['HExtra']=pvlib.pvl_extraradiation(doy=Data.index.dayofyear)\n",
      "Data['AM']=pvlib.pvl_relativeairmass(z=Data.SunZen)\n",
      "Data['AOI']=pvlib.pvl_getaoi(SunAz=Data.SunAz,SunZen=Data.SunZen,SurfTilt=meta.tilt,SurfAz=meta.aziumth)\n"
     ],
     "language": "python",
     "metadata": {},
     "outputs": [],
     "prompt_number": 36
    },
    {
     "cell_type": "code",
     "collapsed": false,
     "input": [
      "Panel_Tilt=40\n",
      "\n",
      "\n",
      "Data['In_Plane_SkyDiffuse']=pvlib.pvl_perez(SurfTilt=meta.SurfTilt,\n",
      "                                            SurfAz=meta.SurfAz,\n",
      "                                            DHI=Data['Diffuse horizontal irradiance (W/m2)'],\n",
      "                                            DNI=Data['Direct normal irradiance (W/m2)'],\n",
      "                                            HExtra=Data.HExtra,\n",
      "                                            SunZen=Data.SunZen,\n",
      "                                            SunAz=Data.SunAz,\n",
      "                                            AM=Data.AM)\n",
      "Data['GR']=pvlib.pvl_grounddiffuse(GHI=Data['Global horizontal irradiance (W/m2)'],Albedo=meta.Albedo,SurfTilt=meta.SurfTilt)\n",
      "\n",
      "Data['E'],Data['Eb'],Data['EDiff']=pvlib.pvl_globalinplane(AOI=Data.AOI,\n",
      "                                DNI=Data['Direct normal irradiance (W/m2)'],\n",
      "                                In_Plane_SkyDiffuse=Data.In_Plane_SkyDiffuse,\n",
      "                                GR=Data.GR,\n",
      "                                SurfTilt=meta.SurfTilt,\n",
      "                                SurfAz=meta.SurfAz)\n",
      "Data['Tcell'],Data['Tmodule']=pvlib.pvl_sapmcelltemp(E=Data.E,\n",
      "                            Wspd=3.5,\n",
      "                            Tamb=Data['Dry bulb temperature (degC)'])\n",
      "moddb=pvlib.pvl_retreiveSAM(name='SandiaMod')\n",
      "module=moddb.Canadian_Solar_CS5P_220M___2009_\n",
      "module.Isco=2.688\n",
      "module.Voco=22.02\n",
      "module.Impo=2.494\n",
      "module.Vmpo=17.97\n",
      "\n",
      "DFOut=pvlib.pvl_sapm(Eb=Data['Eb'],\n",
      "                    Ediff=Data['EDiff'],\n",
      "                    Tcell=Data['Tcell'],\n",
      "                    AM=Data['AM'],\n",
      "                    AOI=Data['AOI'],\n",
      "                    Module=module)\n"
     ],
     "language": "python",
     "metadata": {},
     "outputs": []
    }
   ],
   "metadata": {}
  }
 ]
}