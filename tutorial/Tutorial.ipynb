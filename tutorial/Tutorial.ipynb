{
 "metadata": {
  "name": ""
 },
 "nbformat": 3,
 "nbformat_minor": 0,
 "worksheets": [
  {
   "cells": [
    {
     "cell_type": "heading",
     "level": 1,
     "metadata": {},
     "source": [
      "Python Basics"
     ]
    },
    {
     "cell_type": "markdown",
     "metadata": {},
     "source": [
      "The following covers some basic python functionality. This is by no means an exhaustive overview, but shows some of the main functionality of the platform "
     ]
    },
    {
     "cell_type": "heading",
     "level": 3,
     "metadata": {},
     "source": [
      "Import modules "
     ]
    },
    {
     "cell_type": "code",
     "collapsed": false,
     "input": [
      "import pvlib # imports pvlib into the namespace\n",
      "import pandas as pd #imports pandas into the namespace and renames it to pd, for ease of use\n",
      "from datetime import datetime #import functions for dealing with dates and times"
     ],
     "language": "python",
     "metadata": {},
     "outputs": [],
     "prompt_number": 2
    },
    {
     "cell_type": "heading",
     "level": 3,
     "metadata": {},
     "source": [
      "Use modules"
     ]
    },
    {
     "cell_type": "code",
     "collapsed": false,
     "input": [
      "pvlib.__name__     #try erasing __name__  and pressing tab, a list of available functions will appear that you can choose from "
     ],
     "language": "python",
     "metadata": {},
     "outputs": [
      {
       "metadata": {},
       "output_type": "pyout",
       "prompt_number": 3,
       "text": [
        "'pvlib'"
       ]
      }
     ],
     "prompt_number": 3
    },
    {
     "cell_type": "heading",
     "level": 3,
     "metadata": {},
     "source": [
      "Use a Pandas DataFrame"
     ]
    },
    {
     "cell_type": "markdown",
     "metadata": {},
     "source": [
      "This block imports data from a .csv file and places it into a pandas DataFrame."
     ]
    },
    {
     "cell_type": "code",
     "collapsed": false,
     "input": [
      "TMY=pd.read_csv('Golden_mSi0251.csv',skiprows=2,index_col=0,parse_dates=True)\n",
      "TMY['Isc (A)']#.plot()\n",
      "TMY.info()    "
     ],
     "language": "python",
     "metadata": {},
     "outputs": [
      {
       "output_type": "stream",
       "stream": "stdout",
       "text": [
        "<class 'pandas.core.frame.DataFrame'>\n",
        "DatetimeIndex: 11887 entries, 2012-08-14 06:15:16 to 2013-09-24 17:30:17\n",
        "Data columns (total 41 columns):\n",
        "POA irradiance CMP22 pyranometer (W/m2)                                                            11887 non-null float64\n",
        "POA irradiance uncertainty (%)                                                                     11887 non-null float64\n",
        "PV module back surface temperature (degC)                                                          11887 non-null float64\n",
        "PV module back surface temperature uncertainty (degC)                                              11887 non-null float64\n",
        "Isc (A)                                                                                            11887 non-null float64\n",
        "Isc uncertainty (%)                                                                                11887 non-null float64\n",
        "Pmp (W)                                                                                            11887 non-null float64\n",
        "Pmp uncertainty (%)                                                                                11887 non-null float64\n",
        "Imp (A)                                                                                            11887 non-null float64\n",
        "Imp uncertainty (%)                                                                                11887 non-null float64\n",
        "Vmp (V)                                                                                            11887 non-null float64\n",
        "Vmp uncertainty (%)                                                                                11887 non-null float64\n",
        "Voc (V)                                                                                            11887 non-null float64\n",
        "Voc uncertainty (%)                                                                                11887 non-null float64\n",
        "FF (%FF)                                                                                           11887 non-null float64\n",
        "FF uncertainty (%)                                                                                 11887 non-null float64\n",
        "Change in CMP22 during I-V scan +/- W/m2                                                           11887 non-null float64\n",
        "Change in Li-COR during I-V scan +/- W/m2                                                          11887 non-null float64\n",
        "MT5 cabinet temperature (degC)                                                                     11887 non-null float64\n",
        "Dry bulb temperature (degC)                                                                        11887 non-null float64\n",
        "Dry bulb temperature uncertainty (degC)                                                            11887 non-null float64\n",
        "Relative humidity (%RH)                                                                            11887 non-null float64\n",
        "Relative humidity uncertainty (%RH)                                                                11887 non-null float64\n",
        "Atmospheric pressure (mb)                                                                          11887 non-null float64\n",
        "Atmospheric pressure uncertainty (%)                                                               11887 non-null float64\n",
        "Precipitation (mm) accumulated daily total                                                         11887 non-null float64\n",
        "Direct normal irradiance (W/m2)                                                                    11887 non-null float64\n",
        "Direct normal irradiance uncertainty (%)                                                           11887 non-null float64\n",
        "Direct normal irradiance standard deviation of 1-second samples of 5-second average (W/m2)         11887 non-null int64\n",
        "Global horizontal irradiance (W/m2)                                                                11887 non-null float64\n",
        "Global horizontal irradiance uncertainty (%)                                                       11887 non-null float64\n",
        "Global horizontal irradiance standard deviation of 1-second samples of 5-second average (W/m2)     11887 non-null int64\n",
        "Diffuse horizontal irradiance (W/m2)                                                               11887 non-null float64\n",
        "Diffuse horizontal irradiance uncertainty (%)                                                      11887 non-null float64\n",
        "Diffuse horizontal irradiance standard deviation of 1-second samples of 5-second average (W/m2)    11887 non-null int64\n",
        "Solar QA residual (W/m2) = Direct*cos(zenith) + Diffuse Horiz. Global Horiz                        11887 non-null float64\n",
        "PV module soiling derate                                                                           11887 non-null float64\n",
        "Daily maintenance start time (hour: minute) - no maintenance that day = 99:99                      11887 non-null object\n",
        "Daily maintenance end time (hour: minute) - no maintenance that day = 99:99                        11887 non-null object\n",
        "Precipitation prior to daily maintenance (mm) accumulated daily total                              11887 non-null float64\n",
        "Number of I-V curve data pairs (n)                                                                 11887 non-null int64\n",
        "dtypes: float64(35), int64(4), object(2)"
       ]
      }
     ],
     "prompt_number": 4
    },
    {
     "cell_type": "markdown",
     "metadata": {},
     "source": [
      "Set the timezone, and shift time marker to UTC"
     ]
    },
    {
     "cell_type": "code",
     "collapsed": false,
     "input": [
      "TMY=TMY.tz_localize('US/Mountain')\n",
      "print 'Localized Time Zone'\n",
      "print TMY.index\n"
     ],
     "language": "python",
     "metadata": {},
     "outputs": [
      {
       "output_type": "stream",
       "stream": "stdout",
       "text": [
        "Localized Time Zone\n",
        "<class 'pandas.tseries.index.DatetimeIndex'>\n",
        "[2012-08-14 06:15:16-06:00, ..., 2013-09-24 17:30:17-06:00]\n",
        "Length: 11887, Freq: None, Timezone: US/Mountain\n"
       ]
      }
     ],
     "prompt_number": 5
    },
    {
     "cell_type": "code",
     "collapsed": false,
     "input": [
      "TMY=TMY.tz_convert('UTC')\n",
      "print 'Converted to UTC'\n",
      "print TMY.index"
     ],
     "language": "python",
     "metadata": {},
     "outputs": [
      {
       "output_type": "stream",
       "stream": "stdout",
       "text": [
        "Converted to UTC\n",
        "<class 'pandas.tseries.index.DatetimeIndex'>\n",
        "[2012-08-14 12:15:16+00:00, ..., 2013-09-24 23:30:17+00:00]\n",
        "Length: 11887, Freq: None, Timezone: UTC\n"
       ]
      }
     ],
     "prompt_number": 6
    },
    {
     "cell_type": "markdown",
     "metadata": {},
     "source": [
      "Resample to 10 min and hourly"
     ]
    },
    {
     "cell_type": "code",
     "collapsed": false,
     "input": [
      "#perform the resampling\n",
      "TMY_10min=TMY.resample('30min')\n",
      "TMY_Hr=TMY.resample('H')\n",
      "print TMY_Hr.index\n",
      "print TMY.index"
     ],
     "language": "python",
     "metadata": {},
     "outputs": [
      {
       "output_type": "stream",
       "stream": "stdout",
       "text": [
        "<class 'pandas.tseries.index.DatetimeIndex'>\n",
        "[2012-08-14 12:00:00+00:00, ..., 2013-09-24 23:00:00+00:00]\n",
        "Length: 9756, Freq: H, Timezone: UTC\n",
        "<class 'pandas.tseries.index.DatetimeIndex'>\n",
        "[2012-08-14 12:15:16+00:00, ..., 2013-09-24 23:30:17+00:00]\n",
        "Length: 11887, Freq: None, Timezone: UTC\n"
       ]
      }
     ],
     "prompt_number": 7
    },
    {
     "cell_type": "code",
     "collapsed": false,
     "input": [
      "#plot the output\n",
      "figure(1)\n",
      "clf()  #clear Figure\n",
      "TMY['Isc (A)'].plot(label='5min')\n",
      "TMY_10min['Isc (A)'].plot(label='30min')\n",
      "TMY_Hr['Isc (A)'].plot(label='hourly')\n",
      "\n",
      "legend() #add a legend\n",
      "\n",
      "xlim(datetime(2013,3,29),datetime(2013,3,31)) #limit the output to two days"
     ],
     "language": "python",
     "metadata": {},
     "outputs": [
      {
       "metadata": {},
       "output_type": "pyout",
       "prompt_number": 8,
       "text": [
        "(734956.0, 734958.0)"
       ]
      }
     ],
     "prompt_number": 8
    },
    {
     "cell_type": "heading",
     "level": 1,
     "metadata": {},
     "source": [
      "Functions for importing Matlab code"
     ]
    },
    {
     "cell_type": "markdown",
     "metadata": {},
     "source": [
      "For the purpose of this tutorial we will not go into these in-depth, but they peform the required steps to import .mat data structures into python data structures. NOTE: This is not the default method of data import into python, and more typical will be the import of .csv or .tmy files, which is a simplified process"
     ]
    },
    {
     "cell_type": "heading",
     "level": 3,
     "metadata": {},
     "source": [
      "Define Functions"
     ]
    },
    {
     "cell_type": "code",
     "collapsed": false,
     "input": [
      "from datetime import datetime,timedelta\n",
      "def parse(yr, doy, hr, min, sec):\n",
      "    dt = datetime(yr - 1, 12, 31)\n",
      "    delta = timedelta(days=doy, hours=hr,\n",
      "                      minutes=min, seconds=sec)\n",
      "    return dt + delta"
     ],
     "language": "python",
     "metadata": {},
     "outputs": [],
     "prompt_number": 9
    },
    {
     "cell_type": "code",
     "collapsed": false,
     "input": [
      "def importdict(Dict):\n",
      "    Dict.pop('__globals__')\n",
      "    Dict.pop('__header__')\n",
      "    Dict.pop('__version__')\n",
      "    DF=pd.DataFrame(Dict[Dict.keys()[1]])\n",
      "    for item in Dict:\n",
      "        DF[item]=Dict[item]\n",
      "    return DF\n",
      "\n",
      "\n"
     ],
     "language": "python",
     "metadata": {},
     "outputs": [],
     "prompt_number": 10
    },
    {
     "cell_type": "heading",
     "level": 3,
     "metadata": {},
     "source": [
      "Import data"
     ]
    },
    {
     "cell_type": "code",
     "collapsed": false,
     "input": [
      "import pandas as pd\n",
      "from scipy.io import loadmat\n",
      "import sys\n",
      "import os\n",
      "\n",
      "sys.path.append(os.path.abspath('../')) #append the parent directory to the system path\n",
      "sys.path.append(os.path.abspath('../pvlib')) #append the parent directory to the system path\n",
      "import pvlib\n",
      "\n",
      "\n",
      "SystemInfo=loadmat('SystemInformation (1).mat')\n",
      "SystemPerformance=loadmat('SystemPerformance (1).mat')\n",
      "WeatherData=loadmat('WeatherData (1).mat')\n",
      "\n",
      "Weather=importdict(WeatherData)\n",
      "System=importdict(SystemPerformance)           \n",
      "                        "
     ],
     "language": "python",
     "metadata": {},
     "outputs": [],
     "prompt_number": 11
    },
    {
     "cell_type": "code",
     "collapsed": false,
     "input": [
      "# Date parser for column date inputs\n",
      "\n",
      "date=[]\n",
      "for pos in range(Weather.shape[0]):\n",
      "    date.append(parse(Weather.Year.astype(int).values[pos],\n",
      "          Weather.Days.astype(int).values[pos],\n",
      "          Weather.Hours.astype(int).values[pos],\n",
      "          Weather.Minutes.astype(int).values[pos],\n",
      "          Weather.Seconds.astype(int).values[pos]))\n",
      "\n",
      "Weather.index=pd.to_datetime(date)\n",
      "System.index=pd.to_datetime(date)\n",
      "Data=Weather.join(System,rsuffix='_sys')\n"
     ],
     "language": "python",
     "metadata": {},
     "outputs": [],
     "prompt_number": 12
    },
    {
     "cell_type": "heading",
     "level": 3,
     "metadata": {},
     "source": [
      "Define site metadata and module parameters"
     ]
    },
    {
     "cell_type": "heading",
     "level": 6,
     "metadata": {},
     "source": [
      "NOTE: When importing TMY files, the 'meta' data structure is automatically populated. When importing custom data it must be defined explicitly. \n",
      "\n",
      "Module parameters can also be imported automatically using the pvl_retreiveSAM function, if it exists in the SAM sandia module database. Otherwise they must be imported manually as below: "
     ]
    },
    {
     "cell_type": "code",
     "collapsed": false,
     "input": [
      "meta={'aziumth':0,\n",
      "      'tilt':35,\n",
      "      'parallelStrings':1,\n",
      "      'seriesModules':5,\n",
      "      'latitude':35.05,\n",
      "      'longitude':-106.54,\n",
      "      'TZ':-7,\n",
      "      'albedo':.2}\n",
      "meta=pvlib.pvl_tools.repack(meta)\n",
      "      \n",
      "\n",
      "module={'name'\t\t: 'Sample Module',\t\n",
      "        'vintage'\t: 2006,\t\t\n",
      "        'material' \t:'x-csi',\t\t\t\n",
      "        'area'\t\t: 1.244,\t\t\n",
      "        'Aisc'\t    : 0.000232,\t\n",
      "        'Aimp'\t    : -0.00036,\t\t\n",
      "        'Isco'\t\t: 5.988,\t\t\n",
      "        'Impo'\t\t: 5.56,\t\n",
      "        'Voco'\t\t: 48.53,\t\n",
      "        'Vmpo'\t\t: 40.03,\t\n",
      "        'Bvoco'\t   : -0.152,\t\n",
      "        'Bvmpo'\t: -0.162,\t\t\n",
      "        'Mbvoc'\t: 0,\t\t\n",
      "        'Mbvmp'\t: 0,\t\t\n",
      "        '#Series'\t\t: 72,\t\t\n",
      "        '#Parallel'\t\t: 1,\t\n",
      "        'delT'\t\t: 3,\t\n",
      "        'fd'\t\t: 1,\t\n",
      "        'N'\t\t: 1.241,\t\n",
      "        'IXO'\t\t: 5.93,\n",
      "        'IXXO'\t\t: 4.12,\t\n",
      "        'a_wind'\t: -3.62,\t\n",
      "        'b_wind'\t: -0.075,\t\t\n",
      "        'C0'\t        : 1.0072,\n",
      "        'C1'            : -0.0072,\n",
      "        'C2'            : 0.323035,\n",
      "        'C3'            : -3.49839,\n",
      "        'C4'            : 0.9966,\n",
      "        'C5'            : 0.0034,\n",
      "        'C6'            : 1.0827,\n",
      "        'C7'            : -0.0827,\t\t\n",
      "        'A4'\t\t: -0.0001223,\n",
      "        'A3'            : 0.002416,\n",
      "        'A2'            : -0.01912,\n",
      "        'A1'            : 0.07365,\n",
      "        'A0'            : 0.9259,\n",
      "        'B5'\t\t: -2.99e-09,\n",
      "        'B4'            : 5.35e-07,\n",
      "        'B3'            : -3.4e-05,\n",
      "        'B2'            : 0.000862,\n",
      "        'B1'            : -0.00699,\n",
      "        'B0'            : 1.0,\n",
      "        'FD'            :1}\n",
      "module=pd.Series(module)"
     ],
     "language": "python",
     "metadata": {},
     "outputs": [],
     "prompt_number": 13
    },
    {
     "cell_type": "heading",
     "level": 1,
     "metadata": {},
     "source": [
      "Processing"
     ]
    },
    {
     "cell_type": "heading",
     "level": 4,
     "metadata": {},
     "source": [
      "This section includes the calls to pvlib required to process from raw meterological data to system performance. "
     ]
    },
    {
     "cell_type": "heading",
     "level": 5,
     "metadata": {},
     "source": [
      "Import required modules. "
     ]
    },
    {
     "cell_type": "code",
     "collapsed": false,
     "input": [
      "import pvlib\n",
      "import pandas as pd\n"
     ],
     "language": "python",
     "metadata": {},
     "outputs": [],
     "prompt_number": 14
    },
    {
     "cell_type": "heading",
     "level": 5,
     "metadata": {},
     "source": [
      "NOTE: As a Developer, if you have changed any of the underlying pvlib files, you must reload them manually using the code below, or by restarting the kernel"
     ]
    },
    {
     "cell_type": "code",
     "collapsed": false,
     "input": [
      "reload(pd) # reload the pvl_perez module"
     ],
     "language": "python",
     "metadata": {},
     "outputs": [
      {
       "metadata": {},
       "output_type": "pyout",
       "prompt_number": 15,
       "text": [
        "<module 'pandas' from '/usr/local/Cellar/python/2.7.5/Frameworks/Python.framework/Versions/2.7/lib/python2.7/site-packages/pandas/__init__.pyc'>"
       ]
      }
     ],
     "prompt_number": 15
    },
    {
     "cell_type": "heading",
     "level": 4,
     "metadata": {},
     "source": [
      "Functions covered in the MATLAB Tutorial:"
     ]
    },
    {
     "cell_type": "markdown",
     "metadata": {},
     "source": [
      "These functions import the site location, and available DNI and DHI information in order to calculate the in-plane irradiance, E, and its diffuse, Ediff, and direct, Eb, components"
     ]
    },
    {
     "cell_type": "code",
     "collapsed": false,
     "input": [
      "Data['SunAz'],Data['SunEl'],Data['ApparentSunEl'],Data['SolarTime'], Data['SunZen']=pvlib.pvl_ephemeris(Time=Data.index,Location=meta)\n",
      "Data['HExtra']=pvlib.pvl_extraradiation(doy=Data.index.dayofyear)\n",
      "Data['AM']=pvlib.pvl_relativeairmass(z=Data.SunZen)\n",
      "Data['AOI']=pvlib.pvl_getaoi(SunAz=Data.SunAz,SunZen=Data.SunZen,SurfTilt=meta.tilt,SurfAz=meta.aziumth)\n",
      "\n",
      "Data['In_Plane_SkyDiffuse']=pvlib.pvl_perez(SurfTilt=meta.tilt, #Problems with repeated minutes in the data!\n",
      "                                            SurfAz=meta.aziumth,\n",
      "                                            DHI=Data['DHI'],\n",
      "                                            DNI=Data['DNI'],\n",
      "                                            HExtra=Data.HExtra,\n",
      "                                            SunZen=Data.SunZen,\n",
      "                                            SunAz=Data.SunAz,\n",
      "                                            AM=Data.AM)\n",
      "Data['GR']=pvlib.pvl_grounddiffuse(GHI=Data['GHI'],Albedo=meta.albedo,SurfTilt=meta.tilt)\n",
      "Data['E'],Data['Eb'],Data['EDiff']=pvlib.pvl_globalinplane(AOI=Data.AOI,\n",
      "                                DNI=Data['DNI'],\n",
      "                                In_Plane_SkyDiffuse=Data.In_Plane_SkyDiffuse,\n",
      "                                GR=Data.GR,\n",
      "                                SurfTilt=meta.tilt,\n",
      "                                SurfAz=meta.aziumth)\n",
      "\n"
     ],
     "language": "python",
     "metadata": {},
     "outputs": [],
     "prompt_number": 16
    },
    {
     "cell_type": "heading",
     "level": 3,
     "metadata": {},
     "source": [
      "Calcualte Cell Temperature"
     ]
    },
    {
     "cell_type": "code",
     "collapsed": false,
     "input": [
      "Data.info()"
     ],
     "language": "python",
     "metadata": {},
     "outputs": [
      {
       "output_type": "stream",
       "stream": "stdout",
       "text": [
        "<class 'pandas.core.frame.DataFrame'>\n",
        "DatetimeIndex: 5040 entries, 2008-10-20 00:00:07 to 2008-10-26 23:58:09\n",
        "Data columns (total 40 columns):\n",
        "0                      5040 non-null float64\n",
        "RefCellEeEAST          5040 non-null float64\n",
        "WindSpeed              5040 non-null float64\n",
        "Month                  5040 non-null uint8\n",
        "GHI                    5040 non-null float64\n",
        "AirTemp                5040 non-null float64\n",
        "GNI                    5040 non-null float64\n",
        "Seconds                5040 non-null uint8\n",
        "Hours                  5040 non-null uint8\n",
        "Pressure               5040 non-null float64\n",
        "RefCellEeWEST          5040 non-null float64\n",
        "RelativeHumidity       5040 non-null float64\n",
        "DHI                    5040 non-null float64\n",
        "RMBTime                5040 non-null float64\n",
        "DNI                    5040 non-null float64\n",
        "Days                   5040 non-null uint16\n",
        "Minutes                5040 non-null uint8\n",
        "Year                   5040 non-null uint16\n",
        "POA                    5040 non-null float64\n",
        "WindDirection          5040 non-null float64\n",
        "0_sys                  5040 non-null float64\n",
        "ACVoltage              5040 non-null float64\n",
        "ACPower                5040 non-null float64\n",
        "DCVoltage              5040 non-null float64\n",
        "DCCurrent              5040 non-null float64\n",
        "ArrayTemp              5040 non-null float64\n",
        "ACCurrent              5040 non-null float64\n",
        "SunAz                  5040 non-null float64\n",
        "SunEl                  5040 non-null float64\n",
        "ApparentSunEl          5040 non-null float64\n",
        "SolarTime              5040 non-null float64\n",
        "SunZen                 5040 non-null float64\n",
        "HExtra                 5040 non-null float64\n",
        "AM                     5040 non-null float64\n",
        "AOI                    5040 non-null float64\n",
        "In_Plane_SkyDiffuse    2304 non-null float64\n",
        "GR                     5040 non-null float64\n",
        "E                      2304 non-null float64\n",
        "Eb                     5040 non-null float64\n",
        "EDiff                  2304 non-null float64\n",
        "dtypes: float64(34), uint16(2), uint8(4)"
       ]
      }
     ],
     "prompt_number": 17
    },
    {
     "cell_type": "markdown",
     "metadata": {},
     "source": [
      "pvl_sapmcelltemp takes the total in-plane irradiance, wind speed, and ambient temperature"
     ]
    },
    {
     "cell_type": "code",
     "collapsed": false,
     "input": [
      "Data['Tcell'],Data['Tmodule']=pvlib.pvl_sapmcelltemp(E=Data.E,\n",
      "                            Wspd=Data.WindSpeed,\n",
      "                            Tamb=Data['AirTemp'],\n",
      "                            modelt='Open_rack_cell_polymerback')\n",
      "\n"
     ],
     "language": "python",
     "metadata": {},
     "outputs": [],
     "prompt_number": 18
    },
    {
     "cell_type": "code",
     "collapsed": false,
     "input": [
      "clf()\n",
      "plot(Data.index,Data.Tmodule,label='Calculated Temp')\n",
      "plot(Data.index,Data.ArrayTemp,label='Actual Temp')\n",
      "legend()\n"
     ],
     "language": "python",
     "metadata": {},
     "outputs": [
      {
       "metadata": {},
       "output_type": "pyout",
       "prompt_number": 19,
       "text": [
        "<matplotlib.legend.Legend at 0x105bce390>"
       ]
      }
     ],
     "prompt_number": 19
    },
    {
     "cell_type": "code",
     "collapsed": false,
     "input": [
      "clf()\n",
      "plot(Data.Tmodule,Data.ArrayTemp,'.',label='Module Temp')\n",
      "plot(Data.Tcell,Data.ArrayTemp,'.',label='Cell Temp')\n",
      "xlabel('Calulated')\n",
      "ylabel('Actual')\n",
      "plot(range(-10,70),range(-10,70))\n",
      "legend()"
     ],
     "language": "python",
     "metadata": {},
     "outputs": [
      {
       "metadata": {},
       "output_type": "pyout",
       "prompt_number": 20,
       "text": [
        "<matplotlib.legend.Legend at 0x1054becd0>"
       ]
      }
     ],
     "prompt_number": 20
    },
    {
     "cell_type": "code",
     "collapsed": false,
     "input": [
      "Eb=Data.DNI*cos(np.radians(Data.AOI))\n",
      "Ediff=Data.POA-Eb\n",
      "DFOut=pvlib.pvl_sapm(Eb=Eb,\n",
      "                    Ediff=Ediff,\n",
      "                    Tcell=Data['Tcell'],\n",
      "                    AM=Data['AM'],\n",
      "                    AOI=0,#Data['AOI'],\n",
      "                    Module=module)\n",
      "\n",
      "\n",
      "Data['Imp']=DFOut['Imp']\n",
      "Data['Voc']=DFOut['Voc']\n",
      "Data['Vmp']=DFOut['Vmp']\n",
      "Data['Pmp']=DFOut['Pmp']\n",
      "Data['Ix']=DFOut['Ix']\n",
      "Data['Ixx']=DFOut['Ixx']\n"
     ],
     "language": "python",
     "metadata": {},
     "outputs": [],
     "prompt_number": 21
    },
    {
     "cell_type": "markdown",
     "metadata": {},
     "source": [
      "Account for string layout"
     ]
    },
    {
     "cell_type": "code",
     "collapsed": false,
     "input": [
      "Data.Imp=Data.Imp*meta.parallelStrings\n",
      "Data.Vmp=Data.Vmp*(meta.seriesModules)\n",
      "Data.Pmp=Data.Imp*Data.Vmp"
     ],
     "language": "python",
     "metadata": {},
     "outputs": [],
     "prompt_number": 22
    },
    {
     "cell_type": "code",
     "collapsed": false,
     "input": [
      "Invdb=pvlib.pvl_retreiveSAM(name='SandiaInverter')\n",
      "inverter=Invdb.SunPower_Corp__Original_Mfg___PV_Powered___SPR_2500_240V__CEC_2006_\n",
      "Data['ACPower_modelled']=pvlib.pvl_snlinverter(Vmp=Data.Vmp,Pmp=Data.Pmp,Inverter=inverter)\n"
     ],
     "language": "python",
     "metadata": {},
     "outputs": [],
     "prompt_number": 23
    },
    {
     "cell_type": "code",
     "collapsed": false,
     "input": [
      "clf()\n",
      "plot(Data.index,Data.Pmp,'r')\n",
      "plot(Data.index,Data.DCVoltage*Data.DCCurrent)\n",
      "plot(Data.index,Data.ACPower)\n",
      "plot(Data.index,Data.ACPower_modelled,'k')"
     ],
     "language": "python",
     "metadata": {},
     "outputs": [
      {
       "metadata": {},
       "output_type": "pyout",
       "prompt_number": 24,
       "text": [
        "[<matplotlib.lines.Line2D at 0x105c025d0>]"
       ]
      }
     ],
     "prompt_number": 24
    },
    {
     "cell_type": "code",
     "collapsed": false,
     "input": [
      "scatter(Data.AOI,diffrel,c=Data.AM)\n",
      "colorbar()\n",
      "ylim([0,6])"
     ],
     "language": "python",
     "metadata": {},
     "outputs": [
      {
       "ename": "NameError",
       "evalue": "name 'diffrel' is not defined",
       "output_type": "pyerr",
       "traceback": [
        "\u001b[0;31m---------------------------------------------------------------------------\u001b[0m\n\u001b[0;31mNameError\u001b[0m                                 Traceback (most recent call last)",
        "\u001b[0;32m<ipython-input-25-9b5968c3a045>\u001b[0m in \u001b[0;36m<module>\u001b[0;34m()\u001b[0m\n\u001b[0;32m----> 1\u001b[0;31m \u001b[0mscatter\u001b[0m\u001b[0;34m(\u001b[0m\u001b[0mData\u001b[0m\u001b[0;34m.\u001b[0m\u001b[0mAOI\u001b[0m\u001b[0;34m,\u001b[0m\u001b[0mdiffrel\u001b[0m\u001b[0;34m,\u001b[0m\u001b[0mc\u001b[0m\u001b[0;34m=\u001b[0m\u001b[0mData\u001b[0m\u001b[0;34m.\u001b[0m\u001b[0mAM\u001b[0m\u001b[0;34m)\u001b[0m\u001b[0;34m\u001b[0m\u001b[0m\n\u001b[0m\u001b[1;32m      2\u001b[0m \u001b[0mcolorbar\u001b[0m\u001b[0;34m(\u001b[0m\u001b[0;34m)\u001b[0m\u001b[0;34m\u001b[0m\u001b[0m\n\u001b[1;32m      3\u001b[0m \u001b[0mylim\u001b[0m\u001b[0;34m(\u001b[0m\u001b[0;34m[\u001b[0m\u001b[0;36m0\u001b[0m\u001b[0;34m,\u001b[0m\u001b[0;36m6\u001b[0m\u001b[0;34m]\u001b[0m\u001b[0;34m)\u001b[0m\u001b[0;34m\u001b[0m\u001b[0m\n",
        "\u001b[0;31mNameError\u001b[0m: name 'diffrel' is not defined"
       ]
      }
     ],
     "prompt_number": 25
    },
    {
     "cell_type": "code",
     "collapsed": false,
     "input": [
      "g=[]\n",
      "for Pmp in range(10,10,4000):\n",
      "    g.append(pvlib.pvl_snlinverter(Vmp=Data.Vmp,Pmp=Pmp,Inverter=inverter))\n",
      "\n"
     ],
     "language": "python",
     "metadata": {},
     "outputs": [],
     "prompt_number": 26
    },
    {
     "cell_type": "code",
     "collapsed": false,
     "input": [
      "plot(range(10,10,4000),g)"
     ],
     "language": "python",
     "metadata": {},
     "outputs": [
      {
       "metadata": {},
       "output_type": "pyout",
       "prompt_number": 27,
       "text": [
        "[<matplotlib.lines.Line2D at 0x103fd1890>]"
       ]
      }
     ],
     "prompt_number": 27
    },
    {
     "cell_type": "code",
     "collapsed": false,
     "input": [
      "g"
     ],
     "language": "python",
     "metadata": {},
     "outputs": [
      {
       "metadata": {},
       "output_type": "pyout",
       "prompt_number": 28,
       "text": [
        "[]"
       ]
      }
     ],
     "prompt_number": 28
    },
    {
     "cell_type": "code",
     "collapsed": false,
     "input": [],
     "language": "python",
     "metadata": {},
     "outputs": []
    }
   ],
   "metadata": {}
  }
 ]
}