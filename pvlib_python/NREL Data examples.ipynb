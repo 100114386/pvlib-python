{
 "metadata": {
  "name": ""
 },
 "nbformat": 3,
 "nbformat_minor": 0,
 "worksheets": [
  {
   "cells": [
    {
     "cell_type": "heading",
     "level": 1,
     "metadata": {},
     "source": [
      "Import TMY data"
     ]
    },
    {
     "cell_type": "heading",
     "level": 2,
     "metadata": {},
     "source": [
      "Import data"
     ]
    },
    {
     "cell_type": "code",
     "collapsed": false,
     "input": [
      "import pandas as pd\n",
      "import pvl_tools\n",
      "filename='/Users/robandrews/Dropbox/My_Documents/Documents/Projects/Data/PerfData/NREL PVDAQ/pvdaq_data_1237_2013.csv'\n",
      "#TMY=pd.read_csv(filename,index_col='Date-Time',parse_dates=True)\n",
      "\n",
      "filename='/Users/robandrews/Dropbox/My_Documents/Documents/Projects/Data/PerfData/Sune_13thsiderd.csv'\n",
      "pyranfilename='/Users/robandrews/Dropbox/My_Documents/Documents/Projects/Data/PerfData/SunE_13thsiderd_pyranometer.csv'\n",
      "TMY=pd.read_csv(filename,index_col='Date/Time',parse_dates=True)\n",
      "pyran=pd.read_csv(pyranfilename,index_col='Date/Time',parse_dates=True)\n",
      "meta=dict() #Read in file metadata\n",
      "meta['altitude']=100\n",
      "meta['latitude']=45\n",
      "meta['longitude']=76.3\n",
      "meta['TZ']=5\n",
      "meta=pvl_tools.repack(meta) #repack dict as a struct"
     ],
     "language": "python",
     "metadata": {},
     "outputs": [],
     "prompt_number": 393
    },
    {
     "cell_type": "heading",
     "level": 1,
     "metadata": {},
     "source": [
      "Get solar angles"
     ]
    },
    {
     "cell_type": "code",
     "collapsed": false,
     "input": [
      "import pvl_ephemeris as eph\n",
      "reload(eph)\n",
      "TMY=eph.pvl_ephemeris(DataFrame=TMY,Location=meta)"
     ],
     "language": "python",
     "metadata": {},
     "outputs": [],
     "prompt_number": 394
    },
    {
     "cell_type": "code",
     "collapsed": false,
     "input": [
      "\n",
      "plot(TMY.index,TMY.SunZen)"
     ],
     "language": "python",
     "metadata": {},
     "outputs": [
      {
       "metadata": {},
       "output_type": "pyout",
       "prompt_number": 378,
       "text": [
        "[<matplotlib.lines.Line2D at 0x1286e5350>]"
       ]
      }
     ],
     "prompt_number": 378
    },
    {
     "cell_type": "heading",
     "level": 1,
     "metadata": {},
     "source": [
      "Calculate Extraterrestrial Irradiaion and AirMass"
     ]
    },
    {
     "cell_type": "code",
     "collapsed": false,
     "input": [
      "import pvl_extraradiation as ext\n",
      "reload(ext)\n",
      "TMY['HExtra']=ext.pvl_extraradiation(doy=TMY.index.dayofyear)\n",
      "\n",
      "import pvl_relativeairmass as AM\n",
      "reload(AM)\n",
      "TMY['AM']=AM.pvl_relativeairmass(z=TMY.SunZen)"
     ],
     "language": "python",
     "metadata": {},
     "outputs": [],
     "prompt_number": 395
    },
    {
     "cell_type": "heading",
     "level": 1,
     "metadata": {},
     "source": [
      "Get AOI"
     ]
    },
    {
     "cell_type": "code",
     "collapsed": false,
     "input": [
      "import pvl_getaoi as aoi\n",
      "reload(aoi)\n",
      "TMY=aoi.pvl_getaoi(DataFrame=TMY,SurfTilt=30,SurfAz=180)"
     ],
     "language": "python",
     "metadata": {},
     "outputs": [],
     "prompt_number": 396
    },
    {
     "cell_type": "heading",
     "level": 1,
     "metadata": {},
     "source": [
      "Calculate Global in-plane"
     ]
    },
    {
     "cell_type": "code",
     "collapsed": false,
     "input": [
      "#TMY['E']=TMY.poa_irradiance\n",
      "TMY['E']=pyran['Irradiance POA (Standard) (Env Kit #1)']\n",
      "TMY['Kt']=TMY['E']\n",
      "I_ext=TMY.HExtra*(1+0.033*np.cos(np.radians(360*TMY.index.dayofyear/365)))*np.cos(np.radians(TMY.SunZen))\n",
      "TMY['Kt']=TMY['E']/I_ext\n",
      "TMY.Kt[TMY.Kt>1]=np.nan\n",
      "TMY.DiffR=TMY.Kt*np.nan\n",
      "firstbin=(TMY.Kt>0) & (TMY.Kt<.35)\n",
      "secondbin=(TMY.Kt>=.35) & (TMY.Kt<.75)\n",
      "thirdbin=TMY.Kt>=.75 \n",
      "TMY.DiffR[firstbin]=1-.249*TMY.Kt[firstbin]\n",
      "TMY.DiffR[secondbin]=1.557-1.84*TMY.Kt[secondbin]\n",
      "TMY.DiffR[thirdbin]=.177*TMY.Kt[thirdbin]\n",
      "TMY['Ediff']=TMY.E*TMY.DiffR\n",
      "TMY['Eb']=TMY.E-TMY.DiffR"
     ],
     "language": "python",
     "metadata": {},
     "outputs": [],
     "prompt_number": 397
    },
    {
     "cell_type": "code",
     "collapsed": false,
     "input": [
      "clf()\n",
      "plot(TMY.Ediff)\n",
      "plot(TMY.Eb)"
     ],
     "language": "python",
     "metadata": {},
     "outputs": [
      {
       "metadata": {},
       "output_type": "pyout",
       "prompt_number": 398,
       "text": [
        "[<matplotlib.lines.Line2D at 0x11b999c10>]"
       ]
      }
     ],
     "prompt_number": 398
    },
    {
     "cell_type": "code",
     "collapsed": false,
     "input": [
      "TMY"
     ],
     "language": "python",
     "metadata": {},
     "outputs": [
      {
       "html": [
        "<pre>\n",
        "&lt;class 'pandas.core.frame.DataFrame'&gt;\n",
        "DatetimeIndex: 12768 entries, 2010-11-11 00:00:00 to 2012-04-25 23:00:00\n",
        "Data columns (total 96 columns):\n",
        "Ambient Temp Deg C (Env Kit #1)      12130  non-null values\n",
        "Module Temp Deg C (Env Kit #1)       12130  non-null values\n",
        "Wind Speed (Env Kit #1)              12130  non-null values\n",
        "Wind Direction (Env Kit #1)          12130  non-null values\n",
        "Energy DC Comb Avg (Inverter #1)     3941  non-null values\n",
        "Energy DC Comb Avg (Inverter #10)    3691  non-null values\n",
        "Energy DC Comb Avg (Inverter #11)    3704  non-null values\n",
        "Energy DC Comb Avg (Inverter #12)    3965  non-null values\n",
        "Energy DC Comb Avg (Inverter #13)    3981  non-null values\n",
        "Energy DC Comb Avg (Inverter #14)    3983  non-null values\n",
        "Energy DC Comb Avg (Inverter #15)    3983  non-null values\n",
        "Energy DC Comb Avg (Inverter #16)    3988  non-null values\n",
        "Energy DC Comb Avg (Inverter #2)     3938  non-null values\n",
        "Energy DC Comb Avg (Inverter #3)     3953  non-null values\n",
        "Power DC (Inverter #3)               12124  non-null values\n",
        "Voltage DC (Inverter #3)             12124  non-null values\n",
        "Power DC (Inverter #1)               12134  non-null values\n",
        "Power AC (Inverter #1)               12134  non-null values\n",
        "Voltage DC (Inverter #1)             12134  non-null values\n",
        "DC Curr Comb Avg (Inverter #1)       12134  non-null values\n",
        "DC Curr Comb Avg (Inverter #10)      11753  non-null values\n",
        "Power DC (Inverter #10)              11753  non-null values\n",
        "Voltage DC (Inverter #10)            11753  non-null values\n",
        "Power AC (Inverter #10)              11753  non-null values\n",
        "Power DC (Inverter #11)              11750  non-null values\n",
        "Power AC (Inverter #11)              11750  non-null values\n",
        "DC Curr Comb Avg (Inverter #11)      11750  non-null values\n",
        "Voltage DC (Inverter #11)            11750  non-null values\n",
        "DC Curr Comb Avg (Inverter #12)      12154  non-null values\n",
        "Power DC (Inverter #12)              12154  non-null values\n",
        "Power AC (Inverter #12)              12154  non-null values\n",
        "Voltage DC (Inverter #12)            12154  non-null values\n",
        "DC Curr Comb Avg (Inverter #13)      12147  non-null values\n",
        "Power AC (Inverter #13)              12147  non-null values\n",
        "Power DC (Inverter #13)              12147  non-null values\n",
        "Voltage DC (Inverter #13)            12147  non-null values\n",
        "DC Curr Comb Avg (Inverter #14)      12169  non-null values\n",
        "Power AC (Inverter #14)              12169  non-null values\n",
        "Power DC (Inverter #14)              12169  non-null values\n",
        "Voltage DC (Inverter #14)            12169  non-null values\n",
        "DC Curr Comb Avg (Inverter #15)      12147  non-null values\n",
        "Power AC (Inverter #15)              12147  non-null values\n",
        "Power DC (Inverter #15)              12147  non-null values\n",
        "Voltage DC (Inverter #15)            12147  non-null values\n",
        "DC Curr Comb Avg (Inverter #16)      12160  non-null values\n",
        "Power AC (Inverter #16)              12160  non-null values\n",
        "Power DC (Inverter #16)              12160  non-null values\n",
        "Voltage DC (Inverter #16)            12160  non-null values\n",
        "DC Curr Comb Avg (Inverter #2)       12126  non-null values\n",
        "Power AC (Inverter #2)               12126  non-null values\n",
        "Power DC (Inverter #2)               12126  non-null values\n",
        "Voltage DC (Inverter #2)             12126  non-null values\n",
        "DC Curr Comb Avg (Inverter #3)       12124  non-null values\n",
        "Power AC (Inverter #3)               12124  non-null values\n",
        "DC Curr Comb Avg (Inverter #4)       12124  non-null values\n",
        "Energy DC Comb Avg (Inverter #4)     3955  non-null values\n",
        "Power AC (Inverter #4)               12124  non-null values\n",
        "Power DC (Inverter #4)               12124  non-null values\n",
        "Voltage DC (Inverter #4)             12124  non-null values\n",
        "DC Curr Comb Avg (Inverter #5)       12126  non-null values\n",
        "Energy DC Comb Avg (Inverter #5)     3941  non-null values\n",
        "Power AC (Inverter #5)               12126  non-null values\n",
        "Power DC (Inverter #5)               12126  non-null values\n",
        "Voltage DC (Inverter #5)             12126  non-null values\n",
        "DC Curr Comb Avg (Inverter #6)       12017  non-null values\n",
        "Energy DC Comb Avg (Inverter #6)     3923  non-null values\n",
        "Power AC (Inverter #6)               12017  non-null values\n",
        "Power DC (Inverter #6)               12017  non-null values\n",
        "Voltage DC (Inverter #6)             12017  non-null values\n",
        "DC Curr Comb Avg (Inverter #7)       12026  non-null values\n",
        "Energy DC Comb Avg (Inverter #7)     3917  non-null values\n",
        "Power AC (Inverter #7)               12026  non-null values\n",
        "Power DC (Inverter #7)               12026  non-null values\n",
        "Voltage DC (Inverter #7)             12026  non-null values\n",
        "DC Curr Comb Avg (Inverter #8)       12017  non-null values\n",
        "Energy DC Comb Avg (Inverter #8)     3920  non-null values\n",
        "Power AC (Inverter #8)               12017  non-null values\n",
        "Power DC (Inverter #8)               12017  non-null values\n",
        "Voltage DC (Inverter #8)             12017  non-null values\n",
        "DC Curr Comb Avg (Inverter #9)       12047  non-null values\n",
        "Energy DC Comb Avg (Inverter #9)     3931  non-null values\n",
        "Power AC (Inverter #9)               12047  non-null values\n",
        "Power DC (Inverter #9)               12047  non-null values\n",
        "Voltage DC (Inverter #9)             12047  non-null values\n",
        "SunAz                                12768  non-null values\n",
        "SunEl                                12768  non-null values\n",
        "SunZen                               12768  non-null values\n",
        "ApparentSunEl                        12768  non-null values\n",
        "SolarTime                            12768  non-null values\n",
        "HExtra                               12768  non-null values\n",
        "AM                                   12768  non-null values\n",
        "AOI                                  12768  non-null values\n",
        "E                                    12131  non-null values\n",
        "Kt                                   11477  non-null values\n",
        "Ediff                                5952  non-null values\n",
        "Eb                                   5952  non-null values\n",
        "dtypes: float64(96)\n",
        "</pre>"
       ],
       "metadata": {},
       "output_type": "pyout",
       "prompt_number": 400,
       "text": [
        "<class 'pandas.core.frame.DataFrame'>\n",
        "DatetimeIndex: 12768 entries, 2010-11-11 00:00:00 to 2012-04-25 23:00:00\n",
        "Data columns (total 96 columns):\n",
        "Ambient Temp Deg C (Env Kit #1)      12130  non-null values\n",
        "Module Temp Deg C (Env Kit #1)       12130  non-null values\n",
        "Wind Speed (Env Kit #1)              12130  non-null values\n",
        "Wind Direction (Env Kit #1)          12130  non-null values\n",
        "Energy DC Comb Avg (Inverter #1)     3941  non-null values\n",
        "Energy DC Comb Avg (Inverter #10)    3691  non-null values\n",
        "Energy DC Comb Avg (Inverter #11)    3704  non-null values\n",
        "Energy DC Comb Avg (Inverter #12)    3965  non-null values\n",
        "Energy DC Comb Avg (Inverter #13)    3981  non-null values\n",
        "Energy DC Comb Avg (Inverter #14)    3983  non-null values\n",
        "Energy DC Comb Avg (Inverter #15)    3983  non-null values\n",
        "Energy DC Comb Avg (Inverter #16)    3988  non-null values\n",
        "Energy DC Comb Avg (Inverter #2)     3938  non-null values\n",
        "Energy DC Comb Avg (Inverter #3)     3953  non-null values\n",
        "Power DC (Inverter #3)               12124  non-null values\n",
        "Voltage DC (Inverter #3)             12124  non-null values\n",
        "Power DC (Inverter #1)               12134  non-null values\n",
        "Power AC (Inverter #1)               12134  non-null values\n",
        "Voltage DC (Inverter #1)             12134  non-null values\n",
        "DC Curr Comb Avg (Inverter #1)       12134  non-null values\n",
        "DC Curr Comb Avg (Inverter #10)      11753  non-null values\n",
        "Power DC (Inverter #10)              11753  non-null values\n",
        "Voltage DC (Inverter #10)            11753  non-null values\n",
        "Power AC (Inverter #10)              11753  non-null values\n",
        "Power DC (Inverter #11)              11750  non-null values\n",
        "Power AC (Inverter #11)              11750  non-null values\n",
        "DC Curr Comb Avg (Inverter #11)      11750  non-null values\n",
        "Voltage DC (Inverter #11)            11750  non-null values\n",
        "DC Curr Comb Avg (Inverter #12)      12154  non-null values\n",
        "Power DC (Inverter #12)              12154  non-null values\n",
        "Power AC (Inverter #12)              12154  non-null values\n",
        "Voltage DC (Inverter #12)            12154  non-null values\n",
        "DC Curr Comb Avg (Inverter #13)      12147  non-null values\n",
        "Power AC (Inverter #13)              12147  non-null values\n",
        "Power DC (Inverter #13)              12147  non-null values\n",
        "Voltage DC (Inverter #13)            12147  non-null values\n",
        "DC Curr Comb Avg (Inverter #14)      12169  non-null values\n",
        "Power AC (Inverter #14)              12169  non-null values\n",
        "Power DC (Inverter #14)              12169  non-null values\n",
        "Voltage DC (Inverter #14)            12169  non-null values\n",
        "DC Curr Comb Avg (Inverter #15)      12147  non-null values\n",
        "Power AC (Inverter #15)              12147  non-null values\n",
        "Power DC (Inverter #15)              12147  non-null values\n",
        "Voltage DC (Inverter #15)            12147  non-null values\n",
        "DC Curr Comb Avg (Inverter #16)      12160  non-null values\n",
        "Power AC (Inverter #16)              12160  non-null values\n",
        "Power DC (Inverter #16)              12160  non-null values\n",
        "Voltage DC (Inverter #16)            12160  non-null values\n",
        "DC Curr Comb Avg (Inverter #2)       12126  non-null values\n",
        "Power AC (Inverter #2)               12126  non-null values\n",
        "Power DC (Inverter #2)               12126  non-null values\n",
        "Voltage DC (Inverter #2)             12126  non-null values\n",
        "DC Curr Comb Avg (Inverter #3)       12124  non-null values\n",
        "Power AC (Inverter #3)               12124  non-null values\n",
        "DC Curr Comb Avg (Inverter #4)       12124  non-null values\n",
        "Energy DC Comb Avg (Inverter #4)     3955  non-null values\n",
        "Power AC (Inverter #4)               12124  non-null values\n",
        "Power DC (Inverter #4)               12124  non-null values\n",
        "Voltage DC (Inverter #4)             12124  non-null values\n",
        "DC Curr Comb Avg (Inverter #5)       12126  non-null values\n",
        "Energy DC Comb Avg (Inverter #5)     3941  non-null values\n",
        "Power AC (Inverter #5)               12126  non-null values\n",
        "Power DC (Inverter #5)               12126  non-null values\n",
        "Voltage DC (Inverter #5)             12126  non-null values\n",
        "DC Curr Comb Avg (Inverter #6)       12017  non-null values\n",
        "Energy DC Comb Avg (Inverter #6)     3923  non-null values\n",
        "Power AC (Inverter #6)               12017  non-null values\n",
        "Power DC (Inverter #6)               12017  non-null values\n",
        "Voltage DC (Inverter #6)             12017  non-null values\n",
        "DC Curr Comb Avg (Inverter #7)       12026  non-null values\n",
        "Energy DC Comb Avg (Inverter #7)     3917  non-null values\n",
        "Power AC (Inverter #7)               12026  non-null values\n",
        "Power DC (Inverter #7)               12026  non-null values\n",
        "Voltage DC (Inverter #7)             12026  non-null values\n",
        "DC Curr Comb Avg (Inverter #8)       12017  non-null values\n",
        "Energy DC Comb Avg (Inverter #8)     3920  non-null values\n",
        "Power AC (Inverter #8)               12017  non-null values\n",
        "Power DC (Inverter #8)               12017  non-null values\n",
        "Voltage DC (Inverter #8)             12017  non-null values\n",
        "DC Curr Comb Avg (Inverter #9)       12047  non-null values\n",
        "Energy DC Comb Avg (Inverter #9)     3931  non-null values\n",
        "Power AC (Inverter #9)               12047  non-null values\n",
        "Power DC (Inverter #9)               12047  non-null values\n",
        "Voltage DC (Inverter #9)             12047  non-null values\n",
        "SunAz                                12768  non-null values\n",
        "SunEl                                12768  non-null values\n",
        "SunZen                               12768  non-null values\n",
        "ApparentSunEl                        12768  non-null values\n",
        "SolarTime                            12768  non-null values\n",
        "HExtra                               12768  non-null values\n",
        "AM                                   12768  non-null values\n",
        "AOI                                  12768  non-null values\n",
        "E                                    12131  non-null values\n",
        "Kt                                   11477  non-null values\n",
        "Ediff                                5952  non-null values\n",
        "Eb                                   5952  non-null values\n",
        "dtypes: float64(96)"
       ]
      }
     ],
     "prompt_number": 400
    },
    {
     "cell_type": "heading",
     "level": 1,
     "metadata": {},
     "source": [
      "Calculate Cell Temperature"
     ]
    },
    {
     "cell_type": "code",
     "collapsed": false,
     "input": [
      "TMY['Tcell']=TMY['Module Temp Deg C (Env Kit #1)'] + TMY.E / 1000*(1)\n",
      "moddb"
     ],
     "language": "python",
     "metadata": {},
     "outputs": [
      {
       "html": [
        "<pre>\n",
        "&lt;class 'pandas.core.frame.DataFrame'&gt;\n",
        "Index: 41 entries, Vintage to C7\n",
        "Columns: 513 entries, Advent_Solar_AS160___2006_ to Yingli_YL210__2008__E__\n",
        "dtypes: object(513)\n",
        "</pre>"
       ],
       "metadata": {},
       "output_type": "pyout",
       "prompt_number": 403,
       "text": [
        "<class 'pandas.core.frame.DataFrame'>\n",
        "Index: 41 entries, Vintage to C7\n",
        "Columns: 513 entries, Advent_Solar_AS160___2006_ to Yingli_YL210__2008__E__\n",
        "dtypes: object(513)"
       ]
      }
     ],
     "prompt_number": 403
    },
    {
     "cell_type": "heading",
     "level": 1,
     "metadata": {},
     "source": [
      "Import module coefficients"
     ]
    },
    {
     "cell_type": "code",
     "collapsed": false,
     "input": [
      "import pvl_retreiveSAM as SAM\n",
      "reload(SAM)\n",
      "#moddb=SAM.pvl_retreiveSAM(name='SandiaMod')\n",
      "module=moddb.Suntech_STP270S_24_Vb_Module___2008_\n",
      "module"
     ],
     "language": "python",
     "metadata": {},
     "outputs": [
      {
       "metadata": {},
       "output_type": "pyout",
       "prompt_number": 404,
       "text": [
        "Vintage           2008\n",
        "Area             1.938\n",
        "Material         mc-Si\n",
        "#Series             72\n",
        "#Parallel            1\n",
        "Isco             8.063\n",
        "Voco            43.869\n",
        "Impo             7.556\n",
        "Vmpo            35.134\n",
        "Aisc          0.000606\n",
        "Aimp           1.6e-05\n",
        "C0              0.9914\n",
        "C1              0.0086\n",
        "Bvoco          -0.1504\n",
        "Mbvoc                0\n",
        "Bvmpo          -0.1567\n",
        "Mbvmp                0\n",
        "N                1.305\n",
        "C2            0.013749\n",
        "C3               -7.84\n",
        "A0              0.9433\n",
        "A1             0.04997\n",
        "A2           -0.009286\n",
        "A3            0.000763\n",
        "A4           -2.32e-05\n",
        "B0                   1\n",
        "B1           -0.002438\n",
        "B2             0.00031\n",
        "B3          -1.246e-05\n",
        "B4           2.112e-07\n",
        "B5          -1.359e-09\n",
        "DTC                  3\n",
        "FD                   1\n",
        "A               -3.241\n",
        "B             -0.08631\n",
        "C4              0.9845\n",
        "C5              0.0155\n",
        "IXO             8.0101\n",
        "IXXO            5.3816\n",
        "C6              1.1256\n",
        "C7             -0.1256\n",
        "Name: Suntech_STP270S_24_Vb_Module___2008_, dtype: object"
       ]
      }
     ],
     "prompt_number": 404
    },
    {
     "cell_type": "heading",
     "level": 1,
     "metadata": {},
     "source": [
      "\n",
      "import inverter coefficients"
     ]
    },
    {
     "cell_type": "code",
     "collapsed": false,
     "input": [
      "import pvl_retreiveSAM as SAM\n",
      "reload(SAM)\n",
      "Invdb=SAM.pvl_retreiveSAM(name='SandiaInverter')"
     ],
     "language": "python",
     "metadata": {},
     "outputs": [],
     "prompt_number": 112
    },
    {
     "cell_type": "code",
     "collapsed": false,
     "input": [
      "\n",
      "inverter=Invdb.Satcon_Technology_Corporation__Solstice_SDMS0500UL320Xx__320Vac__320V__CEC_2010_\n",
      "#inverter['Paco']=187000\n",
      "#inverter['Pdco']=180000"
     ],
     "language": "python",
     "metadata": {},
     "outputs": [],
     "prompt_number": 411
    },
    {
     "cell_type": "code",
     "collapsed": false,
     "input": [
      "inverter['Paco']/1000"
     ],
     "language": "python",
     "metadata": {},
     "outputs": [
      {
       "metadata": {},
       "output_type": "pyout",
       "prompt_number": 438,
       "text": [
        "500.0"
       ]
      }
     ],
     "prompt_number": 438
    },
    {
     "cell_type": "heading",
     "level": 1,
     "metadata": {},
     "source": [
      "Sandia Model"
     ]
    },
    {
     "cell_type": "code",
     "collapsed": false,
     "input": [],
     "language": "python",
     "metadata": {},
     "outputs": [],
     "prompt_number": 406
    },
    {
     "cell_type": "code",
     "collapsed": false,
     "input": [
      "import pvl_sapm as sapm\n",
      "reload(sapm)\n",
      "TMY=sapm.pvl_sapm(DataFrame=TMY,Module=module)\n",
      "Ms=10\n",
      "TotMod=2122\n",
      "TMY.Vmp = Ms  *TMY.Vmp\n",
      "TMY.Imp = TotMod/float(Ms)  *TMY.Imp\n",
      "TMY.Pmp = TMY.Vmp * TMY.Imp"
     ],
     "language": "python",
     "metadata": {},
     "outputs": [],
     "prompt_number": 447
    },
    {
     "cell_type": "heading",
     "level": 1,
     "metadata": {},
     "source": [
      "Inverter Model"
     ]
    },
    {
     "cell_type": "code",
     "collapsed": false,
     "input": [
      "import pvl_snlinverter as invmod\n",
      "reload(invmod)\n",
      "TMY=invmod.pvl_snlinverter(DataFrame=TMY,Inverter=inverter)"
     ],
     "language": "python",
     "metadata": {},
     "outputs": [],
     "prompt_number": 448
    },
    {
     "cell_type": "code",
     "collapsed": false,
     "input": [
      "figure(1)\n",
      "clf()\n",
      "rng=range(1,4995)\n",
      "plot(TMY.Pmp[rng],'r')\n",
      "plot(TMY['Power AC (Inverter #12)'][rng]*1000,'b')\n",
      "twinx()\n",
      "plot(TMY['Voltage DC (Inverter #12)'][rng])\n",
      "plot(TMY.Vmp[rng],'k')"
     ],
     "language": "python",
     "metadata": {},
     "outputs": [
      {
       "metadata": {},
       "output_type": "pyout",
       "prompt_number": 451,
       "text": [
        "[<matplotlib.lines.Line2D at 0x12966e710>]"
       ]
      }
     ],
     "prompt_number": 451
    },
    {
     "cell_type": "code",
     "collapsed": false,
     "input": [
      "TMY.columns"
     ],
     "language": "python",
     "metadata": {},
     "outputs": [
      {
       "metadata": {},
       "output_type": "pyout",
       "prompt_number": 421,
       "text": [
        "Index([u'Ambient Temp Deg C (Env Kit #1)', u'Module Temp Deg C (Env Kit #1)', u'Wind Speed (Env Kit #1)', u'Wind Direction (Env Kit #1)', u'Energy DC Comb Avg (Inverter #1)', u'Energy DC Comb Avg (Inverter #10)', u'Energy DC Comb Avg (Inverter #11)', u'Energy DC Comb Avg (Inverter #12)', u'Energy DC Comb Avg (Inverter #13)', u'Energy DC Comb Avg (Inverter #14)', u'Energy DC Comb Avg (Inverter #15)', u'Energy DC Comb Avg (Inverter #16)', u'Energy DC Comb Avg (Inverter #2)', u'Energy DC Comb Avg (Inverter #3)', u'Power DC (Inverter #3)', u'Voltage DC (Inverter #3)', u'Power DC (Inverter #1)', u'Power AC (Inverter #1)', u'Voltage DC (Inverter #1)', u'DC Curr Comb Avg (Inverter #1)', u'DC Curr Comb Avg (Inverter #10)', u'Power DC (Inverter #10)', u'Voltage DC (Inverter #10)', u'Power AC (Inverter #10)', u'Power DC (Inverter #11)', u'Power AC (Inverter #11)', u'DC Curr Comb Avg (Inverter #11)', u'Voltage DC (Inverter #11)', u'DC Curr Comb Avg (Inverter #12)', u'Power DC (Inverter #12)', u'Power AC (Inverter #12)', u'Voltage DC (Inverter #12)', u'DC Curr Comb Avg (Inverter #13)', u'Power AC (Inverter #13)', u'Power DC (Inverter #13)', u'Voltage DC (Inverter #13)', u'DC Curr Comb Avg (Inverter #14)', u'Power AC (Inverter #14)', u'Power DC (Inverter #14)', u'Voltage DC (Inverter #14)', u'DC Curr Comb Avg (Inverter #15)', u'Power AC (Inverter #15)', u'Power DC (Inverter #15)', u'Voltage DC (Inverter #15)', u'DC Curr Comb Avg (Inverter #16)', u'Power AC (Inverter #16)', u'Power DC (Inverter #16)', u'Voltage DC (Inverter #16)', u'DC Curr Comb Avg (Inverter #2)', u'Power AC (Inverter #2)', u'Power DC (Inverter #2)', u'Voltage DC (Inverter #2)', u'DC Curr Comb Avg (Inverter #3)', u'Power AC (Inverter #3)', u'DC Curr Comb Avg (Inverter #4)', u'Energy DC Comb Avg (Inverter #4)', u'Power AC (Inverter #4)', u'Power DC (Inverter #4)', u'Voltage DC (Inverter #4)', u'DC Curr Comb Avg (Inverter #5)', u'Energy DC Comb Avg (Inverter #5)', u'Power AC (Inverter #5)', u'Power DC (Inverter #5)', u'Voltage DC (Inverter #5)', u'DC Curr Comb Avg (Inverter #6)', u'Energy DC Comb Avg (Inverter #6)', u'Power AC (Inverter #6)', u'Power DC (Inverter #6)', u'Voltage DC (Inverter #6)', u'DC Curr Comb Avg (Inverter #7)', u'Energy DC Comb Avg (Inverter #7)', u'Power AC (Inverter #7)', u'Power DC (Inverter #7)', u'Voltage DC (Inverter #7)', u'DC Curr Comb Avg (Inverter #8)', u'Energy DC Comb Avg (Inverter #8)', u'Power AC (Inverter #8)', u'Power DC (Inverter #8)', u'Voltage DC (Inverter #8)', u'DC Curr Comb Avg (Inverter #9)', u'Energy DC Comb Avg (Inverter #9)', u'Power AC (Inverter #9)', u'Power DC (Inverter #9)', u'Voltage DC (Inverter #9)', u'SunAz', u'SunEl', u'SunZen', u'ApparentSunEl', u'SolarTime', u'HExtra', u'AM', u'AOI', u'E', u'Kt', u'Ediff', u'Eb', u'Tcell', u'Ee', u'Isc', u'Imp', u'Voc', u'Vmp', u'Pmp', u'Ix', u'Ixx', u'ACPower'], dtype=object)"
       ]
      }
     ],
     "prompt_number": 421
    },
    {
     "cell_type": "code",
     "collapsed": false,
     "input": [
      "clf()\n",
      "figure(2)\n",
      "plot(TMY.Imp,'--r')\n",
      "plot(TMY.inv1_dc_current+TMY.inv2_dc_current,'--b')\n",
      "plot(TMY.Vmp,'k')\n",
      "plot(TMY.inv1_dc_voltage,'b')\n",
      "twinx()\n",
      "plot(TMY.module_temp)"
     ],
     "language": "python",
     "metadata": {},
     "outputs": [
      {
       "ename": "AttributeError",
       "evalue": "'DataFrame' object has no attribute 'inv1_dc_current'",
       "output_type": "pyerr",
       "traceback": [
        "\u001b[0;31m---------------------------------------------------------------------------\u001b[0m\n\u001b[0;31mAttributeError\u001b[0m                            Traceback (most recent call last)",
        "\u001b[0;32m<ipython-input-409-281d242f5fe7>\u001b[0m in \u001b[0;36m<module>\u001b[0;34m()\u001b[0m\n\u001b[1;32m      2\u001b[0m \u001b[0mfigure\u001b[0m\u001b[0;34m(\u001b[0m\u001b[0;36m2\u001b[0m\u001b[0;34m)\u001b[0m\u001b[0;34m\u001b[0m\u001b[0m\n\u001b[1;32m      3\u001b[0m \u001b[0mplot\u001b[0m\u001b[0;34m(\u001b[0m\u001b[0mTMY\u001b[0m\u001b[0;34m.\u001b[0m\u001b[0mImp\u001b[0m\u001b[0;34m,\u001b[0m\u001b[0;34m'--r'\u001b[0m\u001b[0;34m)\u001b[0m\u001b[0;34m\u001b[0m\u001b[0m\n\u001b[0;32m----> 4\u001b[0;31m \u001b[0mplot\u001b[0m\u001b[0;34m(\u001b[0m\u001b[0mTMY\u001b[0m\u001b[0;34m.\u001b[0m\u001b[0minv1_dc_current\u001b[0m\u001b[0;34m+\u001b[0m\u001b[0mTMY\u001b[0m\u001b[0;34m.\u001b[0m\u001b[0minv2_dc_current\u001b[0m\u001b[0;34m,\u001b[0m\u001b[0;34m'--b'\u001b[0m\u001b[0;34m)\u001b[0m\u001b[0;34m\u001b[0m\u001b[0m\n\u001b[0m\u001b[1;32m      5\u001b[0m \u001b[0mplot\u001b[0m\u001b[0;34m(\u001b[0m\u001b[0mTMY\u001b[0m\u001b[0;34m.\u001b[0m\u001b[0mVmp\u001b[0m\u001b[0;34m,\u001b[0m\u001b[0;34m'k'\u001b[0m\u001b[0;34m)\u001b[0m\u001b[0;34m\u001b[0m\u001b[0m\n\u001b[1;32m      6\u001b[0m \u001b[0mplot\u001b[0m\u001b[0;34m(\u001b[0m\u001b[0mTMY\u001b[0m\u001b[0;34m.\u001b[0m\u001b[0minv1_dc_voltage\u001b[0m\u001b[0;34m,\u001b[0m\u001b[0;34m'b'\u001b[0m\u001b[0;34m)\u001b[0m\u001b[0;34m\u001b[0m\u001b[0m\n",
        "\u001b[0;32m/Library/Python/2.7/site-packages/pandas/core/frame.pyc\u001b[0m in \u001b[0;36m__getattr__\u001b[0;34m(self, name)\u001b[0m\n\u001b[1;32m   2086\u001b[0m             \u001b[0;32mreturn\u001b[0m \u001b[0mself\u001b[0m\u001b[0;34m[\u001b[0m\u001b[0mname\u001b[0m\u001b[0;34m]\u001b[0m\u001b[0;34m\u001b[0m\u001b[0m\n\u001b[1;32m   2087\u001b[0m         raise AttributeError(\"'%s' object has no attribute '%s'\" %\n\u001b[0;32m-> 2088\u001b[0;31m                              (type(self).__name__, name))\n\u001b[0m\u001b[1;32m   2089\u001b[0m \u001b[0;34m\u001b[0m\u001b[0m\n\u001b[1;32m   2090\u001b[0m     \u001b[0;32mdef\u001b[0m \u001b[0m__setattr__\u001b[0m\u001b[0;34m(\u001b[0m\u001b[0mself\u001b[0m\u001b[0;34m,\u001b[0m \u001b[0mname\u001b[0m\u001b[0;34m,\u001b[0m \u001b[0mvalue\u001b[0m\u001b[0;34m)\u001b[0m\u001b[0;34m:\u001b[0m\u001b[0;34m\u001b[0m\u001b[0m\n",
        "\u001b[0;31mAttributeError\u001b[0m: 'DataFrame' object has no attribute 'inv1_dc_current'"
       ]
      }
     ],
     "prompt_number": 409
    },
    {
     "cell_type": "heading",
     "level": 1,
     "metadata": {},
     "source": [
      "Analysis"
     ]
    },
    {
     "cell_type": "code",
     "collapsed": false,
     "input": [
      "TMY.loss=TMY.ACPower-TMY.ac_power\n",
      "TMY.loss[TMY.Kt<.5]=0\n",
      "for month in [1,2,3,4,11,12]:\n",
      "    TMY.loss[TMY.index.month==month]=0\n",
      "totenergy=sum(TMY.ac_power)\n",
      "Hourly=[]\n",
      "for hour in range(6,20):\n",
      "    Hourly.append(sum(TMY.loss[TMY.index.hour==hour]))\n",
      "clf()\n",
      "bar(range(6,20),Hourly/totenergy*100) \n"
     ],
     "language": "python",
     "metadata": {},
     "outputs": [
      {
       "metadata": {},
       "output_type": "pyout",
       "prompt_number": 356,
       "text": [
        "<Container object of 14 artists>"
       ]
      }
     ],
     "prompt_number": 356
    },
    {
     "cell_type": "code",
     "collapsed": false,
     "input": [
      "TMY.index.dayofyear\n"
     ],
     "language": "python",
     "metadata": {},
     "outputs": [
      {
       "metadata": {},
       "output_type": "pyout",
       "prompt_number": 362,
       "text": [
        "array([  1,   1,   1, ..., 365, 365, 365], dtype=int32)"
       ]
      }
     ],
     "prompt_number": 362
    },
    {
     "cell_type": "code",
     "collapsed": false,
     "input": [
      "TMY.loss=TMY.ACPower-TMY.ac_power\n",
      "dailysum=[]\n",
      "for day in range(1,365):\n",
      "    dailysum.append(sum(TMY.loss[TMY.index.dayofyear==day]))\n",
      "clf()\n",
      "plot(dailysum)"
     ],
     "language": "python",
     "metadata": {},
     "outputs": [
      {
       "metadata": {},
       "output_type": "pyout",
       "prompt_number": 364,
       "text": [
        "[<matplotlib.lines.Line2D at 0x128668850>]"
       ]
      }
     ],
     "prompt_number": 364
    },
    {
     "cell_type": "code",
     "collapsed": false,
     "input": [
      "clf()\n",
      "plot(TMY.loss)\n",
      "#plot(TMY.ac_power)\n"
     ],
     "language": "python",
     "metadata": {},
     "outputs": [
      {
       "metadata": {},
       "output_type": "pyout",
       "prompt_number": 366,
       "text": [
        "[<matplotlib.lines.Line2D at 0x127ed2dd0>]"
       ]
      }
     ],
     "prompt_number": 366
    },
    {
     "cell_type": "heading",
     "level": 1,
     "metadata": {},
     "source": [
      "Plotting Functions "
     ]
    },
    {
     "cell_type": "code",
     "collapsed": false,
     "input": [
      "clf()\n",
      "pl"
     ],
     "language": "python",
     "metadata": {},
     "outputs": []
    },
    {
     "cell_type": "code",
     "collapsed": false,
     "input": [
      "clf()\n",
      "plot(TMY['Voltage DC (Inverter #12)'])"
     ],
     "language": "python",
     "metadata": {},
     "outputs": [
      {
       "metadata": {},
       "output_type": "pyout",
       "prompt_number": 416,
       "text": [
        "[<matplotlib.lines.Line2D at 0x127f101d0>]"
       ]
      }
     ],
     "prompt_number": 416
    },
    {
     "cell_type": "code",
     "collapsed": false,
     "input": [
      "clf()\n",
      "plot(TMY.index,TMY.ACPower,'r')\n",
      "plot(TMY.index,TMY.ac_power,'b')\n",
      "#twinx()\n",
      "#plot(TMY.index,TMY.inv1_dc_voltage,'b')\n",
      "#plot(TMY.index,TMY.Vmp,'r')"
     ],
     "language": "python",
     "metadata": {},
     "outputs": [
      {
       "metadata": {},
       "output_type": "pyout",
       "prompt_number": 367,
       "text": [
        "[<matplotlib.lines.Line2D at 0x128680090>]"
       ]
      }
     ],
     "prompt_number": 367
    },
    {
     "cell_type": "code",
     "collapsed": false,
     "input": [
      "figure(2)\n",
      "clf()\n",
      "plot(TMY.index,TMY.Imp,'--k')\n",
      "plot(TMY.index,TMY.inv1_dc_current+TMY.inv2_dc_current,'--b')\n",
      "plot(TMY.index,TMY.Vmp,'k')\n",
      "plot(TMY.index,TMY.inv1_dc_voltage,'b')\n",
      "twinx()\n",
      "plot(TMY.index,TMY.ACPower,'r')\n",
      "plot(TMY.index,TMY.ac_power,'y')"
     ],
     "language": "python",
     "metadata": {},
     "outputs": [
      {
       "metadata": {},
       "output_type": "pyout",
       "prompt_number": 358,
       "text": [
        "[<matplotlib.lines.Line2D at 0x1286ae510>]"
       ]
      }
     ],
     "prompt_number": 358
    },
    {
     "cell_type": "code",
     "collapsed": false,
     "input": [
      "figure(2)\n",
      "plot(TMY.Imp,'--k')\n",
      "plot(TMY.inv1_dc_current+TMY.inv2_dc_current,'--b')\n",
      "plot(TMY.Vmp,'k')\n",
      "plot(TMY.inv1_dc_voltage,'b')\n"
     ],
     "language": "python",
     "metadata": {},
     "outputs": [
      {
       "metadata": {},
       "output_type": "pyout",
       "prompt_number": 325,
       "text": [
        "[<matplotlib.lines.Line2D at 0x126ea5bd0>]"
       ]
      }
     ],
     "prompt_number": 325
    },
    {
     "cell_type": "code",
     "collapsed": false,
     "input": [
      "figure(3)\n",
      "plot(TMY.index,TMY.Vmp,'k')\n",
      "plot(TMY.index,TMY.inv1_dc_voltage,'b')"
     ],
     "language": "python",
     "metadata": {},
     "outputs": [
      {
       "metadata": {},
       "output_type": "pyout",
       "prompt_number": 310,
       "text": [
        "[<matplotlib.lines.Line2D at 0x123d4ef50>]"
       ]
      }
     ],
     "prompt_number": 310
    },
    {
     "cell_type": "code",
     "collapsed": false,
     "input": [
      "figure(1)\n",
      "clf()\n",
      "plot(TMY.index,TMY.ACPower,'r')\n",
      "plot(TMY.index,TMY.ac_power,'b')\n",
      "twinx()\n",
      "plot(TMY.index,TMY.Kt,'g')"
     ],
     "language": "python",
     "metadata": {},
     "outputs": [
      {
       "metadata": {},
       "output_type": "pyout",
       "prompt_number": 187,
       "text": [
        "[<matplotlib.lines.Line2D at 0x119794610>]"
       ]
      }
     ],
     "prompt_number": 187
    },
    {
     "cell_type": "code",
     "collapsed": false,
     "input": [
      "TMY"
     ],
     "language": "python",
     "metadata": {},
     "outputs": [
      {
       "html": [
        "<pre>\n",
        "&lt;class 'pandas.core.frame.DataFrame'&gt;\n",
        "DatetimeIndex: 104905 entries, 2013-01-01 00:00:00 to 2013-12-31 23:55:00\n",
        "Data columns (total 41 columns):\n",
        "SiteID               104905  non-null values\n",
        "ac_power             104896  non-null values\n",
        "ambient_temp         104895  non-null values\n",
        "dc_power             104853  non-null values\n",
        "inv1_ac_power        104899  non-null values\n",
        "inv1_airtemp         104899  non-null values\n",
        "inv1_dc_current      104899  non-null values\n",
        "inv1_dc_power        104899  non-null values\n",
        "inv1_dc_voltage      104899  non-null values\n",
        "inv1_temp            104899  non-null values\n",
        "inv2_ac_power        104896  non-null values\n",
        "inv2_airtemp         104896  non-null values\n",
        "inv2_dc_current      104896  non-null values\n",
        "inv2_dc_power        104896  non-null values\n",
        "inv2_dc_voltage      104896  non-null values\n",
        "inv2_temp            104896  non-null values\n",
        "module_temp          104895  non-null values\n",
        "poa_irradiance       104895  non-null values\n",
        "relative_humidity    104895  non-null values\n",
        "SunAz                104905  non-null values\n",
        "SunEl                104905  non-null values\n",
        "SunZen               104905  non-null values\n",
        "ApparentSunEl        104905  non-null values\n",
        "SolarTime            104905  non-null values\n",
        "E                    104895  non-null values\n",
        "Kt                   104445  non-null values\n",
        "HExtra               104905  non-null values\n",
        "AM                   104905  non-null values\n",
        "AOI                  104905  non-null values\n",
        "Ediff                66968  non-null values\n",
        "Eb                   66968  non-null values\n",
        "Tcell                104895  non-null values\n",
        "Ee                   66968  non-null values\n",
        "Isc                  66968  non-null values\n",
        "Imp                  66968  non-null values\n",
        "Voc                  66968  non-null values\n",
        "Vmp                  66968  non-null values\n",
        "Pmp                  63238  non-null values\n",
        "Ix                   66968  non-null values\n",
        "Ixx                  66968  non-null values\n",
        "ACPower              63238  non-null values\n",
        "dtypes: float64(40), int64(1)\n",
        "</pre>"
       ],
       "metadata": {},
       "output_type": "pyout",
       "prompt_number": 323,
       "text": [
        "<class 'pandas.core.frame.DataFrame'>\n",
        "DatetimeIndex: 104905 entries, 2013-01-01 00:00:00 to 2013-12-31 23:55:00\n",
        "Data columns (total 41 columns):\n",
        "SiteID               104905  non-null values\n",
        "ac_power             104896  non-null values\n",
        "ambient_temp         104895  non-null values\n",
        "dc_power             104853  non-null values\n",
        "inv1_ac_power        104899  non-null values\n",
        "inv1_airtemp         104899  non-null values\n",
        "inv1_dc_current      104899  non-null values\n",
        "inv1_dc_power        104899  non-null values\n",
        "inv1_dc_voltage      104899  non-null values\n",
        "inv1_temp            104899  non-null values\n",
        "inv2_ac_power        104896  non-null values\n",
        "inv2_airtemp         104896  non-null values\n",
        "inv2_dc_current      104896  non-null values\n",
        "inv2_dc_power        104896  non-null values\n",
        "inv2_dc_voltage      104896  non-null values\n",
        "inv2_temp            104896  non-null values\n",
        "module_temp          104895  non-null values\n",
        "poa_irradiance       104895  non-null values\n",
        "relative_humidity    104895  non-null values\n",
        "SunAz                104905  non-null values\n",
        "SunEl                104905  non-null values\n",
        "SunZen               104905  non-null values\n",
        "ApparentSunEl        104905  non-null values\n",
        "SolarTime            104905  non-null values\n",
        "E                    104895  non-null values\n",
        "Kt                   104445  non-null values\n",
        "HExtra               104905  non-null values\n",
        "AM                   104905  non-null values\n",
        "AOI                  104905  non-null values\n",
        "Ediff                66968  non-null values\n",
        "Eb                   66968  non-null values\n",
        "Tcell                104895  non-null values\n",
        "Ee                   66968  non-null values\n",
        "Isc                  66968  non-null values\n",
        "Imp                  66968  non-null values\n",
        "Voc                  66968  non-null values\n",
        "Vmp                  66968  non-null values\n",
        "Pmp                  63238  non-null values\n",
        "Ix                   66968  non-null values\n",
        "Ixx                  66968  non-null values\n",
        "ACPower              63238  non-null values\n",
        "dtypes: float64(40), int64(1)"
       ]
      }
     ],
     "prompt_number": 323
    },
    {
     "cell_type": "code",
     "collapsed": false,
     "input": [
      "plot(TMY.Imp)\n",
      "plot(TMY.Vmp)\n",
      "plot(TMY.Pmp)\n",
      "plot(TMY.ACPower,'k')"
     ],
     "language": "python",
     "metadata": {},
     "outputs": [
      {
       "metadata": {},
       "output_type": "pyout",
       "prompt_number": 127,
       "text": [
        "[<matplotlib.lines.Line2D at 0x10b839910>]"
       ]
      }
     ],
     "prompt_number": 127
    },
    {
     "cell_type": "code",
     "collapsed": false,
     "input": [
      "clf()\n",
      "plot(TMY.ac_power)\n",
      "plot(TMY.ACPower,'k')"
     ],
     "language": "python",
     "metadata": {},
     "outputs": [
      {
       "metadata": {},
       "output_type": "pyout",
       "prompt_number": 131,
       "text": [
        "[<matplotlib.lines.Line2D at 0x10f5ec0d0>]"
       ]
      }
     ],
     "prompt_number": 131
    },
    {
     "cell_type": "code",
     "collapsed": false,
     "input": [
      "module"
     ],
     "language": "python",
     "metadata": {},
     "outputs": [
      {
       "metadata": {},
       "output_type": "pyout",
       "prompt_number": 154,
       "text": [
        "T_noct            48.7\n",
        "A_c               1.61\n",
        "N_s                 60\n",
        "I_sc_ref          8.08\n",
        "V_oc_ref          36.6\n",
        "I_mp_ref          7.54\n",
        "V_mp_ref          29.2\n",
        "Alpha_sc      0.006302\n",
        "Beta_oc       -0.13066\n",
        "A_ref           1.5673\n",
        "I_l_ref           8.09\n",
        "I_o_ref      5.746e-10\n",
        "R_s              0.381\n",
        "R_sh_ref        300.96\n",
        "Adjust             6.7\n",
        "Gamma_r         -0.453\n",
        "Source      Multi-c-Si\n",
        "Name: SolarWorld_SW220_Poly, dtype: object"
       ]
      }
     ],
     "prompt_number": 154
    },
    {
     "cell_type": "code",
     "collapsed": false,
     "input": [
      "TMY"
     ],
     "language": "python",
     "metadata": {},
     "outputs": [
      {
       "html": [
        "<pre>\n",
        "&lt;class 'pandas.core.frame.DataFrame'&gt;\n",
        "DatetimeIndex: 104905 entries, 2013-01-01 00:00:00 to 2013-12-31 23:55:00\n",
        "Data columns (total 41 columns):\n",
        "SiteID               104905  non-null values\n",
        "ac_power             104896  non-null values\n",
        "ambient_temp         104895  non-null values\n",
        "dc_power             104853  non-null values\n",
        "inv1_ac_power        104899  non-null values\n",
        "inv1_airtemp         104899  non-null values\n",
        "inv1_dc_current      104899  non-null values\n",
        "inv1_dc_power        104899  non-null values\n",
        "inv1_dc_voltage      104899  non-null values\n",
        "inv1_temp            104899  non-null values\n",
        "inv2_ac_power        104896  non-null values\n",
        "inv2_airtemp         104896  non-null values\n",
        "inv2_dc_current      104896  non-null values\n",
        "inv2_dc_power        104896  non-null values\n",
        "inv2_dc_voltage      104896  non-null values\n",
        "inv2_temp            104896  non-null values\n",
        "module_temp          104895  non-null values\n",
        "poa_irradiance       104895  non-null values\n",
        "relative_humidity    104895  non-null values\n",
        "SunAz                104905  non-null values\n",
        "SunEl                104905  non-null values\n",
        "SunZen               104905  non-null values\n",
        "ApparentSunEl        104905  non-null values\n",
        "SolarTime            104905  non-null values\n",
        "E                    104895  non-null values\n",
        "Kt                   104445  non-null values\n",
        "HExtra               104905  non-null values\n",
        "AM                   104905  non-null values\n",
        "AOI                  104905  non-null values\n",
        "Ediff                66968  non-null values\n",
        "Eb                   66968  non-null values\n",
        "Tcell                104895  non-null values\n",
        "Ee                   66968  non-null values\n",
        "Isc                  66968  non-null values\n",
        "Imp                  66968  non-null values\n",
        "Voc                  66968  non-null values\n",
        "Vmp                  66968  non-null values\n",
        "Pmp                  63238  non-null values\n",
        "Ix                   66968  non-null values\n",
        "Ixx                  66968  non-null values\n",
        "ACPower              63238  non-null values\n",
        "dtypes: float64(40), int64(1)\n",
        "</pre>"
       ],
       "metadata": {},
       "output_type": "pyout",
       "prompt_number": 153,
       "text": [
        "<class 'pandas.core.frame.DataFrame'>\n",
        "DatetimeIndex: 104905 entries, 2013-01-01 00:00:00 to 2013-12-31 23:55:00\n",
        "Data columns (total 41 columns):\n",
        "SiteID               104905  non-null values\n",
        "ac_power             104896  non-null values\n",
        "ambient_temp         104895  non-null values\n",
        "dc_power             104853  non-null values\n",
        "inv1_ac_power        104899  non-null values\n",
        "inv1_airtemp         104899  non-null values\n",
        "inv1_dc_current      104899  non-null values\n",
        "inv1_dc_power        104899  non-null values\n",
        "inv1_dc_voltage      104899  non-null values\n",
        "inv1_temp            104899  non-null values\n",
        "inv2_ac_power        104896  non-null values\n",
        "inv2_airtemp         104896  non-null values\n",
        "inv2_dc_current      104896  non-null values\n",
        "inv2_dc_power        104896  non-null values\n",
        "inv2_dc_voltage      104896  non-null values\n",
        "inv2_temp            104896  non-null values\n",
        "module_temp          104895  non-null values\n",
        "poa_irradiance       104895  non-null values\n",
        "relative_humidity    104895  non-null values\n",
        "SunAz                104905  non-null values\n",
        "SunEl                104905  non-null values\n",
        "SunZen               104905  non-null values\n",
        "ApparentSunEl        104905  non-null values\n",
        "SolarTime            104905  non-null values\n",
        "E                    104895  non-null values\n",
        "Kt                   104445  non-null values\n",
        "HExtra               104905  non-null values\n",
        "AM                   104905  non-null values\n",
        "AOI                  104905  non-null values\n",
        "Ediff                66968  non-null values\n",
        "Eb                   66968  non-null values\n",
        "Tcell                104895  non-null values\n",
        "Ee                   66968  non-null values\n",
        "Isc                  66968  non-null values\n",
        "Imp                  66968  non-null values\n",
        "Voc                  66968  non-null values\n",
        "Vmp                  66968  non-null values\n",
        "Pmp                  63238  non-null values\n",
        "Ix                   66968  non-null values\n",
        "Ixx                  66968  non-null values\n",
        "ACPower              63238  non-null values\n",
        "dtypes: float64(40), int64(1)"
       ]
      }
     ],
     "prompt_number": 153
    },
    {
     "cell_type": "code",
     "collapsed": false,
     "input": [],
     "language": "python",
     "metadata": {},
     "outputs": []
    }
   ],
   "metadata": {}
  }
 ]
}