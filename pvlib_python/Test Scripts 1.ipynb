{
 "metadata": {
  "name": ""
 },
 "nbformat": 3,
 "nbformat_minor": 0,
 "worksheets": [
  {
   "cells": [
    {
     "cell_type": "heading",
     "level": 1,
     "metadata": {},
     "source": [
      "Import TMY data"
     ]
    },
    {
     "cell_type": "heading",
     "level": 2,
     "metadata": {},
     "source": [
      "Use Sandia standard data "
     ]
    },
    {
     "cell_type": "code",
     "collapsed": false,
     "input": [
      "import pvl_readtmy3 as tmy3\n",
      "reload(tmy3)\n",
      "TMY, meta=tmy3.pvl_readtmy3(FileName='723650TY.csv')"
     ],
     "language": "python",
     "metadata": {},
     "outputs": [
      {
       "output_type": "stream",
       "stream": "stdout",
       "text": [
        "['01/01/198101:00' '01/01/198102:00' '01/01/198103:00' ...,\n",
        " '12/31/199922:00' '12/31/199923:00' '12/31/199924:00']\n"
       ]
      }
     ],
     "prompt_number": 1
    },
    {
     "cell_type": "code",
     "collapsed": false,
     "input": [
      "meta.TZ"
     ],
     "language": "python",
     "metadata": {},
     "outputs": [
      {
       "metadata": {},
       "output_type": "pyout",
       "prompt_number": 2,
       "text": [
        "-7.0"
       ]
      }
     ],
     "prompt_number": 2
    },
    {
     "cell_type": "heading",
     "level": 1,
     "metadata": {},
     "source": [
      "Get solar angles"
     ]
    },
    {
     "cell_type": "code",
     "collapsed": false,
     "input": [
      "import pvl_ephemeris as eph\n",
      "reload(eph)\n",
      "TMY=eph.pvl_ephemeris(DataFrame=TMY,Location=meta)"
     ],
     "language": "python",
     "metadata": {},
     "outputs": [],
     "prompt_number": 3
    },
    {
     "cell_type": "heading",
     "level": 1,
     "metadata": {},
     "source": [
      "Calculate Extraterrestrial Irradiaion and AirMass"
     ]
    },
    {
     "cell_type": "code",
     "collapsed": false,
     "input": [
      "import pvl_extraradiation as ext\n",
      "reload(ext)\n",
      "TMY['HExtra']=ext.pvl_extraradiation(doy=TMY.index.dayofyear)\n",
      "\n",
      "import pvl_relativeairmass as AM\n",
      "reload(AM)\n",
      "TMY['AM']=AM.pvl_relativeairmass(z=TMY.SunZen)"
     ],
     "language": "python",
     "metadata": {},
     "outputs": [],
     "prompt_number": 5
    },
    {
     "cell_type": "heading",
     "level": 1,
     "metadata": {},
     "source": [
      "Generate Clear Sky and DNI"
     ]
    },
    {
     "cell_type": "code",
     "collapsed": false,
     "input": [
      "import pvl_disc as disc\n",
      "reload(disc)\n",
      "TMY=disc.pvl_disc(DataFrame=TMY)"
     ],
     "language": "python",
     "metadata": {},
     "outputs": [],
     "prompt_number": 6
    },
    {
     "cell_type": "heading",
     "level": 1,
     "metadata": {},
     "source": [
      "Plane Transformation"
     ]
    },
    {
     "cell_type": "code",
     "collapsed": false,
     "input": [
      "import pvl_perez as perez\n",
      "reload(perez)\n",
      "TMY=perez.pvl_perez(DataFrame=TMY,SurfTilt=30,SurfAz=0)"
     ],
     "language": "python",
     "metadata": {},
     "outputs": [],
     "prompt_number": 7
    },
    {
     "cell_type": "heading",
     "level": 1,
     "metadata": {},
     "source": [
      "Ground Diffuse reflection"
     ]
    },
    {
     "cell_type": "code",
     "collapsed": false,
     "input": [
      "import pvl_grounddiffuse as diff\n",
      "reload(diff)\n",
      "TMY=diff.pvl_grounddiffuse(DataFrame=TMY,Albedo=0.2,SurfTilt=30)"
     ],
     "language": "python",
     "metadata": {},
     "outputs": [],
     "prompt_number": 8
    },
    {
     "cell_type": "heading",
     "level": 1,
     "metadata": {},
     "source": [
      "Get AOI"
     ]
    },
    {
     "cell_type": "code",
     "collapsed": false,
     "input": [
      "import pvl_getaoi as aoi\n",
      "reload(aoi)\n",
      "TMY=aoi.pvl_getaoi(DataFrame=TMY,SurfTilt=30,SurfAz=180)"
     ],
     "language": "python",
     "metadata": {},
     "outputs": [],
     "prompt_number": 9
    },
    {
     "cell_type": "heading",
     "level": 1,
     "metadata": {},
     "source": [
      "Calculate Global in-plane"
     ]
    },
    {
     "cell_type": "code",
     "collapsed": false,
     "input": [
      "import pvl_globalinplane as globalirr\n",
      "reload(globalirr)\n",
      "TMY=globalirr.pvl_globalinplane(DataFrame=TMY,SurfTilt=30,SurfAz=180)\n"
     ],
     "language": "python",
     "metadata": {},
     "outputs": [],
     "prompt_number": 10
    },
    {
     "cell_type": "heading",
     "level": 1,
     "metadata": {},
     "source": [
      "Calculate Cell Temperature"
     ]
    },
    {
     "cell_type": "code",
     "collapsed": false,
     "input": [
      "import pvl_sapmcelltemp as temp\n",
      "reload(temp)\n",
      "TMY=temp.pvl_sapmcelltemp(DataFrame=TMY)"
     ],
     "language": "python",
     "metadata": {},
     "outputs": [],
     "prompt_number": 11
    },
    {
     "cell_type": "heading",
     "level": 1,
     "metadata": {},
     "source": [
      "Import module coefficients"
     ]
    },
    {
     "cell_type": "code",
     "collapsed": false,
     "input": [
      "import pvl_retreiveSAM as SAM\n",
      "reload(SAM)\n",
      "moddb=SAM.pvl_retreiveSAM(name='SandiaMod')\n",
      "module=moddb.Solar_World_SW175_Mono_Sun_Module___2009_\n",
      "module"
     ],
     "language": "python",
     "metadata": {},
     "outputs": [
      {
       "metadata": {},
       "output_type": "pyout",
       "prompt_number": 22,
       "text": [
        "Vintage                                                   2009\n",
        "Area                                                     1.286\n",
        "Material                                                  c-Si\n",
        "#Series                                                     72\n",
        "#Parallel                                                    1\n",
        "Isco                                                     5.143\n",
        "Voco                                                    44.623\n",
        "Impo                                                     4.805\n",
        "Vmpo                                                    36.071\n",
        "Aisc                                                  0.000624\n",
        "Aimp                                                  -2.7e-05\n",
        "C0                                                      1.0016\n",
        "C1                                                     -0.0016\n",
        "Bvoco                                                  -0.1646\n",
        "Mbvoc                                                        0\n",
        "Bvmpo                                                  -0.1722\n",
        "Mbvmp                                                        0\n",
        "N                                                        1.274\n",
        "C2                                                    0.236148\n",
        "C3                                                    -4.62278\n",
        "A0                                                      0.9543\n",
        "A1                                                     0.03574\n",
        "A2                                                   -0.003519\n",
        "A3                                                  -5.592e-05\n",
        "A4                                                   1.569e-05\n",
        "B0                                                           1\n",
        "B1                                                   -0.002438\n",
        "B2                                                   0.0003103\n",
        "B3                                                  -1.246e-05\n",
        "B4                                                   2.112e-07\n",
        "B5                                                  -1.359e-09\n",
        "DTC                                                          3\n",
        "FD                                                           1\n",
        "A                                                       -3.319\n",
        "B                                                     -0.09116\n",
        "C4                                                      0.9908\n",
        "C5                                                      0.0092\n",
        "IXO                                                     5.1494\n",
        "IXXO                                                    3.4661\n",
        "C6                                                      1.1233\n",
        "C7                                                     -0.1233\n",
        "Notes        Source: Sandia National Laboratories Updated 9...\n",
        "Name: Solar_World_SW175_Mono_Sun_Module___2009_, dtype: object"
       ]
      }
     ],
     "prompt_number": 22
    },
    {
     "cell_type": "heading",
     "level": 1,
     "metadata": {},
     "source": [
      "\n",
      "import inverter coefficients"
     ]
    },
    {
     "cell_type": "code",
     "collapsed": false,
     "input": [
      "import pvl_retreiveSAM as SAM\n",
      "reload(SAM)\n",
      "Invdb=SAM.pvl_retreiveSAM(name='SandiaInverter')"
     ],
     "language": "python",
     "metadata": {},
     "outputs": [],
     "prompt_number": 23
    },
    {
     "cell_type": "code",
     "collapsed": false,
     "input": [
      "\n",
      "inverter=Invdb.Aero_Sharp__X01_040L2E1_240V__CEC_2011_\n",
      "inverter"
     ],
     "language": "python",
     "metadata": {},
     "outputs": [
      {
       "metadata": {},
       "output_type": "pyout",
       "prompt_number": 24,
       "text": [
        "Vac           240.000000\n",
        "Paco         4012.000000\n",
        "Pdco         4293.090000\n",
        "Vdco          274.475000\n",
        "Pso            47.078200\n",
        "C0             -0.000008\n",
        "C1             -0.000115\n",
        "C2             -0.001167\n",
        "C3             -0.001500\n",
        "Pnt            -0.710000\n",
        "Vdcmax        400.000000\n",
        "Idcmax         10.000000\n",
        "Mppt_low      150.000000\n",
        "Mppt_high     350.000000\n",
        "Name: Aero_Sharp__X01_040L2E1_240V__CEC_2011_, dtype: float64"
       ]
      }
     ],
     "prompt_number": 24
    },
    {
     "cell_type": "heading",
     "level": 1,
     "metadata": {},
     "source": [
      "Sandia Model"
     ]
    },
    {
     "cell_type": "code",
     "collapsed": false,
     "input": [
      "import pvl_sapm as sapm\n",
      "reload(sapm)\n",
      "TMY=sapm.pvl_sapm(DataFrame=TMY,Module=module)"
     ],
     "language": "python",
     "metadata": {},
     "outputs": [],
     "prompt_number": 25
    },
    {
     "cell_type": "heading",
     "level": 1,
     "metadata": {},
     "source": [
      "Inverter Model"
     ]
    },
    {
     "cell_type": "code",
     "collapsed": false,
     "input": [
      "import pvl_snlinverter as invmod\n",
      "reload(invmod)\n",
      "TMY=invmod.pvl_snlinverter(DataFrame=TMY,Inverter=inverter)"
     ],
     "language": "python",
     "metadata": {},
     "outputs": [],
     "prompt_number": 26
    },
    {
     "cell_type": "code",
     "collapsed": false,
     "input": [
      "clf()\n",
      "plot(TMY.Imp)\n",
      "plot(TMY.Vmp)\n",
      "plot(TMY.Pmp)\n",
      "plot(TMY.ACPower,'k')"
     ],
     "language": "python",
     "metadata": {},
     "outputs": [
      {
       "metadata": {},
       "output_type": "pyout",
       "prompt_number": 35,
       "text": [
        "[<matplotlib.lines.Line2D at 0x10b2d0550>]"
       ]
      }
     ],
     "prompt_number": 35
    },
    {
     "cell_type": "code",
     "collapsed": false,
     "input": [
      "clf()\n",
      "plot(TMY.ACPower)\n"
     ],
     "language": "python",
     "metadata": {},
     "outputs": [
      {
       "metadata": {},
       "output_type": "pyout",
       "prompt_number": 32,
       "text": [
        "[<matplotlib.lines.Line2D at 0x10b2f0fd0>]"
       ]
      }
     ],
     "prompt_number": 32
    },
    {
     "cell_type": "code",
     "collapsed": false,
     "input": [],
     "language": "python",
     "metadata": {},
     "outputs": []
    }
   ],
   "metadata": {}
  }
 ]
}