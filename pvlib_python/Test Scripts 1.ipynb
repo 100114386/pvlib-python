{
 "metadata": {
  "name": ""
 },
 "nbformat": 3,
 "nbformat_minor": 0,
 "worksheets": [
  {
   "cells": [
    {
     "cell_type": "heading",
     "level": 1,
     "metadata": {},
     "source": [
      "Import TMY data"
     ]
    },
    {
     "cell_type": "heading",
     "level": 2,
     "metadata": {},
     "source": [
      "Use Sandia standard data "
     ]
    },
    {
     "cell_type": "code",
     "collapsed": false,
     "input": [
      "import pvl_readtmy3 as tmy3\n",
      "reload(tmy3)\n",
      "TMY, meta=tmy3.pvl_readtmy3(FileName='/Users/robandrews/Dropbox/My_Documents/Documents/Projects/Data/TMY/tmy3/723650TY.csv')"
     ],
     "language": "python",
     "metadata": {},
     "outputs": [
      {
       "output_type": "stream",
       "stream": "stdout",
       "text": [
        "DEVWARNING: Fix string index dependancy\n",
        "['01/01/198101:00' '01/01/198102:00' '01/01/198103:00' ...,\n",
        " '12/31/199922:00' '12/31/199923:00' '12/31/199924:00']"
       ]
      },
      {
       "output_type": "stream",
       "stream": "stdout",
       "text": [
        "\n"
       ]
      }
     ],
     "prompt_number": 98
    },
    {
     "cell_type": "heading",
     "level": 1,
     "metadata": {},
     "source": [
      "Get solar angles"
     ]
    },
    {
     "cell_type": "code",
     "collapsed": false,
     "input": [
      "import pvl_ephemeris as eph\n",
      "reload(eph)\n",
      "TMY=eph.pvl_ephemeris(DataFrame=TMY,Location=meta)"
     ],
     "language": "python",
     "metadata": {},
     "outputs": [
      {
       "output_type": "stream",
       "stream": "stdout",
       "text": [
        "DEVWARNING: Fix string index dependancy\n"
       ]
      }
     ],
     "prompt_number": 99
    },
    {
     "cell_type": "heading",
     "level": 1,
     "metadata": {},
     "source": [
      "Calculate Extraterrestrial Irradiaion and AirMass"
     ]
    },
    {
     "cell_type": "code",
     "collapsed": false,
     "input": [
      "import pvl_extraradiation as ext\n",
      "reload(ext)\n",
      "TMY['HExtra']=ext.pvl_extraradiation(doy=TMY3.index.dayofyear)\n",
      "\n",
      "import pvl_relativeairmass as AM\n",
      "reload(AM)\n",
      "TMY['AM']=AM.pvl_relativeairmass(z=TMY.SunZen)"
     ],
     "language": "python",
     "metadata": {},
     "outputs": [
      {
       "output_type": "stream",
       "stream": "stdout",
       "text": [
        "DEVWARNING: Fix string index dependancy\n",
        "DEVWARNING: Fix string index dependancy\n"
       ]
      }
     ],
     "prompt_number": 100
    },
    {
     "cell_type": "heading",
     "level": 1,
     "metadata": {},
     "source": [
      "Generate Clear Sky and DNI"
     ]
    },
    {
     "cell_type": "code",
     "collapsed": false,
     "input": [
      "import pvl_disc as disc\n",
      "reload(disc)\n",
      "TMY=disc.pvl_disc(DataFrame=TMY)"
     ],
     "language": "python",
     "metadata": {},
     "outputs": [
      {
       "output_type": "stream",
       "stream": "stdout",
       "text": [
        "DEVWARNING: Fix string index dependancy\n"
       ]
      }
     ],
     "prompt_number": 101
    },
    {
     "cell_type": "heading",
     "level": 1,
     "metadata": {},
     "source": [
      "Plane Transformation"
     ]
    },
    {
     "cell_type": "code",
     "collapsed": false,
     "input": [
      "import pvl_perez as perez\n",
      "reload(perez)\n",
      "TMY=perez.pvl_perez(DataFrame=TMY,SurfTilt=30,SurfAz=0)"
     ],
     "language": "python",
     "metadata": {},
     "outputs": [
      {
       "output_type": "stream",
       "stream": "stdout",
       "text": [
        "WARNING: Numeric variable SurfTilt not input as a numpy array. Recasting as array\n",
        "WARNING: Numeric variable SurfAz not input as a numpy array. Recasting as array\n",
        "DEVWARNING: Fix string index dependancy\n"
       ]
      }
     ],
     "prompt_number": 115
    },
    {
     "cell_type": "heading",
     "level": 1,
     "metadata": {},
     "source": [
      "Ground Diffuse reflection"
     ]
    },
    {
     "cell_type": "code",
     "collapsed": false,
     "input": [
      "import pvl_grounddiffuse as diff\n",
      "reload(diff)\n",
      "TMY=diff.pvl_grounddiffuse(DataFrame=TMY,Albedo=0.2,SurfTilt=30)"
     ],
     "language": "python",
     "metadata": {},
     "outputs": [
      {
       "output_type": "stream",
       "stream": "stdout",
       "text": [
        "WARNING: Numeric variable SurfTilt not input as a numpy array. Recasting as array\n",
        "WARNING: Numeric variable Albedo not input as a numpy array. Recasting as array\n",
        "DEVWARNING: Fix string index dependancy\n"
       ]
      }
     ],
     "prompt_number": 116
    },
    {
     "cell_type": "heading",
     "level": 1,
     "metadata": {},
     "source": [
      "Get AOI"
     ]
    },
    {
     "cell_type": "code",
     "collapsed": false,
     "input": [
      "import pvl_getaoi as aoi\n",
      "reload(aoi)\n",
      "TMY=aoi.pvl_getaoi(DataFrame=TMY,SurfTilt=30,SurfAz=180)"
     ],
     "language": "python",
     "metadata": {},
     "outputs": [
      {
       "output_type": "stream",
       "stream": "stdout",
       "text": [
        "WARNING: Numeric variable SurfTilt not input as a numpy array. Recasting as array\n",
        "WARNING: Numeric variable SurfAz not input as a numpy array. Recasting as array\n",
        "DEVWARNING: Fix string index dependancy\n"
       ]
      }
     ],
     "prompt_number": 149
    },
    {
     "cell_type": "heading",
     "level": 1,
     "metadata": {},
     "source": [
      "Calculate Global in-plane"
     ]
    },
    {
     "cell_type": "code",
     "collapsed": false,
     "input": [
      "import pvl_globalinplane as globalirr\n",
      "reload(globalirr)\n",
      "TMY=globalirr.pvl_globalinplane(DataFrame=TMY,SurfTilt=30,SurfAz=180)\n"
     ],
     "language": "python",
     "metadata": {},
     "outputs": [
      {
       "output_type": "stream",
       "stream": "stdout",
       "text": [
        "WARNING: Numeric variable SurfTilt not input as a numpy array. Recasting as array\n",
        "WARNING: Numeric variable SurfAz not input as a numpy array. Recasting as array\n",
        "DEVWARNING: Fix string index dependancy\n"
       ]
      }
     ],
     "prompt_number": 150
    },
    {
     "cell_type": "heading",
     "level": 1,
     "metadata": {},
     "source": [
      "Calculate Cell Temperature"
     ]
    },
    {
     "cell_type": "code",
     "collapsed": false,
     "input": [
      "import pvl_sapmcelltemp as temp\n",
      "reload(temp)\n",
      "TMY=temp.pvl_sapmcelltemp(DataFrame=TMY)"
     ],
     "language": "python",
     "metadata": {},
     "outputs": [
      {
       "output_type": "stream",
       "stream": "stdout",
       "text": [
        "DEVWARNING: Fix string index dependancy\n"
       ]
      }
     ],
     "prompt_number": 151
    },
    {
     "cell_type": "heading",
     "level": 1,
     "metadata": {},
     "source": [
      "Import module coefficients"
     ]
    },
    {
     "cell_type": "code",
     "collapsed": false,
     "input": [
      "import pvl_retreiveSAM as SAM\n",
      "reload(SAM)\n",
      "moddb=SAM.pvl_retreiveSAM(name='SandiaMod')\n",
      "module=moddb.Solar_World_SW175_Mono_Sun_Module___2009_\n",
      "module"
     ],
     "language": "python",
     "metadata": {},
     "outputs": [
      {
       "output_type": "stream",
       "stream": "stdout",
       "text": [
        "DEVWARNING: Fix string index dependancy\n"
       ]
      },
      {
       "metadata": {},
       "output_type": "pyout",
       "prompt_number": 188,
       "text": [
        "Vintage           2009\n",
        "Area             1.286\n",
        "Material          c-Si\n",
        "#Series             72\n",
        "#Parallel            1\n",
        "Isco             5.143\n",
        "Voco            44.623\n",
        "Impo             4.805\n",
        "Vmpo            36.071\n",
        "Aisc          0.000624\n",
        "Aimp          -2.7e-05\n",
        "C0              1.0016\n",
        "C1             -0.0016\n",
        "Bvoco          -0.1646\n",
        "Mbvoc                0\n",
        "Bvmpo          -0.1722\n",
        "Mbvmp                0\n",
        "N                1.274\n",
        "C2            0.236148\n",
        "C3            -4.62278\n",
        "A0              0.9543\n",
        "A1             0.03574\n",
        "A2           -0.003519\n",
        "A3          -5.592e-05\n",
        "A4           1.569e-05\n",
        "B0                   1\n",
        "B1           -0.002438\n",
        "B2           0.0003103\n",
        "B3          -1.246e-05\n",
        "B4           2.112e-07\n",
        "B5          -1.359e-09\n",
        "DTC                  3\n",
        "FD                   1\n",
        "A               -3.319\n",
        "B             -0.09116\n",
        "C4              0.9908\n",
        "C5              0.0092\n",
        "IXO             5.1494\n",
        "IXXO            3.4661\n",
        "C6              1.1233\n",
        "C7             -0.1233\n",
        "Name: Solar_World_SW175_Mono_Sun_Module___2009_, dtype: object"
       ]
      }
     ],
     "prompt_number": 188
    },
    {
     "cell_type": "heading",
     "level": 1,
     "metadata": {},
     "source": [
      "\n",
      "import inverter coefficients"
     ]
    },
    {
     "cell_type": "code",
     "collapsed": false,
     "input": [
      "import pvl_retreiveSAM as SAM\n",
      "reload(SAM)\n",
      "Invdb=SAM.pvl_retreiveSAM(name='SandiaInverter')"
     ],
     "language": "python",
     "metadata": {},
     "outputs": [
      {
       "output_type": "stream",
       "stream": "stdout",
       "text": [
        "DEVWARNING: Fix string index dependancy\n"
       ]
      }
     ],
     "prompt_number": 189
    },
    {
     "cell_type": "code",
     "collapsed": false,
     "input": [
      "\n",
      "inverter=Invdb.Aero_Sharp__X01_040L2E1_240V__CEC_2011_\n",
      "inverter"
     ],
     "language": "python",
     "metadata": {},
     "outputs": [
      {
       "metadata": {},
       "output_type": "pyout",
       "prompt_number": 201,
       "text": [
        "Vac           240.000000\n",
        "Paco         4012.000000\n",
        "Pdco         4293.090000\n",
        "Vdco          274.475000\n",
        "Pso            47.078200\n",
        "C0             -0.000008\n",
        "C1             -0.000115\n",
        "C2             -0.001167\n",
        "C3             -0.001500\n",
        "Pnt            -0.710000\n",
        "Vdcmax        400.000000\n",
        "Idcmax         10.000000\n",
        "Mppt_low      150.000000\n",
        "Mppt_high     350.000000\n",
        "Name: Aero_Sharp__X01_040L2E1_240V__CEC_2011_, dtype: float64"
       ]
      }
     ],
     "prompt_number": 201
    },
    {
     "cell_type": "heading",
     "level": 1,
     "metadata": {},
     "source": [
      "Sandia Model"
     ]
    },
    {
     "cell_type": "code",
     "collapsed": false,
     "input": [
      "import pvl_sapm as sapm\n",
      "reload(sapm)\n",
      "TMY3=sapm.pvl_sapm(DataFrame=TMY,Module=module)"
     ],
     "language": "python",
     "metadata": {},
     "outputs": [
      {
       "output_type": "stream",
       "stream": "stdout",
       "text": [
        "DEVWARNING: Fix string index dependancy\n"
       ]
      }
     ],
     "prompt_number": 181
    },
    {
     "cell_type": "heading",
     "level": 1,
     "metadata": {},
     "source": [
      "Inverter Model"
     ]
    },
    {
     "cell_type": "code",
     "collapsed": false,
     "input": [
      "import pvl_snlinverter as invmod\n",
      "reload(invmod)\n",
      "TMY3=invmod.pvl_snlinverter(DataFrame=TMY,Inverter=inverter)"
     ],
     "language": "python",
     "metadata": {},
     "outputs": [
      {
       "output_type": "stream",
       "stream": "stdout",
       "text": [
        "DEVWARNING: Fix string index dependancy\n"
       ]
      }
     ],
     "prompt_number": 206
    },
    {
     "cell_type": "code",
     "collapsed": false,
     "input": [
      "plot(TMY3.Imp)\n",
      "plot(TMY3.Vmp)\n",
      "plot(TMY3.Pmp)\n",
      "plot(TMY3.ACPower,'k')"
     ],
     "language": "python",
     "metadata": {},
     "outputs": [
      {
       "metadata": {},
       "output_type": "pyout",
       "prompt_number": 209,
       "text": [
        "[<matplotlib.lines.Line2D at 0x10b6a9f10>]"
       ]
      }
     ],
     "prompt_number": 209
    },
    {
     "cell_type": "code",
     "collapsed": false,
     "input": [
      "TMY3"
     ],
     "language": "python",
     "metadata": {},
     "outputs": [
      {
       "html": [
        "<pre>\n",
        "&lt;class 'pandas.core.frame.DataFrame'&gt;\n",
        "DatetimeIndex: 8760 entries, 2000-01-01 01:00:00 to 2000-12-31 00:00:00\n",
        "Data columns (total 93 columns):\n",
        "ETR                     8760  non-null values\n",
        "ETRN                    8760  non-null values\n",
        "GHI                     8760  non-null values\n",
        "GHISource               8760  non-null values\n",
        "GHIUncertainty          8760  non-null values\n",
        "DNI                     8760  non-null values\n",
        "DNISource               8760  non-null values\n",
        "DNIUncertainty          8760  non-null values\n",
        "DHI                     8760  non-null values\n",
        "DHISource               8760  non-null values\n",
        "DHIUncertainty          8760  non-null values\n",
        "GHillum                 8760  non-null values\n",
        "GHillumSource           8760  non-null values\n",
        "GHillumUncertainty      8760  non-null values\n",
        "DNillum                 8760  non-null values\n",
        "DNillumSource           8760  non-null values\n",
        "DNillumUncertainty      8760  non-null values\n",
        "DHillum                 8760  non-null values\n",
        "DHillumSource           8760  non-null values\n",
        "DHillumUncertainty      8760  non-null values\n",
        "Zenithlum               8760  non-null values\n",
        "ZenithlumSource         8760  non-null values\n",
        "ZenithlumUncertainty    8760  non-null values\n",
        "TotCld                  8760  non-null values\n",
        "TotCldSource            8760  non-null values\n",
        "TotCldUnertainty        8760  non-null values\n",
        "OpqCld                  8760  non-null values\n",
        "OpqCldSource            8760  non-null values\n",
        "OpqCldUncertainty       8760  non-null values\n",
        "DryBulb                 8760  non-null values\n",
        "DryBulbSource           8760  non-null values\n",
        "DryBulbUncertainty      8760  non-null values\n",
        "DewPoint                8760  non-null values\n",
        "DewPointSource          8760  non-null values\n",
        "DewPointUncertainty     8760  non-null values\n",
        "RHum                    8760  non-null values\n",
        "RHumSource              8760  non-null values\n",
        "RHumUncertainty         8760  non-null values\n",
        "Pressure                8760  non-null values\n",
        "PressureSource          8760  non-null values\n",
        "PressureUncertainty     8760  non-null values\n",
        "Wdir                    8760  non-null values\n",
        "WdirSource              8760  non-null values\n",
        "WdirUncertainty         8760  non-null values\n",
        "Wspd                    8760  non-null values\n",
        "WspdSource              8760  non-null values\n",
        "WspdUncertainty         8760  non-null values\n",
        "Hvis                    8760  non-null values\n",
        "HvisSource              8760  non-null values\n",
        "HvisUncertainty         8760  non-null values\n",
        "CeilHgt                 8760  non-null values\n",
        "CeilHgtSource           8760  non-null values\n",
        "CeilHgtUncertainty      8760  non-null values\n",
        "Pwat                    8760  non-null values\n",
        "PwatSource              8760  non-null values\n",
        "PwatUncertainty         8760  non-null values\n",
        "AOD                     8760  non-null values\n",
        "AODSource               8760  non-null values\n",
        "AODUncertainty          8760  non-null values\n",
        "Alb                     8760  non-null values\n",
        "AlbSource               8760  non-null values\n",
        "AlbUncertainty          8760  non-null values\n",
        "Lprecipdepth            8760  non-null values\n",
        "Lprecipquantity         8760  non-null values\n",
        "LprecipSource           8760  non-null values\n",
        "LprecipUncertainty      8760  non-null values\n",
        "SunAz                   8760  non-null values\n",
        "SunEl                   8760  non-null values\n",
        "SunZen                  8760  non-null values\n",
        "ApparentSunEl           8760  non-null values\n",
        "SolarTime               8760  non-null values\n",
        "HExtra                  8760  non-null values\n",
        "AM                      8760  non-null values\n",
        "DNI_gen_DISC            2599  non-null values\n",
        "Kt_gen_DISC             8760  non-null values\n",
        "Ztemp                   8760  non-null values\n",
        "In_Plane_Diffuse        4531  non-null values\n",
        "GR                      8760  non-null values\n",
        "AOI                     8760  non-null values\n",
        "In_Plane_SkyDiffuse     4531  non-null values\n",
        "E                       4531  non-null values\n",
        "Ediff                   4531  non-null values\n",
        "Tcell                   4531  non-null values\n",
        "Tmodule                 4531  non-null values\n",
        "Eb                      8760  non-null values\n",
        "Ee                      4531  non-null values\n",
        "Isc                     4531  non-null values\n",
        "Imp                     4531  non-null values\n",
        "Voc                     4531  non-null values\n",
        "Vmp                     4531  non-null values\n",
        "Pmp                     4531  non-null values\n",
        "Ix                      4531  non-null values\n",
        "Ixx                     4531  non-null values\n",
        "dtypes: float64(33), int64(46), object(14)\n",
        "</pre>"
       ],
       "metadata": {},
       "output_type": "pyout",
       "prompt_number": 191,
       "text": [
        "<class 'pandas.core.frame.DataFrame'>\n",
        "DatetimeIndex: 8760 entries, 2000-01-01 01:00:00 to 2000-12-31 00:00:00\n",
        "Data columns (total 93 columns):\n",
        "ETR                     8760  non-null values\n",
        "ETRN                    8760  non-null values\n",
        "GHI                     8760  non-null values\n",
        "GHISource               8760  non-null values\n",
        "GHIUncertainty          8760  non-null values\n",
        "DNI                     8760  non-null values\n",
        "DNISource               8760  non-null values\n",
        "DNIUncertainty          8760  non-null values\n",
        "DHI                     8760  non-null values\n",
        "DHISource               8760  non-null values\n",
        "DHIUncertainty          8760  non-null values\n",
        "GHillum                 8760  non-null values\n",
        "GHillumSource           8760  non-null values\n",
        "GHillumUncertainty      8760  non-null values\n",
        "DNillum                 8760  non-null values\n",
        "DNillumSource           8760  non-null values\n",
        "DNillumUncertainty      8760  non-null values\n",
        "DHillum                 8760  non-null values\n",
        "DHillumSource           8760  non-null values\n",
        "DHillumUncertainty      8760  non-null values\n",
        "Zenithlum               8760  non-null values\n",
        "ZenithlumSource         8760  non-null values\n",
        "ZenithlumUncertainty    8760  non-null values\n",
        "TotCld                  8760  non-null values\n",
        "TotCldSource            8760  non-null values\n",
        "TotCldUnertainty        8760  non-null values\n",
        "OpqCld                  8760  non-null values\n",
        "OpqCldSource            8760  non-null values\n",
        "OpqCldUncertainty       8760  non-null values\n",
        "DryBulb                 8760  non-null values\n",
        "DryBulbSource           8760  non-null values\n",
        "DryBulbUncertainty      8760  non-null values\n",
        "DewPoint                8760  non-null values\n",
        "DewPointSource          8760  non-null values\n",
        "DewPointUncertainty     8760  non-null values\n",
        "RHum                    8760  non-null values\n",
        "RHumSource              8760  non-null values\n",
        "RHumUncertainty         8760  non-null values\n",
        "Pressure                8760  non-null values\n",
        "PressureSource          8760  non-null values\n",
        "PressureUncertainty     8760  non-null values\n",
        "Wdir                    8760  non-null values\n",
        "WdirSource              8760  non-null values\n",
        "WdirUncertainty         8760  non-null values\n",
        "Wspd                    8760  non-null values\n",
        "WspdSource              8760  non-null values\n",
        "WspdUncertainty         8760  non-null values\n",
        "Hvis                    8760  non-null values\n",
        "HvisSource              8760  non-null values\n",
        "HvisUncertainty         8760  non-null values\n",
        "CeilHgt                 8760  non-null values\n",
        "CeilHgtSource           8760  non-null values\n",
        "CeilHgtUncertainty      8760  non-null values\n",
        "Pwat                    8760  non-null values\n",
        "PwatSource              8760  non-null values\n",
        "PwatUncertainty         8760  non-null values\n",
        "AOD                     8760  non-null values\n",
        "AODSource               8760  non-null values\n",
        "AODUncertainty          8760  non-null values\n",
        "Alb                     8760  non-null values\n",
        "AlbSource               8760  non-null values\n",
        "AlbUncertainty          8760  non-null values\n",
        "Lprecipdepth            8760  non-null values\n",
        "Lprecipquantity         8760  non-null values\n",
        "LprecipSource           8760  non-null values\n",
        "LprecipUncertainty      8760  non-null values\n",
        "SunAz                   8760  non-null values\n",
        "SunEl                   8760  non-null values\n",
        "SunZen                  8760  non-null values\n",
        "ApparentSunEl           8760  non-null values\n",
        "SolarTime               8760  non-null values\n",
        "HExtra                  8760  non-null values\n",
        "AM                      8760  non-null values\n",
        "DNI_gen_DISC            2599  non-null values\n",
        "Kt_gen_DISC             8760  non-null values\n",
        "Ztemp                   8760  non-null values\n",
        "In_Plane_Diffuse        4531  non-null values\n",
        "GR                      8760  non-null values\n",
        "AOI                     8760  non-null values\n",
        "In_Plane_SkyDiffuse     4531  non-null values\n",
        "E                       4531  non-null values\n",
        "Ediff                   4531  non-null values\n",
        "Tcell                   4531  non-null values\n",
        "Tmodule                 4531  non-null values\n",
        "Eb                      8760  non-null values\n",
        "Ee                      4531  non-null values\n",
        "Isc                     4531  non-null values\n",
        "Imp                     4531  non-null values\n",
        "Voc                     4531  non-null values\n",
        "Vmp                     4531  non-null values\n",
        "Pmp                     4531  non-null values\n",
        "Ix                      4531  non-null values\n",
        "Ixx                     4531  non-null values\n",
        "dtypes: float64(33), int64(46), object(14)"
       ]
      }
     ],
     "prompt_number": 191
    },
    {
     "cell_type": "code",
     "collapsed": false,
     "input": [
      "module"
     ],
     "language": "python",
     "metadata": {},
     "outputs": [
      {
       "metadata": {},
       "output_type": "pyout",
       "prompt_number": 154,
       "text": [
        "T_noct            48.7\n",
        "A_c               1.61\n",
        "N_s                 60\n",
        "I_sc_ref          8.08\n",
        "V_oc_ref          36.6\n",
        "I_mp_ref          7.54\n",
        "V_mp_ref          29.2\n",
        "Alpha_sc      0.006302\n",
        "Beta_oc       -0.13066\n",
        "A_ref           1.5673\n",
        "I_l_ref           8.09\n",
        "I_o_ref      5.746e-10\n",
        "R_s              0.381\n",
        "R_sh_ref        300.96\n",
        "Adjust             6.7\n",
        "Gamma_r         -0.453\n",
        "Source      Multi-c-Si\n",
        "Name: SolarWorld_SW220_Poly, dtype: object"
       ]
      }
     ],
     "prompt_number": 154
    },
    {
     "cell_type": "code",
     "collapsed": false,
     "input": [],
     "language": "python",
     "metadata": {},
     "outputs": []
    }
   ],
   "metadata": {}
  }
 ]
}