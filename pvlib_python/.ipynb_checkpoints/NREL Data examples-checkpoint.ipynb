{
 "metadata": {
  "name": ""
 },
 "nbformat": 3,
 "nbformat_minor": 0,
 "worksheets": [
  {
   "cells": [
    {
     "cell_type": "heading",
     "level": 1,
     "metadata": {},
     "source": [
      "Import TMY data"
     ]
    },
    {
     "cell_type": "heading",
     "level": 2,
     "metadata": {},
     "source": [
      "Import data"
     ]
    },
    {
     "cell_type": "code",
     "collapsed": false,
     "input": [
      "import pandas as pd\n",
      "import pvl_tools\n",
      "filename='/Users/robandrews/Dropbox/My_Documents/Documents/Projects/Data/PerfData/NREL PVDAQ/pvdaq_data_1237_2013.csv'\n",
      "TMY=pd.read_csv(filename,index_col='Date-Time',parse_dates=True)\n",
      "meta=dict() #Read in file metadata\n",
      "meta['altitude']=100\n",
      "meta['latitude']=41.3280\n",
      "meta['longitude']=73.0610\n",
      "meta['TZ']=5\n",
      "meta=pvl_tools.repack(meta) #repack dict as a struct"
     ],
     "language": "python",
     "metadata": {},
     "outputs": [],
     "prompt_number": 55
    },
    {
     "cell_type": "code",
     "collapsed": false,
     "input": [
      "meta.altitude\n",
      "TMY"
     ],
     "language": "python",
     "metadata": {},
     "outputs": [
      {
       "html": [
        "<pre>\n",
        "&lt;class 'pandas.core.frame.DataFrame'&gt;\n",
        "DatetimeIndex: 104905 entries, 2013-01-01 00:00:00 to 2013-12-31 23:55:00\n",
        "Data columns (total 26 columns):\n",
        "SiteID               104905  non-null values\n",
        "ac_power             104896  non-null values\n",
        "ambient_temp         104895  non-null values\n",
        "dc_power             104853  non-null values\n",
        "inv1_ac_power        104899  non-null values\n",
        "inv1_airtemp         104899  non-null values\n",
        "inv1_dc_current      104899  non-null values\n",
        "inv1_dc_power        104899  non-null values\n",
        "inv1_dc_voltage      104899  non-null values\n",
        "inv1_temp            104899  non-null values\n",
        "inv2_ac_power        104896  non-null values\n",
        "inv2_airtemp         104896  non-null values\n",
        "inv2_dc_current      104896  non-null values\n",
        "inv2_dc_power        104896  non-null values\n",
        "inv2_dc_voltage      104896  non-null values\n",
        "inv2_temp            104896  non-null values\n",
        "module_temp          104895  non-null values\n",
        "poa_irradiance       104895  non-null values\n",
        "relative_humidity    104895  non-null values\n",
        "SunAz                104905  non-null values\n",
        "SunEl                104905  non-null values\n",
        "SunZen               104905  non-null values\n",
        "ApparentSunEl        104905  non-null values\n",
        "SolarTime            104905  non-null values\n",
        "HExtra               104905  non-null values\n",
        "AM                   104905  non-null values\n",
        "dtypes: float64(25), int64(1)\n",
        "</pre>"
       ],
       "metadata": {},
       "output_type": "pyout",
       "prompt_number": 14,
       "text": [
        "<class 'pandas.core.frame.DataFrame'>\n",
        "DatetimeIndex: 104905 entries, 2013-01-01 00:00:00 to 2013-12-31 23:55:00\n",
        "Data columns (total 26 columns):\n",
        "SiteID               104905  non-null values\n",
        "ac_power             104896  non-null values\n",
        "ambient_temp         104895  non-null values\n",
        "dc_power             104853  non-null values\n",
        "inv1_ac_power        104899  non-null values\n",
        "inv1_airtemp         104899  non-null values\n",
        "inv1_dc_current      104899  non-null values\n",
        "inv1_dc_power        104899  non-null values\n",
        "inv1_dc_voltage      104899  non-null values\n",
        "inv1_temp            104899  non-null values\n",
        "inv2_ac_power        104896  non-null values\n",
        "inv2_airtemp         104896  non-null values\n",
        "inv2_dc_current      104896  non-null values\n",
        "inv2_dc_power        104896  non-null values\n",
        "inv2_dc_voltage      104896  non-null values\n",
        "inv2_temp            104896  non-null values\n",
        "module_temp          104895  non-null values\n",
        "poa_irradiance       104895  non-null values\n",
        "relative_humidity    104895  non-null values\n",
        "SunAz                104905  non-null values\n",
        "SunEl                104905  non-null values\n",
        "SunZen               104905  non-null values\n",
        "ApparentSunEl        104905  non-null values\n",
        "SolarTime            104905  non-null values\n",
        "HExtra               104905  non-null values\n",
        "AM                   104905  non-null values\n",
        "dtypes: float64(25), int64(1)"
       ]
      }
     ],
     "prompt_number": 14
    },
    {
     "cell_type": "heading",
     "level": 1,
     "metadata": {},
     "source": [
      "Get solar angles"
     ]
    },
    {
     "cell_type": "code",
     "collapsed": false,
     "input": [
      "import pvl_ephemeris as eph\n",
      "reload(eph)\n",
      "TMY=eph.pvl_ephemeris(DataFrame=TMY,Location=meta)"
     ],
     "language": "python",
     "metadata": {},
     "outputs": [],
     "prompt_number": 56
    },
    {
     "cell_type": "code",
     "collapsed": false,
     "input": [
      "clf()\n",
      "plot(TMY.index,TMY.SunZen)"
     ],
     "language": "python",
     "metadata": {},
     "outputs": [
      {
       "metadata": {},
       "output_type": "pyout",
       "prompt_number": 57,
       "text": [
        "[<matplotlib.lines.Line2D at 0x10b433790>]"
       ]
      }
     ],
     "prompt_number": 57
    },
    {
     "cell_type": "heading",
     "level": 1,
     "metadata": {},
     "source": [
      "Calculate Extraterrestrial Irradiaion and AirMass"
     ]
    },
    {
     "cell_type": "code",
     "collapsed": false,
     "input": [
      "import pvl_extraradiation as ext\n",
      "reload(ext)\n",
      "TMY['HExtra']=ext.pvl_extraradiation(doy=TMY.index.dayofyear)\n",
      "\n",
      "import pvl_relativeairmass as AM\n",
      "reload(AM)\n",
      "TMY['AM']=AM.pvl_relativeairmass(z=TMY.SunZen)"
     ],
     "language": "python",
     "metadata": {},
     "outputs": [],
     "prompt_number": 12
    },
    {
     "cell_type": "heading",
     "level": 1,
     "metadata": {},
     "source": [
      "Get AOI"
     ]
    },
    {
     "cell_type": "code",
     "collapsed": false,
     "input": [
      "import pvl_getaoi as aoi\n",
      "reload(aoi)\n",
      "TMY=aoi.pvl_getaoi(DataFrame=TMY,SurfTilt=30,SurfAz=180)"
     ],
     "language": "python",
     "metadata": {},
     "outputs": [],
     "prompt_number": 15
    },
    {
     "cell_type": "heading",
     "level": 1,
     "metadata": {},
     "source": [
      "Calculate Global in-plane"
     ]
    },
    {
     "cell_type": "code",
     "collapsed": false,
     "input": [
      "TMY['E']=TMY.poa_irradiance\n",
      "TMY['Kt']=TMY['E']\n",
      "I_ext=TMY.HExtra*(1+0.033*np.cos(np.radians(360*TMY.index.dayofyear/365)))*np.cos(np.radians(TMY.SunZen))\n",
      "TMY['Kt']=TMY['E']/I_ext\n",
      "TMY.Kt[TMY.Kt>1]=np.nan\n",
      "TMY.DiffR=TMY.Kt*np.nan\n",
      "firstbin=(TMY.Kt>0) & (TMY.Kt<.35)\n",
      "secondbin=(TMY.Kt>=.35) & (TMY.Kt<.75)\n",
      "thirdbin=TMY.Kt>=.75 \n",
      "TMY.DiffR[firstbin]=1-.249*TMY.Kt[firstbin]\n",
      "TMY.DiffR[secondbin]=1.557-1.84*TMY.Kt[secondbin]\n",
      "TMY.DiffR[thirdbin]=.177*TMY.Kt[thirdbin]\n",
      "TMY['Ediff']=TMY.E*TMY.DiffR\n",
      "TMY['Eb']=TMY.E-TMY.DiffR"
     ],
     "language": "python",
     "metadata": {},
     "outputs": [],
     "prompt_number": 49
    },
    {
     "cell_type": "code",
     "collapsed": false,
     "input": [
      "clf()\n",
      "plot(TMY.Ediff)\n",
      "plot(TMY.Eb)"
     ],
     "language": "python",
     "metadata": {},
     "outputs": [
      {
       "metadata": {},
       "output_type": "pyout",
       "prompt_number": 51,
       "text": [
        "[<matplotlib.lines.Line2D at 0x10b1e4210>]"
       ]
      }
     ],
     "prompt_number": 51
    },
    {
     "cell_type": "code",
     "collapsed": false,
     "input": [
      "clf()\n",
      "plot(TMY.index,TMY.SunZen)"
     ],
     "language": "python",
     "metadata": {},
     "outputs": [
      {
       "metadata": {},
       "output_type": "pyout",
       "prompt_number": 54,
       "text": [
        "[<matplotlib.lines.Line2D at 0x109d60890>]"
       ]
      }
     ],
     "prompt_number": 54
    },
    {
     "cell_type": "heading",
     "level": 1,
     "metadata": {},
     "source": [
      "Calculate Cell Temperature"
     ]
    },
    {
     "cell_type": "code",
     "collapsed": false,
     "input": [
      "TMY['Tcell']=TMY.module_temp + TMY.E / 1000*(1)\n"
     ],
     "language": "python",
     "metadata": {},
     "outputs": [],
     "prompt_number": 18
    },
    {
     "cell_type": "heading",
     "level": 1,
     "metadata": {},
     "source": [
      "Import module coefficients"
     ]
    },
    {
     "cell_type": "code",
     "collapsed": false,
     "input": [
      "import pvl_retreiveSAM as SAM\n",
      "reload(SAM)\n",
      "moddb=SAM.pvl_retreiveSAM(name='SandiaMod')\n",
      "module=moddb.Suntech_STP270S_24_Vb_Module___2008_\n",
      "module"
     ],
     "language": "python",
     "metadata": {},
     "outputs": [
      {
       "metadata": {},
       "output_type": "pyout",
       "prompt_number": 20,
       "text": [
        "Vintage           2008\n",
        "Area             1.938\n",
        "Material         mc-Si\n",
        "#Series             72\n",
        "#Parallel            1\n",
        "Isco             8.063\n",
        "Voco            43.869\n",
        "Impo             7.556\n",
        "Vmpo            35.134\n",
        "Aisc          0.000606\n",
        "Aimp           1.6e-05\n",
        "C0              0.9914\n",
        "C1              0.0086\n",
        "Bvoco          -0.1504\n",
        "Mbvoc                0\n",
        "Bvmpo          -0.1567\n",
        "Mbvmp                0\n",
        "N                1.305\n",
        "C2            0.013749\n",
        "C3               -7.84\n",
        "A0              0.9433\n",
        "A1             0.04997\n",
        "A2           -0.009286\n",
        "A3            0.000763\n",
        "A4           -2.32e-05\n",
        "B0                   1\n",
        "B1           -0.002438\n",
        "B2             0.00031\n",
        "B3          -1.246e-05\n",
        "B4           2.112e-07\n",
        "B5          -1.359e-09\n",
        "DTC                  3\n",
        "FD                   1\n",
        "A               -3.241\n",
        "B             -0.08631\n",
        "C4              0.9845\n",
        "C5              0.0155\n",
        "IXO             8.0101\n",
        "IXXO            5.3816\n",
        "C6              1.1256\n",
        "C7             -0.1256\n",
        "Name: Suntech_STP270S_24_Vb_Module___2008_, dtype: object"
       ]
      }
     ],
     "prompt_number": 20
    },
    {
     "cell_type": "heading",
     "level": 1,
     "metadata": {},
     "source": [
      "\n",
      "import inverter coefficients"
     ]
    },
    {
     "cell_type": "code",
     "collapsed": false,
     "input": [
      "import pvl_retreiveSAM as SAM\n",
      "reload(SAM)\n",
      "Invdb=SAM.pvl_retreiveSAM(name='SandiaInverter')"
     ],
     "language": "python",
     "metadata": {},
     "outputs": [],
     "prompt_number": 21
    },
    {
     "cell_type": "code",
     "collapsed": false,
     "input": [
      "\n",
      "inverter=Invdb.Satcon_Technology_Corporation__PVS_100__208V__208V__CEC_2008_\n",
      "inverter"
     ],
     "language": "python",
     "metadata": {},
     "outputs": [
      {
       "metadata": {},
       "output_type": "pyout",
       "prompt_number": 22,
       "text": [
        "Vac             208.000000\n",
        "Paco         100000.000000\n",
        "Pdco         104143.000000\n",
        "Vdco            365.027000\n",
        "Pso             617.510000\n",
        "C0               -0.000000\n",
        "C1                0.000024\n",
        "C2                0.001305\n",
        "C3               -0.000243\n",
        "Pnt              62.340000\n",
        "Vdcmax          600.000000\n",
        "Idcmax          331.000000\n",
        "Mppt_low        315.000000\n",
        "Mppt_high       600.000000\n",
        "Name: Satcon_Technology_Corporation__PVS_100__208V__208V__CEC_2008_, dtype: float64"
       ]
      }
     ],
     "prompt_number": 22
    },
    {
     "cell_type": "heading",
     "level": 1,
     "metadata": {},
     "source": [
      "Sandia Model"
     ]
    },
    {
     "cell_type": "code",
     "collapsed": false,
     "input": [
      "import pvl_sapm as sapm\n",
      "reload(sapm)\n",
      "TMY=sapm.pvl_sapm(DataFrame=TMY,Module=module)"
     ],
     "language": "python",
     "metadata": {},
     "outputs": [
      {
       "ename": "Exception",
       "evalue": "WARNING: \" Ediff \" in main dataframe does not exist",
       "output_type": "pyerr",
       "traceback": [
        "\u001b[0;31m---------------------------------------------------------------------------\u001b[0m\n\u001b[0;31mException\u001b[0m                                 Traceback (most recent call last)",
        "\u001b[0;32m<ipython-input-23-1eee898aebfc>\u001b[0m in \u001b[0;36m<module>\u001b[0;34m()\u001b[0m\n\u001b[1;32m      1\u001b[0m \u001b[0;32mimport\u001b[0m \u001b[0mpvl_sapm\u001b[0m \u001b[0;32mas\u001b[0m \u001b[0msapm\u001b[0m\u001b[0;34m\u001b[0m\u001b[0m\n\u001b[1;32m      2\u001b[0m \u001b[0mreload\u001b[0m\u001b[0;34m(\u001b[0m\u001b[0msapm\u001b[0m\u001b[0;34m)\u001b[0m\u001b[0;34m\u001b[0m\u001b[0m\n\u001b[0;32m----> 3\u001b[0;31m \u001b[0mTMY\u001b[0m\u001b[0;34m=\u001b[0m\u001b[0msapm\u001b[0m\u001b[0;34m.\u001b[0m\u001b[0mpvl_sapm\u001b[0m\u001b[0;34m(\u001b[0m\u001b[0mDataFrame\u001b[0m\u001b[0;34m=\u001b[0m\u001b[0mTMY\u001b[0m\u001b[0;34m,\u001b[0m\u001b[0mModule\u001b[0m\u001b[0;34m=\u001b[0m\u001b[0mmodule\u001b[0m\u001b[0;34m)\u001b[0m\u001b[0;34m\u001b[0m\u001b[0m\n\u001b[0m",
        "\u001b[0;32m/Users/robandrews/Dropbox/My_Documents/Documents/Projects/Code/PVLIB/PVLIB_Python/pvlib_python/pvl_sapm.pyc\u001b[0m in \u001b[0;36mpvl_sapm\u001b[0;34m(**kwargs)\u001b[0m\n\u001b[1;32m     13\u001b[0m             \u001b[0;34m'Tcell'\u001b[0m\u001b[0;34m:\u001b[0m\u001b[0;34m(\u001b[0m\u001b[0;34m'matelement'\u001b[0m\u001b[0;34m,\u001b[0m\u001b[0;34m'num'\u001b[0m\u001b[0;34m)\u001b[0m\u001b[0;34m,\u001b[0m\u001b[0;34m\u001b[0m\u001b[0m\n\u001b[1;32m     14\u001b[0m     }\n\u001b[0;32m---> 15\u001b[0;31m     \u001b[0mvar\u001b[0m\u001b[0;34m=\u001b[0m\u001b[0mpvl_tools\u001b[0m\u001b[0;34m.\u001b[0m\u001b[0mParse\u001b[0m\u001b[0;34m(\u001b[0m\u001b[0mkwargs\u001b[0m\u001b[0;34m,\u001b[0m\u001b[0mExpect\u001b[0m\u001b[0;34m)\u001b[0m\u001b[0;34m\u001b[0m\u001b[0m\n\u001b[0m\u001b[1;32m     16\u001b[0m \u001b[0;34m\u001b[0m\u001b[0m\n\u001b[1;32m     17\u001b[0m     \u001b[0mT0\u001b[0m\u001b[0;34m=\u001b[0m\u001b[0;36m25\u001b[0m\u001b[0;34m\u001b[0m\u001b[0m\n",
        "\u001b[0;32m/Users/robandrews/Dropbox/My_Documents/Documents/Projects/Code/PVLIB/PVLIB_Python/pvlib_python/pvl_tools.pyc\u001b[0m in \u001b[0;36m__init__\u001b[0;34m(self, dct, Expect)\u001b[0m\n\u001b[1;32m     12\u001b[0m \u001b[0;34m\u001b[0m\u001b[0m\n\u001b[1;32m     13\u001b[0m         \u001b[0;32mdef\u001b[0m \u001b[0m__init__\u001b[0m\u001b[0;34m(\u001b[0m\u001b[0mself\u001b[0m\u001b[0;34m,\u001b[0m \u001b[0mdct\u001b[0m\u001b[0;34m,\u001b[0m \u001b[0mExpect\u001b[0m\u001b[0;34m)\u001b[0m\u001b[0;34m:\u001b[0m\u001b[0;34m\u001b[0m\u001b[0m\n\u001b[0;32m---> 14\u001b[0;31m                 \u001b[0mself\u001b[0m\u001b[0;34m.\u001b[0m\u001b[0m__dict__\u001b[0m\u001b[0;34m.\u001b[0m\u001b[0mupdate\u001b[0m\u001b[0;34m(\u001b[0m\u001b[0mself\u001b[0m\u001b[0;34m.\u001b[0m\u001b[0mparse\u001b[0m\u001b[0;34m(\u001b[0m\u001b[0mdct\u001b[0m\u001b[0;34m,\u001b[0m\u001b[0mExpect\u001b[0m\u001b[0;34m)\u001b[0m\u001b[0;34m)\u001b[0m\u001b[0;34m\u001b[0m\u001b[0m\n\u001b[0m\u001b[1;32m     15\u001b[0m \u001b[0;34m\u001b[0m\u001b[0m\n\u001b[1;32m     16\u001b[0m         \u001b[0;32mdef\u001b[0m \u001b[0mparse\u001b[0m\u001b[0;34m(\u001b[0m\u001b[0mself\u001b[0m\u001b[0;34m,\u001b[0m\u001b[0mkwargs\u001b[0m\u001b[0;34m,\u001b[0m\u001b[0mExpect\u001b[0m\u001b[0;34m)\u001b[0m\u001b[0;34m:\u001b[0m\u001b[0;34m\u001b[0m\u001b[0m\n",
        "\u001b[0;32m/Users/robandrews/Dropbox/My_Documents/Documents/Projects/Code/PVLIB/PVLIB_Python/pvlib_python/pvl_tools.pyc\u001b[0m in \u001b[0;36mparse\u001b[0;34m(self, kwargs, Expect)\u001b[0m\n\u001b[1;32m     42\u001b[0m \u001b[0;34m\u001b[0m\u001b[0m\n\u001b[1;32m     43\u001b[0m                 \u001b[0;32mexcept\u001b[0m\u001b[0;34m:\u001b[0m\u001b[0;34m\u001b[0m\u001b[0m\n\u001b[0;32m---> 44\u001b[0;31m                         \u001b[0;32mraise\u001b[0m \u001b[0mException\u001b[0m\u001b[0;34m(\u001b[0m\u001b[0;34m'WARNING: \" '\u001b[0m\u001b[0;34m+\u001b[0m\u001b[0marg\u001b[0m\u001b[0;34m+\u001b[0m\u001b[0;34m' \" in main dataframe does not exist'\u001b[0m\u001b[0;34m)\u001b[0m\u001b[0;34m\u001b[0m\u001b[0m\n\u001b[0m\u001b[1;32m     45\u001b[0m                 \u001b[0;31m# Assert numeric for all numeric fields\u001b[0m\u001b[0;34m\u001b[0m\u001b[0;34m\u001b[0m\u001b[0m\n\u001b[1;32m     46\u001b[0m \u001b[0;34m\u001b[0m\u001b[0m\n",
        "\u001b[0;31mException\u001b[0m: WARNING: \" Ediff \" in main dataframe does not exist"
       ]
      }
     ],
     "prompt_number": 23
    },
    {
     "cell_type": "heading",
     "level": 1,
     "metadata": {},
     "source": [
      "Inverter Model"
     ]
    },
    {
     "cell_type": "code",
     "collapsed": false,
     "input": [
      "import pvl_snlinverter as invmod\n",
      "reload(invmod)\n",
      "TMY=invmod.pvl_snlinverter(DataFrame=TMY,Inverter=inverter)"
     ],
     "language": "python",
     "metadata": {},
     "outputs": [
      {
       "output_type": "stream",
       "stream": "stdout",
       "text": [
        "DEVWARNING: Fix string index dependancy\n"
       ]
      }
     ],
     "prompt_number": 206
    },
    {
     "cell_type": "code",
     "collapsed": false,
     "input": [
      "plot(TMY3.Imp)\n",
      "plot(TMY3.Vmp)\n",
      "plot(TMY3.Pmp)\n",
      "plot(TMY3.ACPower,'k')"
     ],
     "language": "python",
     "metadata": {},
     "outputs": [
      {
       "metadata": {},
       "output_type": "pyout",
       "prompt_number": 209,
       "text": [
        "[<matplotlib.lines.Line2D at 0x10b6a9f10>]"
       ]
      }
     ],
     "prompt_number": 209
    },
    {
     "cell_type": "code",
     "collapsed": false,
     "input": [
      "TMY3"
     ],
     "language": "python",
     "metadata": {},
     "outputs": [
      {
       "html": [
        "<pre>\n",
        "&lt;class 'pandas.core.frame.DataFrame'&gt;\n",
        "DatetimeIndex: 8760 entries, 2000-01-01 01:00:00 to 2000-12-31 00:00:00\n",
        "Data columns (total 93 columns):\n",
        "ETR                     8760  non-null values\n",
        "ETRN                    8760  non-null values\n",
        "GHI                     8760  non-null values\n",
        "GHISource               8760  non-null values\n",
        "GHIUncertainty          8760  non-null values\n",
        "DNI                     8760  non-null values\n",
        "DNISource               8760  non-null values\n",
        "DNIUncertainty          8760  non-null values\n",
        "DHI                     8760  non-null values\n",
        "DHISource               8760  non-null values\n",
        "DHIUncertainty          8760  non-null values\n",
        "GHillum                 8760  non-null values\n",
        "GHillumSource           8760  non-null values\n",
        "GHillumUncertainty      8760  non-null values\n",
        "DNillum                 8760  non-null values\n",
        "DNillumSource           8760  non-null values\n",
        "DNillumUncertainty      8760  non-null values\n",
        "DHillum                 8760  non-null values\n",
        "DHillumSource           8760  non-null values\n",
        "DHillumUncertainty      8760  non-null values\n",
        "Zenithlum               8760  non-null values\n",
        "ZenithlumSource         8760  non-null values\n",
        "ZenithlumUncertainty    8760  non-null values\n",
        "TotCld                  8760  non-null values\n",
        "TotCldSource            8760  non-null values\n",
        "TotCldUnertainty        8760  non-null values\n",
        "OpqCld                  8760  non-null values\n",
        "OpqCldSource            8760  non-null values\n",
        "OpqCldUncertainty       8760  non-null values\n",
        "DryBulb                 8760  non-null values\n",
        "DryBulbSource           8760  non-null values\n",
        "DryBulbUncertainty      8760  non-null values\n",
        "DewPoint                8760  non-null values\n",
        "DewPointSource          8760  non-null values\n",
        "DewPointUncertainty     8760  non-null values\n",
        "RHum                    8760  non-null values\n",
        "RHumSource              8760  non-null values\n",
        "RHumUncertainty         8760  non-null values\n",
        "Pressure                8760  non-null values\n",
        "PressureSource          8760  non-null values\n",
        "PressureUncertainty     8760  non-null values\n",
        "Wdir                    8760  non-null values\n",
        "WdirSource              8760  non-null values\n",
        "WdirUncertainty         8760  non-null values\n",
        "Wspd                    8760  non-null values\n",
        "WspdSource              8760  non-null values\n",
        "WspdUncertainty         8760  non-null values\n",
        "Hvis                    8760  non-null values\n",
        "HvisSource              8760  non-null values\n",
        "HvisUncertainty         8760  non-null values\n",
        "CeilHgt                 8760  non-null values\n",
        "CeilHgtSource           8760  non-null values\n",
        "CeilHgtUncertainty      8760  non-null values\n",
        "Pwat                    8760  non-null values\n",
        "PwatSource              8760  non-null values\n",
        "PwatUncertainty         8760  non-null values\n",
        "AOD                     8760  non-null values\n",
        "AODSource               8760  non-null values\n",
        "AODUncertainty          8760  non-null values\n",
        "Alb                     8760  non-null values\n",
        "AlbSource               8760  non-null values\n",
        "AlbUncertainty          8760  non-null values\n",
        "Lprecipdepth            8760  non-null values\n",
        "Lprecipquantity         8760  non-null values\n",
        "LprecipSource           8760  non-null values\n",
        "LprecipUncertainty      8760  non-null values\n",
        "SunAz                   8760  non-null values\n",
        "SunEl                   8760  non-null values\n",
        "SunZen                  8760  non-null values\n",
        "ApparentSunEl           8760  non-null values\n",
        "SolarTime               8760  non-null values\n",
        "HExtra                  8760  non-null values\n",
        "AM                      8760  non-null values\n",
        "DNI_gen_DISC            2599  non-null values\n",
        "Kt_gen_DISC             8760  non-null values\n",
        "Ztemp                   8760  non-null values\n",
        "In_Plane_Diffuse        4531  non-null values\n",
        "GR                      8760  non-null values\n",
        "AOI                     8760  non-null values\n",
        "In_Plane_SkyDiffuse     4531  non-null values\n",
        "E                       4531  non-null values\n",
        "Ediff                   4531  non-null values\n",
        "Tcell                   4531  non-null values\n",
        "Tmodule                 4531  non-null values\n",
        "Eb                      8760  non-null values\n",
        "Ee                      4531  non-null values\n",
        "Isc                     4531  non-null values\n",
        "Imp                     4531  non-null values\n",
        "Voc                     4531  non-null values\n",
        "Vmp                     4531  non-null values\n",
        "Pmp                     4531  non-null values\n",
        "Ix                      4531  non-null values\n",
        "Ixx                     4531  non-null values\n",
        "dtypes: float64(33), int64(46), object(14)\n",
        "</pre>"
       ],
       "metadata": {},
       "output_type": "pyout",
       "prompt_number": 191,
       "text": [
        "<class 'pandas.core.frame.DataFrame'>\n",
        "DatetimeIndex: 8760 entries, 2000-01-01 01:00:00 to 2000-12-31 00:00:00\n",
        "Data columns (total 93 columns):\n",
        "ETR                     8760  non-null values\n",
        "ETRN                    8760  non-null values\n",
        "GHI                     8760  non-null values\n",
        "GHISource               8760  non-null values\n",
        "GHIUncertainty          8760  non-null values\n",
        "DNI                     8760  non-null values\n",
        "DNISource               8760  non-null values\n",
        "DNIUncertainty          8760  non-null values\n",
        "DHI                     8760  non-null values\n",
        "DHISource               8760  non-null values\n",
        "DHIUncertainty          8760  non-null values\n",
        "GHillum                 8760  non-null values\n",
        "GHillumSource           8760  non-null values\n",
        "GHillumUncertainty      8760  non-null values\n",
        "DNillum                 8760  non-null values\n",
        "DNillumSource           8760  non-null values\n",
        "DNillumUncertainty      8760  non-null values\n",
        "DHillum                 8760  non-null values\n",
        "DHillumSource           8760  non-null values\n",
        "DHillumUncertainty      8760  non-null values\n",
        "Zenithlum               8760  non-null values\n",
        "ZenithlumSource         8760  non-null values\n",
        "ZenithlumUncertainty    8760  non-null values\n",
        "TotCld                  8760  non-null values\n",
        "TotCldSource            8760  non-null values\n",
        "TotCldUnertainty        8760  non-null values\n",
        "OpqCld                  8760  non-null values\n",
        "OpqCldSource            8760  non-null values\n",
        "OpqCldUncertainty       8760  non-null values\n",
        "DryBulb                 8760  non-null values\n",
        "DryBulbSource           8760  non-null values\n",
        "DryBulbUncertainty      8760  non-null values\n",
        "DewPoint                8760  non-null values\n",
        "DewPointSource          8760  non-null values\n",
        "DewPointUncertainty     8760  non-null values\n",
        "RHum                    8760  non-null values\n",
        "RHumSource              8760  non-null values\n",
        "RHumUncertainty         8760  non-null values\n",
        "Pressure                8760  non-null values\n",
        "PressureSource          8760  non-null values\n",
        "PressureUncertainty     8760  non-null values\n",
        "Wdir                    8760  non-null values\n",
        "WdirSource              8760  non-null values\n",
        "WdirUncertainty         8760  non-null values\n",
        "Wspd                    8760  non-null values\n",
        "WspdSource              8760  non-null values\n",
        "WspdUncertainty         8760  non-null values\n",
        "Hvis                    8760  non-null values\n",
        "HvisSource              8760  non-null values\n",
        "HvisUncertainty         8760  non-null values\n",
        "CeilHgt                 8760  non-null values\n",
        "CeilHgtSource           8760  non-null values\n",
        "CeilHgtUncertainty      8760  non-null values\n",
        "Pwat                    8760  non-null values\n",
        "PwatSource              8760  non-null values\n",
        "PwatUncertainty         8760  non-null values\n",
        "AOD                     8760  non-null values\n",
        "AODSource               8760  non-null values\n",
        "AODUncertainty          8760  non-null values\n",
        "Alb                     8760  non-null values\n",
        "AlbSource               8760  non-null values\n",
        "AlbUncertainty          8760  non-null values\n",
        "Lprecipdepth            8760  non-null values\n",
        "Lprecipquantity         8760  non-null values\n",
        "LprecipSource           8760  non-null values\n",
        "LprecipUncertainty      8760  non-null values\n",
        "SunAz                   8760  non-null values\n",
        "SunEl                   8760  non-null values\n",
        "SunZen                  8760  non-null values\n",
        "ApparentSunEl           8760  non-null values\n",
        "SolarTime               8760  non-null values\n",
        "HExtra                  8760  non-null values\n",
        "AM                      8760  non-null values\n",
        "DNI_gen_DISC            2599  non-null values\n",
        "Kt_gen_DISC             8760  non-null values\n",
        "Ztemp                   8760  non-null values\n",
        "In_Plane_Diffuse        4531  non-null values\n",
        "GR                      8760  non-null values\n",
        "AOI                     8760  non-null values\n",
        "In_Plane_SkyDiffuse     4531  non-null values\n",
        "E                       4531  non-null values\n",
        "Ediff                   4531  non-null values\n",
        "Tcell                   4531  non-null values\n",
        "Tmodule                 4531  non-null values\n",
        "Eb                      8760  non-null values\n",
        "Ee                      4531  non-null values\n",
        "Isc                     4531  non-null values\n",
        "Imp                     4531  non-null values\n",
        "Voc                     4531  non-null values\n",
        "Vmp                     4531  non-null values\n",
        "Pmp                     4531  non-null values\n",
        "Ix                      4531  non-null values\n",
        "Ixx                     4531  non-null values\n",
        "dtypes: float64(33), int64(46), object(14)"
       ]
      }
     ],
     "prompt_number": 191
    },
    {
     "cell_type": "code",
     "collapsed": false,
     "input": [
      "module"
     ],
     "language": "python",
     "metadata": {},
     "outputs": [
      {
       "metadata": {},
       "output_type": "pyout",
       "prompt_number": 154,
       "text": [
        "T_noct            48.7\n",
        "A_c               1.61\n",
        "N_s                 60\n",
        "I_sc_ref          8.08\n",
        "V_oc_ref          36.6\n",
        "I_mp_ref          7.54\n",
        "V_mp_ref          29.2\n",
        "Alpha_sc      0.006302\n",
        "Beta_oc       -0.13066\n",
        "A_ref           1.5673\n",
        "I_l_ref           8.09\n",
        "I_o_ref      5.746e-10\n",
        "R_s              0.381\n",
        "R_sh_ref        300.96\n",
        "Adjust             6.7\n",
        "Gamma_r         -0.453\n",
        "Source      Multi-c-Si\n",
        "Name: SolarWorld_SW220_Poly, dtype: object"
       ]
      }
     ],
     "prompt_number": 154
    },
    {
     "cell_type": "code",
     "collapsed": false,
     "input": [],
     "language": "python",
     "metadata": {},
     "outputs": []
    }
   ],
   "metadata": {}
  }
 ]
}