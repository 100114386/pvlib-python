{
 "metadata": {
  "name": ""
 },
 "nbformat": 3,
 "nbformat_minor": 0,
 "worksheets": [
  {
   "cells": [
    {
     "cell_type": "heading",
     "level": 1,
     "metadata": {},
     "source": [
      "import pvlib library"
     ]
    },
    {
     "cell_type": "code",
     "collapsed": false,
     "input": [
      "import sys\n",
      "import os\n",
      "sys.path.append(os.path.abspath('../')) #append the parent directory to the system path\n",
      "import pvlib\n",
      "import pandas as pd "
     ],
     "language": "python",
     "metadata": {},
     "outputs": [],
     "prompt_number": 1
    },
    {
     "cell_type": "heading",
     "level": 1,
     "metadata": {},
     "source": [
      "Import TMY data"
     ]
    },
    {
     "cell_type": "heading",
     "level": 2,
     "metadata": {},
     "source": [
      "Use Sandia standard data "
     ]
    },
    {
     "cell_type": "code",
     "collapsed": false,
     "input": [
      "\n",
      "fname='723650TY.csv' #Use absolute path if the file is not in the local directory\n",
      "TMY, meta=pvlib.pvl_readtmy3(FileName=fname)"
     ],
     "language": "python",
     "metadata": {},
     "outputs": [],
     "prompt_number": 2
    },
    {
     "cell_type": "code",
     "collapsed": false,
     "input": [
      "meta.SurfTilt=30\n",
      "meta.SurfAz=0\n",
      "meta.Albedo=0.2"
     ],
     "language": "python",
     "metadata": {},
     "outputs": [],
     "prompt_number": 3
    },
    {
     "cell_type": "code",
     "collapsed": false,
     "input": [
      "print meta.State\n",
      "print meta.longitude"
     ],
     "language": "python",
     "metadata": {},
     "outputs": [
      {
       "output_type": "stream",
       "stream": "stdout",
       "text": [
        "NM\n",
        "-106.62\n"
       ]
      }
     ],
     "prompt_number": 4
    },
    {
     "cell_type": "heading",
     "level": 2,
     "metadata": {},
     "source": [
      "Define date range of interest for graphing"
     ]
    },
    {
     "cell_type": "code",
     "collapsed": false,
     "input": [
      "month=3\n",
      "day=26\n",
      "hour=0\n",
      "periods=128\n",
      "freq='H'\n",
      "rng=pd.date_range(datetime.datetime(year=min(TMY.index.year),month=month,day=day,hour=hour),periods=periods,freq=freq)\n",
      "rng                "
     ],
     "language": "python",
     "metadata": {},
     "outputs": [
      {
       "metadata": {},
       "output_type": "pyout",
       "prompt_number": 5,
       "text": [
        "<class 'pandas.tseries.index.DatetimeIndex'>\n",
        "[1981-03-26 00:00:00, ..., 1981-03-31 07:00:00]\n",
        "Length: 128, Freq: H, Timezone: None"
       ]
      }
     ],
     "prompt_number": 5
    },
    {
     "cell_type": "heading",
     "level": 1,
     "metadata": {},
     "source": [
      "Get solar angles"
     ]
    },
    {
     "cell_type": "code",
     "collapsed": false,
     "input": [],
     "language": "python",
     "metadata": {},
     "outputs": [],
     "prompt_number": 5
    },
    {
     "cell_type": "code",
     "collapsed": false,
     "input": [
      "#Using Ephemeris Calculations\n",
      "TMY['SunAz'],TMY['SunEl'],TMY['ApparentSunEl'],TMY['SolarTime'], TMY['SunZen']=pvlib.pvl_ephemeris(Time=TMY.index,Location=meta)\n",
      "#Using NRELS SPA Calculations\n",
      "TMY['SunAz_spa'],TMY['SunEl_spa'],TMY['SunZen_spa']=pvlib.pvl_spa(Time=TMY.index,Location=meta)\n",
      "\n"
     ],
     "language": "python",
     "metadata": {},
     "outputs": [
      {
       "output_type": "stream",
       "stream": "stdout",
       "text": [
        "> /Users/robandrews/Dropbox/My_Documents/Documents/Projects/Code/PVLIB/PVLIB_Python/pvlib/pvl_spa.py(57)pvl_spa()\n",
        "-> try:\n"
       ]
      },
      {
       "name": "stdout",
       "output_type": "stream",
       "stream": "stdout",
       "text": [
        "(Pdb) c\n"
       ]
      }
     ],
     "prompt_number": 6
    },
    {
     "cell_type": "code",
     "collapsed": false,
     "input": [
      "clf()\n",
      "plot(TMY.index,TMY.SunAz)\n",
      "plot(TMY.index,TMY.SunAz_spa)\n",
      "plot(TMY.index,TMY.SunEl,label='eph')\n",
      "plot(TMY.index,TMY.SunEl_spa,label='spa')\n",
      "legend()"
     ],
     "language": "python",
     "metadata": {},
     "outputs": [
      {
       "metadata": {},
       "output_type": "pyout",
       "prompt_number": 8,
       "text": [
        "<matplotlib.legend.Legend at 0x10b860510>"
       ]
      }
     ],
     "prompt_number": 8
    },
    {
     "cell_type": "code",
     "collapsed": false,
     "input": [
      "plot(TMY.index[rng],TMY.SunAz[rng],label='Azimuth_eph')\n",
      "plot(TMY.index[rng],TMY.SunEl[rng],label='Zenith_eph')\n",
      "plot(TMY.index[rng],TMY.SunAz_spa[rng],label='Azimuth_spa')\n",
      "plot(TMY.index[rng],TMY.SunEl_spa[rng],label='Azimuth_eph')\n"
     ],
     "language": "python",
     "metadata": {},
     "outputs": [
      {
       "ename": "IndexError",
       "evalue": "arrays used as indices must be of integer (or boolean) type",
       "output_type": "pyerr",
       "traceback": [
        "\u001b[0;31m---------------------------------------------------------------------------\u001b[0m\n\u001b[0;31mIndexError\u001b[0m                                Traceback (most recent call last)",
        "\u001b[0;32m<ipython-input-73-721e9a551145>\u001b[0m in \u001b[0;36m<module>\u001b[0;34m()\u001b[0m\n\u001b[0;32m----> 1\u001b[0;31m \u001b[0mplot\u001b[0m\u001b[0;34m(\u001b[0m\u001b[0mTMY\u001b[0m\u001b[0;34m.\u001b[0m\u001b[0mindex\u001b[0m\u001b[0;34m[\u001b[0m\u001b[0mrng\u001b[0m\u001b[0;34m]\u001b[0m\u001b[0;34m,\u001b[0m\u001b[0mTMY\u001b[0m\u001b[0;34m.\u001b[0m\u001b[0mSunAz\u001b[0m\u001b[0;34m.\u001b[0m\u001b[0mix\u001b[0m\u001b[0;34m[\u001b[0m\u001b[0mrng\u001b[0m\u001b[0;34m]\u001b[0m\u001b[0;34m,\u001b[0m\u001b[0mlabel\u001b[0m\u001b[0;34m=\u001b[0m\u001b[0;34m'Azimuth_eph'\u001b[0m\u001b[0;34m)\u001b[0m\u001b[0;34m\u001b[0m\u001b[0m\n\u001b[0m\u001b[1;32m      2\u001b[0m \u001b[0mplot\u001b[0m\u001b[0;34m(\u001b[0m\u001b[0mTMY\u001b[0m\u001b[0;34m.\u001b[0m\u001b[0mindex\u001b[0m\u001b[0;34m[\u001b[0m\u001b[0mrng\u001b[0m\u001b[0;34m]\u001b[0m\u001b[0;34m,\u001b[0m\u001b[0mTMY\u001b[0m\u001b[0;34m.\u001b[0m\u001b[0mSunEl\u001b[0m\u001b[0;34m[\u001b[0m\u001b[0mrng\u001b[0m\u001b[0;34m]\u001b[0m\u001b[0;34m,\u001b[0m\u001b[0mlabel\u001b[0m\u001b[0;34m=\u001b[0m\u001b[0;34m'Zenith_eph'\u001b[0m\u001b[0;34m)\u001b[0m\u001b[0;34m\u001b[0m\u001b[0m\n\u001b[1;32m      3\u001b[0m \u001b[0mplot\u001b[0m\u001b[0;34m(\u001b[0m\u001b[0mTMY\u001b[0m\u001b[0;34m.\u001b[0m\u001b[0mindex\u001b[0m\u001b[0;34m[\u001b[0m\u001b[0mrng\u001b[0m\u001b[0;34m]\u001b[0m\u001b[0;34m,\u001b[0m\u001b[0mTMY\u001b[0m\u001b[0;34m.\u001b[0m\u001b[0mSunAz_spa\u001b[0m\u001b[0;34m[\u001b[0m\u001b[0mrng\u001b[0m\u001b[0;34m]\u001b[0m\u001b[0;34m,\u001b[0m\u001b[0mlabel\u001b[0m\u001b[0;34m=\u001b[0m\u001b[0;34m'Azimuth_spa'\u001b[0m\u001b[0;34m)\u001b[0m\u001b[0;34m\u001b[0m\u001b[0m\n\u001b[1;32m      4\u001b[0m \u001b[0mplot\u001b[0m\u001b[0;34m(\u001b[0m\u001b[0mTMY\u001b[0m\u001b[0;34m.\u001b[0m\u001b[0mindex\u001b[0m\u001b[0;34m[\u001b[0m\u001b[0mrng\u001b[0m\u001b[0;34m]\u001b[0m\u001b[0;34m,\u001b[0m\u001b[0mTMY\u001b[0m\u001b[0;34m.\u001b[0m\u001b[0mSunEl_spa\u001b[0m\u001b[0;34m[\u001b[0m\u001b[0mrng\u001b[0m\u001b[0;34m]\u001b[0m\u001b[0;34m,\u001b[0m\u001b[0mlabel\u001b[0m\u001b[0;34m=\u001b[0m\u001b[0;34m'Azimuth_eph'\u001b[0m\u001b[0;34m)\u001b[0m\u001b[0;34m\u001b[0m\u001b[0m\n",
        "\u001b[0;32m/usr/local/Cellar/python/2.7.5/Frameworks/Python.framework/Versions/2.7/lib/python2.7/site-packages/pandas/tseries/index.pyc\u001b[0m in \u001b[0;36m__getitem__\u001b[0;34m(self, key)\u001b[0m\n\u001b[1;32m   1358\u001b[0m                     \u001b[0mnew_offset\u001b[0m \u001b[0;34m=\u001b[0m \u001b[0mself\u001b[0m\u001b[0;34m.\u001b[0m\u001b[0moffset\u001b[0m\u001b[0;34m\u001b[0m\u001b[0m\n\u001b[1;32m   1359\u001b[0m \u001b[0;34m\u001b[0m\u001b[0m\n\u001b[0;32m-> 1360\u001b[0;31m             \u001b[0mresult\u001b[0m \u001b[0;34m=\u001b[0m \u001b[0marr_idx\u001b[0m\u001b[0;34m[\u001b[0m\u001b[0mkey\u001b[0m\u001b[0;34m]\u001b[0m\u001b[0;34m\u001b[0m\u001b[0m\n\u001b[0m\u001b[1;32m   1361\u001b[0m             \u001b[0;32mif\u001b[0m \u001b[0mresult\u001b[0m\u001b[0;34m.\u001b[0m\u001b[0mndim\u001b[0m \u001b[0;34m>\u001b[0m \u001b[0;36m1\u001b[0m\u001b[0;34m:\u001b[0m\u001b[0;34m\u001b[0m\u001b[0m\n\u001b[1;32m   1362\u001b[0m                 \u001b[0;32mreturn\u001b[0m \u001b[0mresult\u001b[0m\u001b[0;34m\u001b[0m\u001b[0m\n",
        "\u001b[0;31mIndexError\u001b[0m: arrays used as indices must be of integer (or boolean) type"
       ]
      }
     ],
     "prompt_number": 73
    },
    {
     "cell_type": "heading",
     "level": 1,
     "metadata": {},
     "source": [
      "Calculate Extraterrestrial Irradiaion and AirMass"
     ]
    },
    {
     "cell_type": "code",
     "collapsed": false,
     "input": [
      "\n",
      "TMY['HExtra']=pvlib.pvl_extraradiation(doy=TMY.index.dayofyear)\n",
      "\n",
      "TMY['AM']=pvlib.pvl_relativeairmass(z=TMY.SunZen)"
     ],
     "language": "python",
     "metadata": {},
     "outputs": [],
     "prompt_number": 18
    },
    {
     "cell_type": "heading",
     "level": 1,
     "metadata": {},
     "source": [
      "Generate Clear Sky and DNI"
     ]
    },
    {
     "cell_type": "code",
     "collapsed": false,
     "input": [
      "\n",
      "DFOut=pvlib.pvl_disc(Time=TMY.index,GHI=TMY.GHI, SunZen=TMY.SunZen)\n",
      "\n",
      "TMY['DNI_gen_DISC']=DFOut['DNI_gen_DISC']\n",
      "TMY['Kt_gen_DISC']=DFOut['Kt_gen_DISC']\n",
      "TMY['AM']=DFOut['AM']\n",
      "TMY['Ztemp']=DFOut['Ztemp']\n"
     ],
     "language": "python",
     "metadata": {},
     "outputs": [],
     "prompt_number": 19
    },
    {
     "cell_type": "heading",
     "level": 1,
     "metadata": {},
     "source": [
      "Plane Transformation"
     ]
    },
    {
     "cell_type": "code",
     "collapsed": false,
     "input": [
      "\n",
      "TMY['In_Plane_SkyDiffuse']=pvlib.pvl_perez(SurfTilt=meta.SurfTilt,\n",
      "                                            SurfAz=meta.SurfAz,\n",
      "                                            DHI=TMY.DHI,\n",
      "                                            DNI=TMY.DNI,\n",
      "                                            HExtra=TMY.HExtra,\n",
      "                                            SunZen=TMY.SunZen,\n",
      "                                            SunAz=TMY.SunAz,\n",
      "                                            AM=TMY.AM)\n"
     ],
     "language": "python",
     "metadata": {},
     "outputs": [],
     "prompt_number": 20
    },
    {
     "cell_type": "heading",
     "level": 1,
     "metadata": {},
     "source": [
      "Ground Diffuse reflection"
     ]
    },
    {
     "cell_type": "code",
     "collapsed": false,
     "input": [
      "\n",
      "TMY['GR']=pvlib.pvl_grounddiffuse(GHI=TMY.GHI,Albedo=meta.Albedo,SurfTilt=meta.SurfTilt)"
     ],
     "language": "python",
     "metadata": {},
     "outputs": [],
     "prompt_number": 21
    },
    {
     "cell_type": "heading",
     "level": 1,
     "metadata": {},
     "source": [
      "Get AOI"
     ]
    },
    {
     "cell_type": "code",
     "collapsed": false,
     "input": [
      "\n",
      "TMY['AOI']=pvlib.pvl_getaoi(SunAz=TMY.SunAz,SunZen=TMY.SunZen,SurfTilt=meta.SurfTilt,SurfAz=meta.SurfAz)"
     ],
     "language": "python",
     "metadata": {},
     "outputs": [],
     "prompt_number": 22
    },
    {
     "cell_type": "heading",
     "level": 1,
     "metadata": {},
     "source": [
      "Calculate Global in-plane"
     ]
    },
    {
     "cell_type": "code",
     "collapsed": false,
     "input": [
      "\n",
      "TMY['E'],TMY['Eb'],TMY['EDiff']=pvlib.pvl_globalinplane(AOI=TMY.AOI,\n",
      "                                DNI=TMY.DNI,\n",
      "                                In_Plane_SkyDiffuse=TMY.In_Plane_SkyDiffuse,\n",
      "                                GR=TMY.GR,\n",
      "                                SurfTilt=meta.SurfTilt,\n",
      "                                SurfAz=meta.SurfAz)\n",
      "\n"
     ],
     "language": "python",
     "metadata": {},
     "outputs": [],
     "prompt_number": 23
    },
    {
     "cell_type": "heading",
     "level": 1,
     "metadata": {},
     "source": [
      "Calculate Cell Temperature"
     ]
    },
    {
     "cell_type": "code",
     "collapsed": false,
     "input": [
      "\n",
      "TMY['Tcell'],TMY['Tmodule']=pvlib.pvl_sapmcelltemp(E=TMY.E,\n",
      "                            Wspd=TMY.Wspd,\n",
      "                            Tamb=TMY.DryBulb)\n",
      "\n",
      "\n",
      "\n"
     ],
     "language": "python",
     "metadata": {},
     "outputs": [],
     "prompt_number": 24
    },
    {
     "cell_type": "heading",
     "level": 1,
     "metadata": {},
     "source": [
      "Import module coefficients"
     ]
    },
    {
     "cell_type": "code",
     "collapsed": false,
     "input": [
      "\n",
      "moddb=pvlib.pvl_retreiveSAM(name='SandiaMod',FileLoc='/Users/robandrews/Dropbox/My_Documents/Documents/Projects/Code/PVLIB/PVLIB_Matlab/EXAMPLES/Example Data/SandiaModuleDatabase_20120925.csv')\n",
      "module=moddb.Canadian_Solar_CS5P_220M\n",
      "module"
     ],
     "language": "python",
     "metadata": {},
     "outputs": [
      {
       "metadata": {},
       "output_type": "pyout",
       "prompt_number": 55,
       "text": [
        "Vintage                     2009\n",
        "Module Area [m^2]          1.701\n",
        "Material                    c-Si\n",
        "#Series                       96\n",
        "Parallel C-S                   1\n",
        "Isco                       5.091\n",
        "Voco                      59.261\n",
        "Impo                       4.546\n",
        "Vmpo                      48.316\n",
        "Aisc                    0.000397\n",
        "Aimp                    0.000181\n",
        "C0                        1.0128\n",
        "C1                       -0.0128\n",
        "Bvoco                     -0.217\n",
        "Mbvoc                          0\n",
        "Bvmpo                    -0.2355\n",
        "Mbvmp                          0\n",
        "N                          1.403\n",
        "C2                      0.279317\n",
        "C3                      -7.24463\n",
        "A0                         0.928\n",
        "A1                    0.06809299\n",
        "A2                   -0.01577382\n",
        "A3                   0.001660604\n",
        "A4                     -6.93e-05\n",
        "B0                             1\n",
        "B1                     -0.002438\n",
        "B2                     0.0003103\n",
        "B3                     -1.25e-05\n",
        "B4                      2.11e-07\n",
        "B5                     -1.36e-09\n",
        "d(Tc)                          3\n",
        "FD                             1\n",
        "a                         -3.406\n",
        "b                         -0.084\n",
        "C4                        0.9964\n",
        "C5                        0.0036\n",
        "IXO                         4.98\n",
        "IXXO                        3.19\n",
        "C6                        1.1554\n",
        "C7                       -0.1554\n",
        "Data source                    1\n",
        "Name: Canadian_Solar_CS5P_220M, dtype: object"
       ]
      }
     ],
     "prompt_number": 55
    },
    {
     "cell_type": "heading",
     "level": 1,
     "metadata": {},
     "source": [
      "\n",
      "import inverter coefficients"
     ]
    },
    {
     "cell_type": "code",
     "collapsed": false,
     "input": [
      "Invdb=pvlib.pvl_retreiveSAM(name='SandiaInverter',FileLoc='/Users/robandrews/Dropbox/My_Documents/Documents/Projects/Code/PVLIB/PVLIB_Matlab/EXAMPLES/Example Data/Inverters_2012.1.12.csv')\n",
      "inverter=Invdb.Eaton\n",
      "inverter"
     ],
     "language": "python",
     "metadata": {},
     "outputs": [
      {
       "metadata": {},
       "output_type": "pyout",
       "prompt_number": 56,
       "text": [
        "ID            S-Max 250KW - SM1003\n",
        "Source                         CEC\n",
        "ac Voltage                     480\n",
        "Vintage                       2011\n",
        "Paco                        250000\n",
        "Pdco                      259963.2\n",
        "Vdco                       342.355\n",
        "Pso                       1327.948\n",
        "Co                    -5.06828e-08\n",
        "C1                     5.25412e-05\n",
        "C2                     0.001102559\n",
        "C3                     0.000651406\n",
        "Pnt                          69.32\n",
        "Vdcmax                         600\n",
        "Idcmax                         820\n",
        "MPPT-Low                       320\n",
        "MPPT-Hi                        500\n",
        "Tamb Low                       -20\n",
        "Tamb Max                        50\n",
        "Weight                        2850\n",
        "Unique ID#                     679\n",
        "Name: Eaton, dtype: object"
       ]
      }
     ],
     "prompt_number": 56
    },
    {
     "cell_type": "heading",
     "level": 1,
     "metadata": {},
     "source": [
      "Sandia Model"
     ]
    },
    {
     "cell_type": "code",
     "collapsed": false,
     "input": [
      "\n",
      "DFOut=pvlib.pvl_sapm(Eb=TMY['Eb'],\n",
      "                    Ediff=TMY['EDiff'],\n",
      "                    Tcell=TMY['Tcell'],\n",
      "                    AM=TMY['AM'],\n",
      "                    AOI=TMY['AOI'],\n",
      "                    Module=module)\n",
      "\n",
      "TMY['Imp']=DFOut['Imp']\n",
      "TMY['Voc']=DFOut['Voc']\n",
      "TMY['Vmp']=DFOut['Vmp']\n",
      "TMY['Pmp']=DFOut['Pmp']\n",
      "TMY['Ix']=DFOut['Ix']\n",
      "TMY['Ixx']=DFOut['Ixx']"
     ],
     "language": "python",
     "metadata": {},
     "outputs": [],
     "prompt_number": 57
    },
    {
     "cell_type": "heading",
     "level": 1,
     "metadata": {},
     "source": [
      "Single Diode Model"
     ]
    },
    {
     "cell_type": "code",
     "collapsed": false,
     "input": [
      "\n",
      "moddb=pvlib.pvl_retreiveSAM(name='CECMod')\n",
      "module=moddb.Canadian_Solar_CS5P_220P\n",
      "\n",
      "IL,I0,Rs,Rsh,nNsVth=pvlib.pvl_calcparams_desoto(S=TMY.GHI,\n",
      "                                               Tcell=TMY.DryBulb,\n",
      "                                               alpha_isc=.003,\n",
      "                                               ModuleParameters=module,\n",
      "                                               EgRef=1.121,\n",
      "                                               dEgdT= -0.0002677)\n",
      "\n",
      "\n",
      "DFout= pvlib.pvl_singlediode(Module=module,\n",
      "                               IL=IL,\n",
      "                               I0=I0,\n",
      "                               Rs=Rs,\n",
      "                               Rsh=Rsh,\n",
      "                               nNsVth=nNsVth)\n",
      "\n",
      "\n",
      "TMY['sd_Imp']=DFOut['Imp']\n",
      "TMY['sd_Voc']=DFOut['Voc']\n",
      "TMY['sd_Vmp']=DFOut['Vmp']\n",
      "TMY['sd_Pmp']=DFOut['Pmp']\n",
      "TMY['sd_Ix']=DFOut['Ix']\n",
      "TMY['sd_Ixx']=DFOut['Ixx']           "
     ],
     "language": "python",
     "metadata": {},
     "outputs": [],
     "prompt_number": 20
    },
    {
     "cell_type": "heading",
     "level": 1,
     "metadata": {},
     "source": [
      "Inverter Model"
     ]
    },
    {
     "cell_type": "code",
     "collapsed": false,
     "input": [
      "\n",
      "TMY['ACPower']=pvlib.pvl_snlinverter(Vmp=TMY.Vmp,Pmp=TMY.Pmp,Inverter=inverter)\n",
      "\n"
     ],
     "language": "python",
     "metadata": {},
     "outputs": [
      {
       "ename": "KeyError",
       "evalue": "'C0'",
       "output_type": "pyerr",
       "traceback": [
        "\u001b[0;31m---------------------------------------------------------------------------\u001b[0m\n\u001b[0;31mKeyError\u001b[0m                                  Traceback (most recent call last)",
        "\u001b[0;32m<ipython-input-58-4b5960aaedfc>\u001b[0m in \u001b[0;36m<module>\u001b[0;34m()\u001b[0m\n\u001b[1;32m      1\u001b[0m \u001b[0;34m\u001b[0m\u001b[0m\n\u001b[0;32m----> 2\u001b[0;31m \u001b[0mTMY\u001b[0m\u001b[0;34m[\u001b[0m\u001b[0;34m'ACPower'\u001b[0m\u001b[0;34m]\u001b[0m\u001b[0;34m=\u001b[0m\u001b[0mpvlib\u001b[0m\u001b[0;34m.\u001b[0m\u001b[0mpvl_snlinverter\u001b[0m\u001b[0;34m(\u001b[0m\u001b[0mVmp\u001b[0m\u001b[0;34m=\u001b[0m\u001b[0mTMY\u001b[0m\u001b[0;34m.\u001b[0m\u001b[0mVmp\u001b[0m\u001b[0;34m,\u001b[0m\u001b[0mPmp\u001b[0m\u001b[0;34m=\u001b[0m\u001b[0mTMY\u001b[0m\u001b[0;34m.\u001b[0m\u001b[0mPmp\u001b[0m\u001b[0;34m,\u001b[0m\u001b[0mInverter\u001b[0m\u001b[0;34m=\u001b[0m\u001b[0minverter\u001b[0m\u001b[0;34m)\u001b[0m\u001b[0;34m\u001b[0m\u001b[0m\n\u001b[0m\u001b[1;32m      3\u001b[0m \u001b[0;34m\u001b[0m\u001b[0m\n",
        "\u001b[0;32m/Users/robandrews/Dropbox/My_Documents/Documents/Projects/Code/PVLIB/PVLIB_Python/pvlib/pvl_snlinverter.pyc\u001b[0m in \u001b[0;36mpvl_snlinverter\u001b[0;34m(Inverter, Vmp, Pmp)\u001b[0m\n\u001b[1;32m     92\u001b[0m   \u001b[0mVdco\u001b[0m\u001b[0;34m=\u001b[0m\u001b[0mvar\u001b[0m\u001b[0;34m.\u001b[0m\u001b[0mInverter\u001b[0m\u001b[0;34m[\u001b[0m\u001b[0;34m'Vdco'\u001b[0m\u001b[0;34m]\u001b[0m\u001b[0;34m\u001b[0m\u001b[0m\n\u001b[1;32m     93\u001b[0m   \u001b[0mPso\u001b[0m\u001b[0;34m=\u001b[0m\u001b[0mvar\u001b[0m\u001b[0;34m.\u001b[0m\u001b[0mInverter\u001b[0m\u001b[0;34m[\u001b[0m\u001b[0;34m'Pso'\u001b[0m\u001b[0;34m]\u001b[0m\u001b[0;34m\u001b[0m\u001b[0m\n\u001b[0;32m---> 94\u001b[0;31m   \u001b[0mC0\u001b[0m\u001b[0;34m=\u001b[0m\u001b[0mvar\u001b[0m\u001b[0;34m.\u001b[0m\u001b[0mInverter\u001b[0m\u001b[0;34m[\u001b[0m\u001b[0;34m'C0'\u001b[0m\u001b[0;34m]\u001b[0m\u001b[0;34m\u001b[0m\u001b[0m\n\u001b[0m\u001b[1;32m     95\u001b[0m   \u001b[0mC1\u001b[0m\u001b[0;34m=\u001b[0m\u001b[0mvar\u001b[0m\u001b[0;34m.\u001b[0m\u001b[0mInverter\u001b[0m\u001b[0;34m[\u001b[0m\u001b[0;34m'C1'\u001b[0m\u001b[0;34m]\u001b[0m\u001b[0;34m\u001b[0m\u001b[0m\n\u001b[1;32m     96\u001b[0m   \u001b[0mC2\u001b[0m\u001b[0;34m=\u001b[0m\u001b[0mvar\u001b[0m\u001b[0;34m.\u001b[0m\u001b[0mInverter\u001b[0m\u001b[0;34m[\u001b[0m\u001b[0;34m'C2'\u001b[0m\u001b[0;34m]\u001b[0m\u001b[0;34m\u001b[0m\u001b[0m\n",
        "\u001b[0;32m/usr/local/Cellar/python/2.7.5/Frameworks/Python.framework/Versions/2.7/lib/python2.7/site-packages/pandas/core/series.pyc\u001b[0m in \u001b[0;36m__getitem__\u001b[0;34m(self, key)\u001b[0m\n\u001b[1;32m    489\u001b[0m     \u001b[0;32mdef\u001b[0m \u001b[0m__getitem__\u001b[0m\u001b[0;34m(\u001b[0m\u001b[0mself\u001b[0m\u001b[0;34m,\u001b[0m \u001b[0mkey\u001b[0m\u001b[0;34m)\u001b[0m\u001b[0;34m:\u001b[0m\u001b[0;34m\u001b[0m\u001b[0m\n\u001b[1;32m    490\u001b[0m         \u001b[0;32mtry\u001b[0m\u001b[0;34m:\u001b[0m\u001b[0;34m\u001b[0m\u001b[0m\n\u001b[0;32m--> 491\u001b[0;31m             \u001b[0mresult\u001b[0m \u001b[0;34m=\u001b[0m \u001b[0mself\u001b[0m\u001b[0;34m.\u001b[0m\u001b[0mindex\u001b[0m\u001b[0;34m.\u001b[0m\u001b[0mget_value\u001b[0m\u001b[0;34m(\u001b[0m\u001b[0mself\u001b[0m\u001b[0;34m,\u001b[0m \u001b[0mkey\u001b[0m\u001b[0;34m)\u001b[0m\u001b[0;34m\u001b[0m\u001b[0m\n\u001b[0m\u001b[1;32m    492\u001b[0m             \u001b[0;32mif\u001b[0m \u001b[0misinstance\u001b[0m\u001b[0;34m(\u001b[0m\u001b[0mresult\u001b[0m\u001b[0;34m,\u001b[0m \u001b[0mnp\u001b[0m\u001b[0;34m.\u001b[0m\u001b[0mndarray\u001b[0m\u001b[0;34m)\u001b[0m\u001b[0;34m:\u001b[0m\u001b[0;34m\u001b[0m\u001b[0m\n\u001b[1;32m    493\u001b[0m                 \u001b[0;32mreturn\u001b[0m \u001b[0mself\u001b[0m\u001b[0;34m.\u001b[0m\u001b[0m_constructor\u001b[0m\u001b[0;34m(\u001b[0m\u001b[0mresult\u001b[0m\u001b[0;34m,\u001b[0m\u001b[0mindex\u001b[0m\u001b[0;34m=\u001b[0m\u001b[0;34m[\u001b[0m\u001b[0mkey\u001b[0m\u001b[0;34m]\u001b[0m\u001b[0;34m*\u001b[0m\u001b[0mlen\u001b[0m\u001b[0;34m(\u001b[0m\u001b[0mresult\u001b[0m\u001b[0;34m)\u001b[0m\u001b[0;34m)\u001b[0m\u001b[0;34m.\u001b[0m\u001b[0m__finalize__\u001b[0m\u001b[0;34m(\u001b[0m\u001b[0mself\u001b[0m\u001b[0;34m)\u001b[0m\u001b[0;34m\u001b[0m\u001b[0m\n",
        "\u001b[0;32m/usr/local/Cellar/python/2.7.5/Frameworks/Python.framework/Versions/2.7/lib/python2.7/site-packages/pandas/core/index.pyc\u001b[0m in \u001b[0;36mget_value\u001b[0;34m(self, series, key)\u001b[0m\n\u001b[1;32m   1044\u001b[0m                     \u001b[0;32mraise\u001b[0m \u001b[0mInvalidIndexError\u001b[0m\u001b[0;34m(\u001b[0m\u001b[0mkey\u001b[0m\u001b[0;34m)\u001b[0m\u001b[0;34m\u001b[0m\u001b[0m\n\u001b[1;32m   1045\u001b[0m                 \u001b[0;32melse\u001b[0m\u001b[0;34m:\u001b[0m\u001b[0;34m\u001b[0m\u001b[0m\n\u001b[0;32m-> 1046\u001b[0;31m                     \u001b[0;32mraise\u001b[0m \u001b[0me1\u001b[0m\u001b[0;34m\u001b[0m\u001b[0m\n\u001b[0m\u001b[1;32m   1047\u001b[0m             \u001b[0;32mexcept\u001b[0m \u001b[0mException\u001b[0m\u001b[0;34m:\u001b[0m  \u001b[0;31m# pragma: no cover\u001b[0m\u001b[0;34m\u001b[0m\u001b[0m\n\u001b[1;32m   1048\u001b[0m                 \u001b[0;32mraise\u001b[0m \u001b[0me1\u001b[0m\u001b[0;34m\u001b[0m\u001b[0m\n",
        "\u001b[0;31mKeyError\u001b[0m: 'C0'"
       ]
      }
     ],
     "prompt_number": 58
    },
    {
     "cell_type": "code",
     "collapsed": false,
     "input": [],
     "language": "python",
     "metadata": {},
     "outputs": []
    }
   ],
   "metadata": {}
  }
 ]
}