{
 "metadata": {
  "name": ""
 },
 "nbformat": 3,
 "nbformat_minor": 0,
 "worksheets": [
  {
   "cells": [
    {
     "cell_type": "code",
     "collapsed": false,
     "input": [
      "import sys\n",
      "import os\n",
      "sys.path.append(os.path.abspath('../')) #append the parent directory to the system path\n",
      "import pvlib\n",
      "import pandas as pd "
     ],
     "language": "python",
     "metadata": {},
     "outputs": [],
     "prompt_number": 1
    },
    {
     "cell_type": "code",
     "collapsed": false,
     "input": [
      "\n",
      "fname='723650TY.csv' #Use absolute path if the file is not in the local directory\n",
      "#fname='725280TY.csv'\n",
      "TMY, meta=pvlib.pvl_readtmy3(FileName=fname)\n",
      "meta.SurfTilt=30\n",
      "meta.SurfAz=0\n",
      "meta.Albedo=0.2"
     ],
     "language": "python",
     "metadata": {},
     "outputs": [],
     "prompt_number": 3
    },
    {
     "cell_type": "heading",
     "level": 1,
     "metadata": {},
     "source": [
      "Retreive required parameters"
     ]
    },
    {
     "cell_type": "code",
     "collapsed": false,
     "input": [
      "#Using Ephemeris Calculations\n",
      "TMY['SunAz'],TMY['SunEl'],TMY['ApparentSunEl'],TMY['SolarTime'], TMY['SunZen']=pvlib.pvl_ephemeris(Time=TMY.index,Location=meta)\n",
      "\n",
      "TMY['HExtra']=pvlib.pvl_extraradiation(doy=TMY.index.dayofyear)\n",
      "\n",
      "TMY['AM']=pvlib.pvl_relativeairmass(z=TMY.SunZen)\n",
      "\n",
      "DFOut=pvlib.pvl_disc(Time=TMY.index,GHI=TMY.GHI, SunZen=TMY.SunZen)\n",
      "\n",
      "TMY['DNI_gen_DISC']=DFOut['DNI_gen_DISC']\n",
      "TMY['Kt_gen_DISC']=DFOut['Kt_gen_DISC']\n",
      "TMY['AM']=DFOut['AM']\n",
      "TMY['Ztemp']=DFOut['Ztemp']\n"
     ],
     "language": "python",
     "metadata": {},
     "outputs": [],
     "prompt_number": 4
    },
    {
     "cell_type": "heading",
     "level": 1,
     "metadata": {},
     "source": [
      "Perez"
     ]
    },
    {
     "cell_type": "code",
     "collapsed": false,
     "input": [
      "TMY['In_Plane_SkyDiffuse_perez']=pvlib.pvl_perez(SurfTilt=meta.SurfTilt,\n",
      "                                            SurfAz=meta.SurfAz,\n",
      "                                            DHI=TMY.DHI,\n",
      "                                            DNI=TMY.DNI,\n",
      "                                            HExtra=TMY.HExtra,\n",
      "                                            SunZen=TMY.SunZen,\n",
      "                                            SunAz=TMY.SunAz,\n",
      "                                            AM=TMY.AM)"
     ],
     "language": "python",
     "metadata": {},
     "outputs": [],
     "prompt_number": 5
    },
    {
     "cell_type": "heading",
     "level": 2,
     "metadata": {},
     "source": [
      "HayDavies"
     ]
    },
    {
     "cell_type": "code",
     "collapsed": false,
     "input": [
      "TMY['In_Plane_SkyDiffuse_haydavies']=pvlib.pvl_haydavies1980(SurfTilt=meta.SurfTilt,\n",
      "                                            SurfAz=meta.SurfAz,\n",
      "                                            DHI=TMY.DHI,\n",
      "                                            DNI=TMY.DNI,\n",
      "                                            HExtra=TMY.HExtra,\n",
      "                                            SunZen=TMY.SunZen,\n",
      "                                            SunAz=TMY.SunAz)\n",
      "                                "
     ],
     "language": "python",
     "metadata": {},
     "outputs": [],
     "prompt_number": 6
    },
    {
     "cell_type": "heading",
     "level": 2,
     "metadata": {},
     "source": [
      "Isotropic"
     ]
    },
    {
     "cell_type": "code",
     "collapsed": false,
     "input": [
      "TMY['In_Plane_SkyDiffuse_isotropic']=pvlib.pvl_isotropicsky(SurfTilt=meta.SurfTilt,\n",
      "                                            DHI=TMY.DHI,\n",
      "                                            )"
     ],
     "language": "python",
     "metadata": {},
     "outputs": [],
     "prompt_number": 7
    },
    {
     "cell_type": "heading",
     "level": 2,
     "metadata": {},
     "source": [
      "King Diffuse model"
     ]
    },
    {
     "cell_type": "code",
     "collapsed": false,
     "input": [
      "TMY['In_Plane_SkyDiffuse_king']=pvlib.pvl_kingdiffuse(SurfTilt=meta.SurfTilt,\n",
      "                                            DHI=TMY.DHI,\n",
      "                                            GHI=TMY.GHI,\n",
      "                                            SunZen=TMY.SunZen,\n",
      "                                            )"
     ],
     "language": "python",
     "metadata": {},
     "outputs": [],
     "prompt_number": 8
    },
    {
     "cell_type": "heading",
     "level": 2,
     "metadata": {},
     "source": [
      "Klucher Model"
     ]
    },
    {
     "cell_type": "code",
     "collapsed": false,
     "input": [
      "TMY['In_Plane_SkyDiffuse_klucher']=pvlib.pvl_klucher1979(SurfTilt=meta.SurfTilt,\n",
      "                                            SurfAz=meta.SurfAz,\n",
      "                                            DHI=TMY.DHI,\n",
      "                                            GHI=TMY.GHI,\n",
      "                                            SunZen=TMY.SunZen,\n",
      "                                            SunAz=TMY.SunAz)\n",
      "                                "
     ],
     "language": "python",
     "metadata": {},
     "outputs": [],
     "prompt_number": 9
    },
    {
     "cell_type": "heading",
     "level": 2,
     "metadata": {},
     "source": [
      "Reindl"
     ]
    },
    {
     "cell_type": "code",
     "collapsed": false,
     "input": [
      "TMY['In_Plane_SkyDiffuse_Reindl']=pvlib.pvl_reindl1990(SurfTilt=meta.SurfTilt,\n",
      "                                            SurfAz=meta.SurfAz,\n",
      "                                            DHI=TMY.DHI,\n",
      "                                            DNI=TMY.DNI,\n",
      "                                            GHI=TMY.GHI,\n",
      "                                            HExtra=TMY.HExtra,\n",
      "                                            SunZen=TMY.SunZen,\n",
      "                                            SunAz=TMY.SunAz)"
     ],
     "language": "python",
     "metadata": {},
     "outputs": [],
     "prompt_number": 10
    },
    {
     "cell_type": "code",
     "collapsed": false,
     "input": [
      "Yearly = TMY.groupby(TMY.index.year).aggregate(lambda x: float(sum(x)))\n",
      "Monthly = TMY.groupby(TMY.index.month).aggregate(lambda x: float(sum(x)))\n",
      "Daily = TMY.groupby(TMY.index.date).aggregate(lambda x: float(sum(x)))"
     ],
     "language": "python",
     "metadata": {},
     "outputs": [],
     "prompt_number": 11
    },
    {
     "cell_type": "heading",
     "level": 2,
     "metadata": {},
     "source": [
      "Plot Results"
     ]
    },
    {
     "cell_type": "code",
     "collapsed": false,
     "input": [
      "plot(TMY.index,TMY.In_Plane_SkyDiffuse_Reindl,label='Reindl')\n",
      "plot(TMY.index,TMY.In_Plane_SkyDiffuse_haydavies,label='HayDavies')\n",
      "plot(TMY.index,TMY.In_Plane_SkyDiffuse_isotropic,label='Isotropic')\n",
      "plot(TMY.index,TMY.In_Plane_SkyDiffuse_king,label='King')\n",
      "plot(TMY.index,TMY.In_Plane_SkyDiffuse_klucher,label='Klucher')\n",
      "plot(TMY.index,TMY.In_Plane_SkyDiffuse_perez,label='Perez')\n",
      "legend()"
     ],
     "language": "python",
     "metadata": {},
     "outputs": [
      {
       "metadata": {},
       "output_type": "pyout",
       "prompt_number": 12,
       "text": [
        "<matplotlib.legend.Legend at 0x111226b10>"
       ]
      }
     ],
     "prompt_number": 12
    },
    {
     "cell_type": "code",
     "collapsed": false,
     "input": [
      "clf()\n",
      "plot(Daily.index,Daily.In_Plane_SkyDiffuse_Reindl,label='Reindl')\n",
      "plot(Daily.index,Daily.In_Plane_SkyDiffuse_haydavies,label='HayDavies')\n",
      "plot(Daily.index,Daily.In_Plane_SkyDiffuse_isotropic,label='Isotropic')\n",
      "plot(Daily.index,Daily.In_Plane_SkyDiffuse_king,label='King')\n",
      "plot(Daily.index,Daily.In_Plane_SkyDiffuse_klucher,label='Klucher')\n",
      "plot(Daily.index,Daily.In_Plane_SkyDiffuse_perez,label='Perez')\n",
      "legend()"
     ],
     "language": "python",
     "metadata": {},
     "outputs": [
      {
       "metadata": {},
       "output_type": "pyout",
       "prompt_number": 68,
       "text": [
        "<matplotlib.legend.Legend at 0x116cc7c90>"
       ]
      }
     ],
     "prompt_number": 68
    },
    {
     "cell_type": "code",
     "collapsed": false,
     "input": [
      "clf()\n",
      "plot(Monthly.index,Monthly.In_Plane_SkyDiffuse_Reindl,label='Reindl')\n",
      "plot(Monthly.index,Monthly.In_Plane_SkyDiffuse_haydavies,label='HayDavies')\n",
      "plot(Monthly.index,Monthly.In_Plane_SkyDiffuse_isotropic,label='Isotropic')\n",
      "plot(Monthly.index,Monthly.In_Plane_SkyDiffuse_king,label='King')\n",
      "plot(Monthly.index,Monthly.In_Plane_SkyDiffuse_klucher,label='Klucher')\n",
      "plot(Monthly.index,Monthly.In_Plane_SkyDiffuse_perez,label='Perez')\n",
      "legend()"
     ],
     "language": "python",
     "metadata": {},
     "outputs": [
      {
       "metadata": {},
       "output_type": "pyout",
       "prompt_number": 69,
       "text": [
        "<matplotlib.legend.Legend at 0x117f3d950>"
       ]
      }
     ],
     "prompt_number": 69
    },
    {
     "cell_type": "code",
     "collapsed": false,
     "input": [
      "model=('Reindl','Haydavies','Isotropic','king','klucher','perez')\n",
      "Yearly_array=pd.DataFrame(([Yearly.In_Plane_SkyDiffuse_Reindl.ix[TMY.index.year[1]],\n",
      "Yearly.In_Plane_SkyDiffuse_haydavies.ix[TMY.index.year[1]],\n",
      "Yearly.In_Plane_SkyDiffuse_isotropic.ix[TMY.index.year[1]],\n",
      "Yearly.In_Plane_SkyDiffuse_king.ix[TMY.index.year[1]],\n",
      "Yearly.In_Plane_SkyDiffuse_klucher.ix[TMY.index.year[1]],\n",
      "Yearly.In_Plane_SkyDiffuse_perez.ix[TMY.index.year[1]]]),index=model)\n"
     ],
     "language": "python",
     "metadata": {},
     "outputs": [],
     "prompt_number": 70
    },
    {
     "cell_type": "heading",
     "level": 3,
     "metadata": {},
     "source": [
      "Compute the mean deviation from average for each model and display as a function of the model"
     ]
    },
    {
     "cell_type": "code",
     "collapsed": false,
     "input": [
      "mean_yearly=mean(Yearly_array)\n",
      "Yearly_meanerror=(Yearly_array-mean_yearly)/Yearly_array*100\n",
      "plot(Yearly_meanerror)\n",
      "xlabel(model)\n",
      "ylabel('% deviation from mean for diffuse irradiaiton')\n"
     ],
     "language": "python",
     "metadata": {},
     "outputs": [
      {
       "metadata": {},
       "output_type": "pyout",
       "prompt_number": 135,
       "text": [
        "[<matplotlib.lines.Line2D at 0x112494a10>]"
       ]
      }
     ],
     "prompt_number": 135
    },
    {
     "cell_type": "code",
     "collapsed": false,
     "input": [],
     "language": "python",
     "metadata": {},
     "outputs": []
    }
   ],
   "metadata": {}
  }
 ]
}